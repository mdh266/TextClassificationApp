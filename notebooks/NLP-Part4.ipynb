{
 "cells": [
  {
   "cell_type": "markdown",
   "metadata": {
    "colab_type": "text",
    "id": "view-in-github"
   },
   "source": [
    "<a href=\"https://colab.research.google.com/github/mdh266/TextClassificationApp/blob/feature%2Fkeras/NLP_Part4.ipynb\" target=\"_parent\"><img src=\"https://colab.research.google.com/assets/colab-badge.svg\" alt=\"Open In Colab\"/></a>"
   ]
  },
  {
   "cell_type": "markdown",
   "metadata": {},
   "source": [
    "# Text Classification 4: Deep Learning With Tensorflow & Optuna\n",
    "--------------\n",
    "\n",
    "__[1. Introduction](#first-bullet)__\n",
    "\n",
    "__[2. Vectorizing Text](#second-bullet)__\n",
    "\n",
    "__[3. Handling Imbalance In The Data](#third-bullet)__\n",
    "\n",
    "__[4. Building A Convolutional Neural Network With Keras](#fourth-bullet)__\n",
    "\n",
    "__[5. Hyperparameter Tuning with Optuna](#fifth-bullet)__\n",
    "\n",
    "__[6. Next Steps](#sixth-bullet)__\n",
    "\n",
    "\n",
    "## Introduction <a class=\"anchor\" id=\"first-bullet\"></a>\n",
    "------------------\n",
    "\n",
    "In this post I want to extend on the last [model](http://michael-harmon.com/blog/NLP2.html) in my blog series on text classification where I used a SVM to predict the topic of papers in arxiv based on their abstract. For reference the topics were \"Machine Learning\", \"Computer Vision\", \"Artifical Intelligence\" and \"Robotics\" and there was imbalance in the classes.\n",
    "\n",
    "This time I will use a [Convolutional Neural Network (CNN)](https://en.wikipedia.org/wiki/Convolutional_neural_network) model with [Tensorflow](https://www.tensorflow.org/) and [Keras](https://keras.io/) to predict the topic of each paper's abstract and use [Optuna](https://optuna.org/) to optimize the hyperparamters of the model. Keras is a high level library that makes building complex deep learning models relatively and since it can use [Tensorflow](https://www.tensorflow.org/) as a backend, it is a production ready framework. Optuna is powerful automatic hyperparameter tuning library that uses a *define-by-run* design that makes it elegant and easy to use. I have just started using this library and have been particularly impressed with the design which is extremely intuitve. While CNN's are no longer the state-of-the-art algorithms for text classification, they still perform quite well and I wanted to explore how they would work on this problem. I should note that, the point of this isn't to build the most high performing model, but rather to show how these tools fit together to build an end-to-end deep learning model.\n",
    "\n",
    "\n",
    "Before we get started building the model let's quickly go over text vectorization as the process I use in this post is different from prior posts which used the [bag-of-words model](https://en.wikipedia.org/wiki/Bag-of-words_model)."
   ]
  },
  {
   "cell_type": "markdown",
   "metadata": {
    "id": "2dJT9l0K_ly4"
   },
   "source": [
    "## Vectorizing Text <a class=\"anchor\" id=\"second-bullet\"></a>\n",
    "\n",
    "Machine learning models make use of numerical data in the form of vectors that represent the values of their features. The model is really just an approximation to a function that maps the input vectors to the output (which can be a scalar or vector). In order to build machine learning models that use text data we need convert the text to numerical vectors. To do this we use a [Vector Space Model](https://en.wikipedia.org/wiki/Vector_space_model) which repesents words as vectors in the space.\n",
    "\n",
    "In my [first post](http://michael-harmon.com/blog/NLP1.html) in this series I went over a vector space model called  [Bag of Words](https://en.wikipedia.org/wiki/Bag-of-words_model) along with [Term Frequency-Inverse Document Frequency (TF-IDF)](https://en.wikipedia.org/wiki/Tf%E2%80%93idf). While these are a classic representations for text, one of their pifulls is that is often produces sparse high dimensional representations. This combination can be particularly challenging for machine learning models to work with. Another shortcoming of the bag-of-words model is that it does not take into account the order of the words or semantic relationships between words. We'll address these issues later using [Word Embeddings](https://en.wikipedia.org/wiki/Word_embedding), but first we need to discuss how to vectorize text using the TensorFlow [TextVectorization](https://www.tensorflow.org/api_docs/python/tf/keras/layers/TextVectorization) class.  \n",
    "\n",
    "First let's grab our data from [Google Cloud Storage](https://cloud.google.com/storage) where is stored as json objects using [Pandas](https://pandas.pydata.org/)."
   ]
  },
  {
   "cell_type": "code",
   "execution_count": 1,
   "metadata": {},
   "outputs": [],
   "source": [
    "from google.oauth2 import service_account\n",
    "from google.cloud import storage\n",
    "import pandas as pd\n",
    "import matplotlib.pyplot as plt\n",
    "%matplotlib inline\n",
    "\n",
    "\n",
    "train_df = pd.read_json(\"gs://harmon-arxiv/train_abstracts.json\",\n",
    "                        storage_options={\"token\": \"credentials.json\"})\n",
    "    \n",
    "test_df = pd.read_json(\"gs://harmon-arxiv/test_abstracts.json\",\n",
    "                        storage_options={\"token\": \"credentials.json\"})"
   ]
  },
  {
   "cell_type": "markdown",
   "metadata": {},
   "source": [
    "Let's convert the category to numerical values 1, 2, 3, 4 which represent the different abstract topics using the [LabelEncoder](https://scikit-learn.org/stable/modules/generated/sklearn.preprocessing.LabelEncoder.html) function:"
   ]
  },
  {
   "cell_type": "code",
   "execution_count": 5,
   "metadata": {
    "colab": {
     "base_uri": "https://localhost:8080/",
     "height": 206
    },
    "id": "B1jcTPGtM9j_",
    "outputId": "47d7c40e-f7d0-48b5-ecfe-1a2365dd3055"
   },
   "outputs": [
    {
     "data": {
      "text/html": [
       "<div>\n",
       "<style scoped>\n",
       "    .dataframe tbody tr th:only-of-type {\n",
       "        vertical-align: middle;\n",
       "    }\n",
       "\n",
       "    .dataframe tbody tr th {\n",
       "        vertical-align: top;\n",
       "    }\n",
       "\n",
       "    .dataframe thead th {\n",
       "        text-align: right;\n",
       "    }\n",
       "</style>\n",
       "<table border=\"1\" class=\"dataframe\">\n",
       "  <thead>\n",
       "    <tr style=\"text-align: right;\">\n",
       "      <th></th>\n",
       "      <th>category</th>\n",
       "      <th>text</th>\n",
       "      <th>target</th>\n",
       "    </tr>\n",
       "  </thead>\n",
       "  <tbody>\n",
       "    <tr>\n",
       "      <th>0</th>\n",
       "      <td>ai</td>\n",
       "      <td>Because of their occasional need to return to ...</td>\n",
       "      <td>0</td>\n",
       "    </tr>\n",
       "    <tr>\n",
       "      <th>1</th>\n",
       "      <td>ai</td>\n",
       "      <td>Market price systems constitute a well-underst...</td>\n",
       "      <td>0</td>\n",
       "    </tr>\n",
       "    <tr>\n",
       "      <th>2</th>\n",
       "      <td>ai</td>\n",
       "      <td>We describe an extensive study of search in GS...</td>\n",
       "      <td>0</td>\n",
       "    </tr>\n",
       "    <tr>\n",
       "      <th>3</th>\n",
       "      <td>ai</td>\n",
       "      <td>As real logic programmers normally use cut (!)...</td>\n",
       "      <td>0</td>\n",
       "    </tr>\n",
       "    <tr>\n",
       "      <th>4</th>\n",
       "      <td>ai</td>\n",
       "      <td>To support the goal of allowing users to recor...</td>\n",
       "      <td>0</td>\n",
       "    </tr>\n",
       "  </tbody>\n",
       "</table>\n",
       "</div>"
      ],
      "text/plain": [
       "  category                                               text  target\n",
       "0       ai  Because of their occasional need to return to ...       0\n",
       "1       ai  Market price systems constitute a well-underst...       0\n",
       "2       ai  We describe an extensive study of search in GS...       0\n",
       "3       ai  As real logic programmers normally use cut (!)...       0\n",
       "4       ai  To support the goal of allowing users to recor...       0"
      ]
     },
     "execution_count": 5,
     "metadata": {},
     "output_type": "execute_result"
    }
   ],
   "source": [
    "from sklearn.preprocessing import LabelEncoder\n",
    "\n",
    "labeler  = LabelEncoder()\n",
    "train_df = train_df.assign(target=labeler.fit_transform(train_df[\"category\"]))\n",
    "test_df  = test_df.assign(target=labeler.fit_transform(test_df[\"category\"]))\n",
    "\n",
    "train_df.head()"
   ]
  },
  {
   "cell_type": "markdown",
   "metadata": {},
   "source": [
    "Now we need to convert these documents to vectors in a vector space. We use the [TextVectorization](https://www.tensorflow.org/api_docs/python/tf/keras/layers/TextVectorization) class to automatically convert documents to vectors. This class creates a dictionary of words where each word is associated with  an integer index in the dictionary. Words in the sentences are represented by their index value in the vector. The order of the words in the sentence dictate which entry of the vector they are in. For example the first word in the sentence has it index value in entry 0 in the vector, the second word has its index value in entry 1 in the vector and so on.\n",
    "\n",
    "We cap the number of words in our dictionary (or vocabulary) at an integer called `max_tokens`. We also set the length of sentences to be capped at `sequence_length` tokens long. That means if our abstract contains less than `sequence_length` words then we pad the rest of the vectors entries with 0's to give it a length of `sequence_length`. If the abstract contains more than `sequence_length` words it will be cut short.\n",
    "\n",
    "Let's first set `sequence_length` by looking at the number of tokens in each document by their category in a histogram:"
   ]
  },
  {
   "cell_type": "code",
   "execution_count": 6,
   "metadata": {},
   "outputs": [
    {
     "data": {
      "text/plain": [
       "<AxesSubplot:xlabel='num_tokens', ylabel='Count'>"
      ]
     },
     "execution_count": 6,
     "metadata": {},
     "output_type": "execute_result"
    },
    {
     "data": {
      "image/png": "[encoded data removed]",
      "text/plain": [
       "<Figure size 432x288 with 1 Axes>"
      ]
     },
     "metadata": {
      "needs_background": "light"
     },
     "output_type": "display_data"
    }
   ],
   "source": [
    "import seaborn as sns\n",
    "\n",
    "train_df = train_df.assign(num_tokens=train_df.text.str.split().apply(len))\n",
    "\n",
    "sns.histplot(data=train_df, x=\"num_tokens\", hue=\"category\")"
   ]
  },
  {
   "cell_type": "markdown",
   "metadata": {},
   "source": [
    "We can see that most documents are between 50 and 300 words long and the max being close to 400. So let's set our max sequence length to be 400. "
   ]
  },
  {
   "cell_type": "markdown",
   "metadata": {},
   "source": [
    "Now, we'll import Tensorflow as well as the [TextVectorization](https://www.tensorflow.org/api_docs/python/tf/keras/layers/TextVectorization) class. Note the version of TensorFlow I am using is "
   ]
  },
  {
   "cell_type": "code",
   "execution_count": 7,
   "metadata": {},
   "outputs": [
    {
     "data": {
      "text/plain": [
       "'2.8.0'"
      ]
     },
     "execution_count": 7,
     "metadata": {},
     "output_type": "execute_result"
    }
   ],
   "source": [
    "import tensorflow as tf\n",
    "tf.__version__"
   ]
  },
  {
   "cell_type": "markdown",
   "metadata": {},
   "source": [
    "Depending on your verion of Tensorflow, [TextVectorization](https://www.tensorflow.org/api_docs/python/tf/keras/layers/TextVectorization) (along with other functions I use) may no longer be experimental and the path may be different.\n",
    "\n",
    "We create a `TextVectorization` layer that has a max sequence length of 400 and cap the vocabulary to be 20,000. Words that are not in this vocabulary will be set to a default \"unknown\" token. "
   ]
  },
  {
   "cell_type": "code",
   "execution_count": 8,
   "metadata": {
    "id": "6CXq1TOyUEtm"
   },
   "outputs": [],
   "source": [
    "from tensorflow.keras.layers.experimental.preprocessing import TextVectorization\n",
    "\n",
    "max_features = 20000\n",
    "sequence_length = 400\n",
    "\n",
    "vectorize_layer = TextVectorization(\n",
    "    standardize=\"lower_and_strip_punctuation\",\n",
    "    max_tokens=max_features,\n",
    "    output_mode=\"int\",\n",
    "    pad_to_max_tokens=True,\n",
    "    output_sequence_length=sequence_length,\n",
    ")"
   ]
  },
  {
   "cell_type": "markdown",
   "metadata": {},
   "source": [
    "Now we train the layer on the entire training dataset,"
   ]
  },
  {
   "cell_type": "code",
   "execution_count": 9,
   "metadata": {},
   "outputs": [
    {
     "name": "stderr",
     "output_type": "stream",
     "text": [
      "2022-11-14 20:26:56.326863: W tensorflow/core/platform/profile_utils/cpu_utils.cc:128] Failed to get CPU frequency: 0 Hz\n",
      "2022-11-14 20:26:56.367525: I tensorflow/core/grappler/optimizers/custom_graph_optimizer_registry.cc:113] Plugin optimizer for device_type GPU is enabled.\n"
     ]
    }
   ],
   "source": [
    "vectorize_layer.adapt(train_df[\"text\"].to_numpy())"
   ]
  },
  {
   "cell_type": "markdown",
   "metadata": {},
   "source": [
    "Let's look at an example of a text,"
   ]
  },
  {
   "cell_type": "code",
   "execution_count": 10,
   "metadata": {},
   "outputs": [
    {
     "data": {
      "text/plain": [
       "'Because of their occasional need to return to shallow points in a search\\ntree, existing backtracking methods can sometimes erase meaningful progress\\ntoward solving a search problem. In this paper, we present a method by which\\nbacktrack points can be moved deeper in the search space, thereby avoiding this\\ndifficulty. The technique developed is a variant of dependency-directed\\nbacktracking that uses only polynomial space while still providing useful\\ncontrol information and retaining the completeness guarantees provided by\\nearlier approaches.'"
      ]
     },
     "execution_count": 10,
     "metadata": {},
     "output_type": "execute_result"
    }
   ],
   "source": [
    "test = train_df[\"text\"][0]\n",
    "test"
   ]
  },
  {
   "cell_type": "markdown",
   "metadata": {},
   "source": [
    "Now let's look at the vector representation,"
   ]
  },
  {
   "cell_type": "code",
   "execution_count": 11,
   "metadata": {
    "scrolled": true
   },
   "outputs": [
    {
     "data": {
      "text/plain": [
       "<tf.Tensor: shape=(400,), dtype=int64, numpy=\n",
       "array([ 348,    3,   80, 9056,  408,    6, 2380,    6, 2802,  244,    7,\n",
       "          4,  106,  345,  124, 2220,   39,   22, 2119, 9690, 1526, 1510,\n",
       "       2481,  316,    4,  106,   33,    7,   12,   24,    9,   65,    4,\n",
       "         29,   18,   20, 5380,  244,   22,   19, 6762, 2778,    7,    2,\n",
       "        106,   98, 1666, 2529,   12, 1307,    2,  147,  241,    8,    4,\n",
       "       1115,    3, 9833, 2220,   11,  303,   95,  568,   98,  123,  619,\n",
       "        993,  396,  205,   53,    5, 3918,    2, 2471,  809,  538,   18,\n",
       "       1609,  127,    0,    0,    0,    0,    0,    0,    0,    0,    0,\n",
       "          0,    0,    0,    0,    0,    0,    0,    0,    0,    0,    0,\n",
       "          0,    0,    0,    0,    0,    0,    0,    0,    0,    0,    0,\n",
       "          0,    0,    0,    0,    0,    0,    0,    0,    0,    0,    0,\n",
       "          0,    0,    0,    0,    0,    0,    0,    0,    0,    0,    0,\n",
       "          0,    0,    0,    0,    0,    0,    0,    0,    0,    0,    0,\n",
       "          0,    0,    0,    0,    0,    0,    0,    0,    0,    0,    0,\n",
       "          0,    0,    0,    0,    0,    0,    0,    0,    0,    0,    0,\n",
       "          0,    0,    0,    0,    0,    0,    0,    0,    0,    0,    0,\n",
       "          0,    0,    0,    0,    0,    0,    0,    0,    0,    0,    0,\n",
       "          0,    0,    0,    0,    0,    0,    0,    0,    0,    0,    0,\n",
       "          0,    0,    0,    0,    0,    0,    0,    0,    0,    0,    0,\n",
       "          0,    0,    0,    0,    0,    0,    0,    0,    0,    0,    0,\n",
       "          0,    0,    0,    0,    0,    0,    0,    0,    0,    0,    0,\n",
       "          0,    0,    0,    0,    0,    0,    0,    0,    0,    0,    0,\n",
       "          0,    0,    0,    0,    0,    0,    0,    0,    0,    0,    0,\n",
       "          0,    0,    0,    0,    0,    0,    0,    0,    0,    0,    0,\n",
       "          0,    0,    0,    0,    0,    0,    0,    0,    0,    0,    0,\n",
       "          0,    0,    0,    0,    0,    0,    0,    0,    0,    0,    0,\n",
       "          0,    0,    0,    0,    0,    0,    0,    0,    0,    0,    0,\n",
       "          0,    0,    0,    0,    0,    0,    0,    0,    0,    0,    0,\n",
       "          0,    0,    0,    0,    0,    0,    0,    0,    0,    0,    0,\n",
       "          0,    0,    0,    0,    0,    0,    0,    0,    0,    0,    0,\n",
       "          0,    0,    0,    0,    0,    0,    0,    0,    0,    0,    0,\n",
       "          0,    0,    0,    0,    0,    0,    0,    0,    0,    0,    0,\n",
       "          0,    0,    0,    0,    0,    0,    0,    0,    0,    0,    0,\n",
       "          0,    0,    0,    0,    0,    0,    0,    0,    0,    0,    0,\n",
       "          0,    0,    0,    0,    0,    0,    0,    0,    0,    0,    0,\n",
       "          0,    0,    0,    0,    0,    0,    0,    0,    0,    0,    0,\n",
       "          0,    0,    0,    0])>"
      ]
     },
     "execution_count": 11,
     "metadata": {},
     "output_type": "execute_result"
    }
   ],
   "source": [
    "vectorize_layer.call(test)"
   ]
  },
  {
   "cell_type": "markdown",
   "metadata": {},
   "source": [
    "Note that our vectors are of max sequence length (400), not the vocabulary length (20,000). Since the above sentence did not have 400 words in it, we pad vector with 0's to make sure the vectors are all of the same length.\n",
    "\n",
    "The i-th entry in the above vector corresponds to the i-th word in sequence of words in the text. The value of the entry in the vector is the index for that word in our vocabulary.\n",
    "\n",
    "The first entry is 348 which means that the word \"Because\" is the 348th entry in our 20,000 vocabulary list. The second entry is 3, which means the word \"of\" is the 3rd entry in our vocabulary list.\n",
    "\n",
    "Let's try a word that most likely isnt on our vocabulary to see what the default token's entry is in our vocabulary list"
   ]
  },
  {
   "cell_type": "code",
   "execution_count": 12,
   "metadata": {},
   "outputs": [
    {
     "data": {
      "text/plain": [
       "<tf.Tensor: shape=(400,), dtype=int64, numpy=\n",
       "array([1, 1, 0, 0, 0, 0, 0, 0, 0, 0, 0, 0, 0, 0, 0, 0, 0, 0, 0, 0, 0, 0,\n",
       "       0, 0, 0, 0, 0, 0, 0, 0, 0, 0, 0, 0, 0, 0, 0, 0, 0, 0, 0, 0, 0, 0,\n",
       "       0, 0, 0, 0, 0, 0, 0, 0, 0, 0, 0, 0, 0, 0, 0, 0, 0, 0, 0, 0, 0, 0,\n",
       "       0, 0, 0, 0, 0, 0, 0, 0, 0, 0, 0, 0, 0, 0, 0, 0, 0, 0, 0, 0, 0, 0,\n",
       "       0, 0, 0, 0, 0, 0, 0, 0, 0, 0, 0, 0, 0, 0, 0, 0, 0, 0, 0, 0, 0, 0,\n",
       "       0, 0, 0, 0, 0, 0, 0, 0, 0, 0, 0, 0, 0, 0, 0, 0, 0, 0, 0, 0, 0, 0,\n",
       "       0, 0, 0, 0, 0, 0, 0, 0, 0, 0, 0, 0, 0, 0, 0, 0, 0, 0, 0, 0, 0, 0,\n",
       "       0, 0, 0, 0, 0, 0, 0, 0, 0, 0, 0, 0, 0, 0, 0, 0, 0, 0, 0, 0, 0, 0,\n",
       "       0, 0, 0, 0, 0, 0, 0, 0, 0, 0, 0, 0, 0, 0, 0, 0, 0, 0, 0, 0, 0, 0,\n",
       "       0, 0, 0, 0, 0, 0, 0, 0, 0, 0, 0, 0, 0, 0, 0, 0, 0, 0, 0, 0, 0, 0,\n",
       "       0, 0, 0, 0, 0, 0, 0, 0, 0, 0, 0, 0, 0, 0, 0, 0, 0, 0, 0, 0, 0, 0,\n",
       "       0, 0, 0, 0, 0, 0, 0, 0, 0, 0, 0, 0, 0, 0, 0, 0, 0, 0, 0, 0, 0, 0,\n",
       "       0, 0, 0, 0, 0, 0, 0, 0, 0, 0, 0, 0, 0, 0, 0, 0, 0, 0, 0, 0, 0, 0,\n",
       "       0, 0, 0, 0, 0, 0, 0, 0, 0, 0, 0, 0, 0, 0, 0, 0, 0, 0, 0, 0, 0, 0,\n",
       "       0, 0, 0, 0, 0, 0, 0, 0, 0, 0, 0, 0, 0, 0, 0, 0, 0, 0, 0, 0, 0, 0,\n",
       "       0, 0, 0, 0, 0, 0, 0, 0, 0, 0, 0, 0, 0, 0, 0, 0, 0, 0, 0, 0, 0, 0,\n",
       "       0, 0, 0, 0, 0, 0, 0, 0, 0, 0, 0, 0, 0, 0, 0, 0, 0, 0, 0, 0, 0, 0,\n",
       "       0, 0, 0, 0, 0, 0, 0, 0, 0, 0, 0, 0, 0, 0, 0, 0, 0, 0, 0, 0, 0, 0,\n",
       "       0, 0, 0, 0])>"
      ]
     },
     "execution_count": 12,
     "metadata": {},
     "output_type": "execute_result"
    }
   ],
   "source": [
    "vectorize_layer.call(\"onomatopoeia triglycerides\")"
   ]
  },
  {
   "cell_type": "markdown",
   "metadata": {},
   "source": [
    "We can see that the word \"onomatopeoia\" and \"triglycerides\" are both represented by a 1 which means the unknown token in our vocabulary is 1. Let's get the dictionary of words which we'll need later by using the `.get_vocabulary` method."
   ]
  },
  {
   "cell_type": "code",
   "execution_count": 13,
   "metadata": {},
   "outputs": [],
   "source": [
    "voc = vectorize_layer.get_vocabulary()\n",
    "word_index = dict(zip(voc, range(len(voc))))"
   ]
  },
  {
   "cell_type": "markdown",
   "metadata": {},
   "source": [
    "## Handling Imbalance In The Data <a class=\"anchor\" id=\"third-bullet\"></a>"
   ]
  },
  {
   "cell_type": "markdown",
   "metadata": {},
   "source": [
    "I found the most natural way to deal with imbalanced data in Keras was using weights, similar to the way I did in the [first blog post](http://michael-harmon.com/blog/NLP1.html) in this series. In other frameworks like [Scikit-Learn](https://scikit-learn.org/stable/) the weights for each class are determined automatically, however, with Kera's I found I neeeded to set them explicitly.\n",
    "\n",
    "Luckily we can use Scikit-Learn's [compute_class_weight](https://scikit-learn.org/stable/modules/generated/sklearn.utils.class_weight.compute_class_weight.html) function to get estimates for the weights,"
   ]
  },
  {
   "cell_type": "code",
   "execution_count": 14,
   "metadata": {
    "colab": {
     "base_uri": "https://localhost:8080/"
    },
    "id": "yyTEXiUFUdNy",
    "outputId": "49847bd3-471b-4c29-d0fd-b40cabd7bc05"
   },
   "outputs": [
    {
     "name": "stdout",
     "output_type": "stream",
     "text": [
      "class_weights: [0.79084967 0.79084967 0.79084967 4.84      ]\n"
     ]
    }
   ],
   "source": [
    "from sklearn.utils import class_weight \n",
    "import numpy as np\n",
    "\n",
    "class_weights = class_weight.compute_class_weight(\n",
    "                                   'balanced',\n",
    "                                    classes= np.unique(train_df[\"target\"]), \n",
    "                                    y=train_df[\"target\"])\n",
    "\n",
    "print(f\"class_weights: {class_weights}\")"
   ]
  },
  {
   "cell_type": "markdown",
   "metadata": {},
   "source": [
    "Then we can convert that into a dictionary for each class and its corresponding weight:"
   ]
  },
  {
   "cell_type": "code",
   "execution_count": 15,
   "metadata": {
    "id": "pkzV-GXnUdQX"
   },
   "outputs": [
    {
     "name": "stdout",
     "output_type": "stream",
     "text": [
      "weights_dict: {0: 0.7908496732026143, 1: 0.7908496732026143, 2: 0.7908496732026143, 3: 4.84}\n"
     ]
    }
   ],
   "source": [
    "weights_dict = dict(zip(range(4), class_weights))\n",
    "print(f\"weights_dict: {weights_dict}\")"
   ]
  },
  {
   "cell_type": "markdown",
   "metadata": {
    "colab": {
     "base_uri": "https://localhost:8080/"
    },
    "id": "Pt4N1prZUdSu",
    "outputId": "1fb344be-24a9-424c-eaa3-49e28f13783b"
   },
   "source": [
    "We're cheating a little here because were using the entire dataset for calculating the dataset, but we wont be using cross validation so it's not so bad.\n",
    "\n",
    "Let's take a look at the data again, but this time look at distribution of the target variable with respect to the index in the dataframe"
   ]
  },
  {
   "cell_type": "code",
   "execution_count": 16,
   "metadata": {},
   "outputs": [
    {
     "data": {
      "text/plain": [
       "<AxesSubplot:xlabel='index', ylabel='target'>"
      ]
     },
     "execution_count": 16,
     "metadata": {},
     "output_type": "execute_result"
    },
    {
     "data": {
      "image/png": "[encoded data removed]",
      "text/plain": [
       "<Figure size 432x288 with 1 Axes>"
      ]
     },
     "metadata": {
      "needs_background": "light"
     },
     "output_type": "display_data"
    }
   ],
   "source": [
    "train_df.reset_index().plot('index', 'target', kind='scatter')"
   ]
  },
  {
   "cell_type": "markdown",
   "metadata": {},
   "source": [
    "The dataset is ordered by the target variable which can be a problem for deep learning models. Deep learning models use [mini-batch gradient descent](https://machinelearningmastery.com/gentle-introduction-mini-batch-gradient-descent-configure-batch-size/) which use small batches of the original dataset to train on instead of the entire dataset. If the data is ordered according to the target variable, depending on the size of the bathces, each batch most likely will only have data from one class making the model unable to discern differences between classes.\n",
    "\n",
    "To avoid this situation we want to shuffle the dataset first so that the model will get a sufficient representation of  each class in each batch during training."
   ]
  },
  {
   "cell_type": "code",
   "execution_count": 17,
   "metadata": {},
   "outputs": [],
   "source": [
    "from sklearn.utils import shuffle\n",
    "\n",
    "train_df = shuffle(train_df)\n",
    "test_df = shuffle(test_df)"
   ]
  },
  {
   "cell_type": "markdown",
   "metadata": {},
   "source": [
    "Now the data looks much more evenly distributed across the index of the dataframe!"
   ]
  },
  {
   "cell_type": "code",
   "execution_count": 18,
   "metadata": {},
   "outputs": [
    {
     "data": {
      "text/plain": [
       "<AxesSubplot:xlabel='index', ylabel='target'>"
      ]
     },
     "execution_count": 18,
     "metadata": {},
     "output_type": "execute_result"
    },
    {
     "data": {
      "image/png": "[encoded data removed]",
      "text/plain": [
       "<Figure size 432x288 with 1 Axes>"
      ]
     },
     "metadata": {
      "needs_background": "light"
     },
     "output_type": "display_data"
    }
   ],
   "source": [
    "(train_df.reset_index(drop=True)\n",
    "               .reset_index()\n",
    "               .plot('index', 'target', kind='scatter'))"
   ]
  },
  {
   "cell_type": "markdown",
   "metadata": {},
   "source": [
    "Notice that I didnt have to worry about this in prior blog post's models since Scikit-Learn by default uses statified sampling to create folds in [GridSearchCV](https://scikit-learn.org/stable/modules/generated/sklearn.model_selection.GridSearchCV.html). Those prior models also train on all the date in each fold in cross-validation.\n",
    "\n",
    "Lastly before we get started with building a model we one-hot encode the target classes using the [label_binarize](https://scikit-learn.org/stable/modules/generated/sklearn.preprocessing.label_binarize.html) function:"
   ]
  },
  {
   "cell_type": "code",
   "execution_count": 19,
   "metadata": {},
   "outputs": [],
   "source": [
    "from sklearn.preprocessing import label_binarize\n",
    "\n",
    "# classes = [0,1,2,3]\n",
    "classes   = np.sort(train_df[\"target\"].unique())\n",
    "\n",
    "# relabel the test set\n",
    "y_train = label_binarize(train_df[\"target\"],\n",
    "                         classes=classes)\n",
    "\n",
    "y_test = label_binarize(test_df[\"target\"], \n",
    "                       classes=classes)"
   ]
  },
  {
   "cell_type": "markdown",
   "metadata": {},
   "source": [
    "We can see that the results are a 4-dimensional vector,"
   ]
  },
  {
   "cell_type": "code",
   "execution_count": 20,
   "metadata": {},
   "outputs": [
    {
     "data": {
      "text/plain": [
       "array([0, 0, 1, 0])"
      ]
     },
     "execution_count": 20,
     "metadata": {},
     "output_type": "execute_result"
    }
   ],
   "source": [
    "y_train[0]"
   ]
  },
  {
   "cell_type": "markdown",
   "metadata": {},
   "source": [
    "Now we can move onto building a convolutional neural network using Keras!"
   ]
  },
  {
   "cell_type": "markdown",
   "metadata": {},
   "source": [
    "## Building A Convolutional Neural Network With Keras <a class=\"anchor\" id=\"fourth-bullet\"></a>\n",
    "\n",
    "We will use a [Convolution Neural Network](https://en.wikipedia.org/wiki/Convolutional_neural_network) with the architecture shown below,\n",
    "\n",
    "<figure>\n",
    "<img src=\"images/Basic-architecture-of-CNN.png\" alt=\"Trulli\" style=\"width:75%\">\n",
    "<figcaption align = \"center\">\n",
    "    <b>From https://www.researchgate.net/figure/Basic-architecture-of-CNN_fig3_335086346</b>\n",
    "</figcaption>\n",
    "</figure>\n",
    "\n",
    "This is a pretty classic architecture for text classification that uses two [1D Convolutional Layer](https://www.tensorflow.org/api_docs/python/tf/keras/layers/Conv1D) with an [ReLU activation function](https://en.wikipedia.org/wiki/Rectifier_(neural_networks)) and [1D MaxPooling Layer](https://www.tensorflow.org/api_docs/python/tf/keras/layers/MaxPool1D). This is followed by a [Dense layer](https://www.tensorflow.org/api_docs/python/tf/keras/layers/Dense), [Dropout layer](https://www.tensorflow.org/api_docs/python/tf/keras/layers/Dropout) and a [softmax layer](https://en.wikipedia.org/wiki/Softmax_function) for predicting one of the four classes. The one thing that the above diagram does show is that Input Layer is using an [Embedding layer](https://www.tensorflow.org/api_docs/python/tf/keras/layers/Embedding).\n",
    "\n",
    "[Word Emeddings](https://en.wikipedia.org/wiki/Word_embedding) (or embeddings) allows us to represent words in a dense low-dimensional vector space instead of a high-dimensional sparse vector space as with the bag-of-words model. In addition to reducing dimensionality they also allow us to learn semantic relationship between words such as man is to woman as king is to queen.\n",
    "\n",
    "A more detailed look at the convolutional/max pooling block is shown below, \n",
    "\n",
    "<figure>\n",
    "<img src=\"images/1d-convolutional.jpg\" alt=\"Trulli\" style=\"width:75%\">\n",
    "<figcaption align = \"center\">\n",
    "    <b>From https://www.researchgate.net/figure/a-Simple-scheme-of-a-one-dimension-1D-convolutional-operation-b-Full_fig2_334609713</b>\n",
    "</figcaption>\n",
    "</figure>\n",
    "\n",
    "A convolutional layer is made up filters (or kernels) that have weights which must be learned. The kernel size is the number of weights in each filter and are shown in pink. We take the sum-product of the weights and entries in the input vector and apply an [ReLU function](https://machinelearningmastery.com/rectified-linear-activation-function-for-deep-learning-neural-networks/) to form new entries in a the output layer. We slide this filter over all windows of size kernel size in the input layer to fill out entries in the output layer (yellow square). In this slidding mechanism we skip entries bewteen the ending and start of the application of the filter in the input space. The number of entries that we skip is called the [stride size](https://machinelearningmastery.com/padding-and-stride-for-convolutional-neural-networks/). This process is called a convolution and results in an output dimensions that is smaller than the input. We can supress this reduction in dimension by [padding](https://machinelearningmastery.com/padding-and-stride-for-convolutional-neural-networks/) the input vector with 0's so that the output is the same size as the input. Allowing the output space to be reduced in dimension is called \"valid\" padding and supressing this is called \"same\" padding.\n",
    "\n",
    "The [max pooling layer](https://machinelearningmastery.com/pooling-layers-for-convolutional-neural-networks/) looks at the values in a window of the convolutions output layer and finds the maximum value and makes that the value in the output cell. Another annimation of the process is shown below,\n",
    "\n",
    "<figure>\n",
    "<img src=\"images/1D-max-pooling-operation.png\" alt=\"Trulli\" style=\"width:75%\">\n",
    "<figcaption align = \"center\">\n",
    "    <b>From https://www.researchgate.net/figure/1D-max-pooling-operation_fig4_324177888</b>\n",
    "</figcaption>\n",
    "</figure>\n",
    "\n",
    "\n",
    "\n",
    "The window size is again called the `pool_size` (in the above its labeled as `pooling_size`). MaxPooling also has the concept of `stride` and `padding` that a convolutional layer has. The point of MaxPooling is to make the repesentation more invariant to transformations, a concept that is more intuitive for me when applying CNNs to computer vision.\n",
    "\n",
    "The last technique for CNNs we will discuss is [DropOut](https://machinelearningmastery.com/dropout-for-regularizing-deep-neural-networks/). [DropOut](https://machinelearningmastery.com/dropout-for-regularizing-deep-neural-networks/) is a form of regularization that randomly sets the weights of specific neurons in a layer to zero during training time. This is shown below,\n",
    "\n",
    "<figure>\n",
    "<img src=\"images/dropout.jpg\" alt=\"Trulli\" style=\"width:75%\">\n",
    "<figcaption align = \"center\">\n",
    "    <b>From https://wenkangwei.github.io/2020/11/13/DL-DropOut/</b>\n",
    "</figcaption>\n",
    "</figure>\n",
    "\n",
    "\n",
    "Drop out prevents overfittings by making the network not overly dependent on any one neuron in the hidden layers. Usually drop out is not performed on in the input layer, and is reserved for the deepest layers as those are the most likely to have overfitting.\n",
    "\n",
    "Now that we have gone over the basics of the CNN architecture let's get building a model! We can import the necessary modules and see if we are using a GPU for training: "
   ]
  },
  {
   "cell_type": "code",
   "execution_count": 21,
   "metadata": {},
   "outputs": [],
   "source": [
    "import tensorflow as tf\n",
    "from tensorflow.keras.layers import Dense, Input, Embedding\n",
    "from tensorflow.keras.models import Sequential\n",
    "from tensorflow.keras import layers, losses"
   ]
  },
  {
   "cell_type": "markdown",
   "metadata": {},
   "source": [
    "We can set the logging to only log errors and test to make sure we have a working GPU."
   ]
  },
  {
   "cell_type": "code",
   "execution_count": 22,
   "metadata": {},
   "outputs": [
    {
     "data": {
      "text/plain": [
       "[PhysicalDevice(name='/physical_device:GPU:0', device_type='GPU')]"
      ]
     },
     "execution_count": 22,
     "metadata": {},
     "output_type": "execute_result"
    }
   ],
   "source": [
    "tf.compat.v1 .logging.set_verbosity('ERROR')\n",
    "tf.config.list_physical_devices('GPU')"
   ]
  },
  {
   "cell_type": "markdown",
   "metadata": {},
   "source": [
    "Since we dont have too much data relative to amount usually needed for deep learning we will use [transfer learning](https://en.wikipedia.org/wiki/Transfer_learning) by using a pre-trained embedding called [GloVe](https://nlp.stanford.edu/projects/glove/). We can create the emedding using the example from the [Keras site](https://keras.io/examples/nlp/pretrained_word_embeddings/). I wrote the function `create_embedding_matrix` to repeat these steps and we can use it below."
   ]
  },
  {
   "cell_type": "code",
   "execution_count": 23,
   "metadata": {},
   "outputs": [],
   "source": [
    "from utils.create_glove import create_embedding_matrix\n",
    "\n",
    "embedding_dim = 100\n",
    "\n",
    "embedding_matrix = create_embedding_matrix(path=\"glove_models\", \n",
    "                                           dim=embedding_dim, \n",
    "                                           voc=voc,\n",
    "                                           word_index=word_index)"
   ]
  },
  {
   "cell_type": "markdown",
   "metadata": {},
   "source": [
    "Now let's see the shape of our embedding matrix,"
   ]
  },
  {
   "cell_type": "code",
   "execution_count": 24,
   "metadata": {},
   "outputs": [
    {
     "data": {
      "text/plain": [
       "(20002, 100)"
      ]
     },
     "execution_count": 24,
     "metadata": {},
     "output_type": "execute_result"
    }
   ],
   "source": [
    "num_tokens = embedding_matrix.shape[0]\n",
    "\n",
    "embedding_matrix.shape"
   ]
  },
  {
   "cell_type": "markdown",
   "metadata": {},
   "source": [
    "This tells us we map from a space of 20,002 dimsions to 100 dimensions.\n",
    "\n",
    "Lets create the embedding layer, notice that we set `trainable=False`. This means that the weights in the embedding matrix are fixed and do not change during learning. We do this because we don't want to lose the representations that were learned by GloVe during training the model."
   ]
  },
  {
   "cell_type": "code",
   "execution_count": 25,
   "metadata": {},
   "outputs": [],
   "source": [
    "embedding_layer = Embedding(\n",
    "    num_tokens,\n",
    "    embedding_dim,\n",
    "    embeddings_initializer=tf.keras.initializers.Constant(embedding_matrix),\n",
    "    trainable=False,\n",
    ")"
   ]
  },
  {
   "cell_type": "markdown",
   "metadata": {},
   "source": [
    "We could adapt our embedding layer to the specifics of our data. In order to do that people generally let the model train with a fixed embedding matrix for a few iterations before setting the embedding layer to be traininable. The reason for this is because the first few iterations of gradient descent have large gradients that would completely change the values of the embedding layer and inject a ton of noise into the model. After a few iterations of gradient descent the gradients wont be so dramatic and we can unfreeze the embedding layer to allow the coefficents to be fine tuned to the specifics of the model. \n",
    "\n",
    "For simplicity I'll just use a fixed embedding layer."
   ]
  },
  {
   "cell_type": "markdown",
   "metadata": {},
   "source": [
    "Next we define a function that returns a compiled Keras model. The function takes as inputs all the hyperparameters that we want to optimize our model for. Setting up a function to do this will simplify the procedure to optimize the hyperparameters of the model. Note that the function below has default values so that we can call the function without any parameters being passed."
   ]
  },
  {
   "cell_type": "code",
   "execution_count": 26,
   "metadata": {
    "colab": {
     "base_uri": "https://localhost:8080/"
    },
    "id": "NWkwE6_UUdYt",
    "outputId": "91cf1c7f-eb5f-4f69-a779-16f23a391852"
   },
   "outputs": [],
   "source": [
    "def build_model(\n",
    "    embedding_dim: int=128,\n",
    "    filters: int=8,\n",
    "    kernel_size: int=5,\n",
    "    stride_size: int=3,\n",
    "    conv_padding: str=\"valid\",\n",
    "    pool_padding: str=\"same\",\n",
    "    dropout: float=0.2\n",
    ") -> Sequential:\n",
    "    \n",
    "    model = Sequential([\n",
    "                # Embedding Layer\n",
    "                tf.keras.Input(shape=(1,), \n",
    "                               dtype=tf.string, \n",
    "                               name='text'),\n",
    "                vectorize_layer,\n",
    "                embedding_layer,\n",
    "            \n",
    "                # Convolutional Layers\n",
    "                layers.Conv1D(filters, \n",
    "                              kernel_size, \n",
    "                              padding=conv_padding, \n",
    "                              activation=\"relu\", \n",
    "                              strides=stride_size),\n",
    "        \n",
    "                layers.MaxPooling1D(padding=pool_padding),\n",
    "        \n",
    "                layers.Conv1D(filters, \n",
    "                              kernel_size, \n",
    "                              padding=conv_padding, \n",
    "                              activation=\"relu\", \n",
    "                              strides=stride_size),\n",
    "        \n",
    "                layers.GlobalMaxPool1D(),\n",
    "\n",
    "                # Add a vanilla hidden layer:\n",
    "                layers.Dense(filters, activation=\"relu\"),\n",
    "                layers.Dropout(dropout),\n",
    "\n",
    "                # softmax layer\n",
    "                layers.Dense(4, activation=\"softmax\")\n",
    "    ])\n",
    "\n",
    "    # sceduler\n",
    "    lr_schedule = tf.keras.optimizers.schedules.ExponentialDecay(\n",
    "                            initial_learning_rate=1e-2,\n",
    "                            decay_steps=1000,\n",
    "                            decay_rate=0.2)\n",
    "    \n",
    "    model.compile(loss=\"categorical_crossentropy\", \n",
    "                  optimizer=tf.optimizers.Adam(learning_rate=lr_schedule), \n",
    "                  metrics=[\"accuracy\", tf.keras.metrics.AUC(name='prc', curve='PR')])\n",
    "\n",
    "    return model"
   ]
  },
  {
   "cell_type": "markdown",
   "metadata": {
    "colab": {
     "base_uri": "https://localhost:8080/"
    },
    "id": "NWkwE6_UUdYt",
    "outputId": "91cf1c7f-eb5f-4f69-a779-16f23a391852"
   },
   "source": [
    "We can now build the default model and see the number of unknowns in each layer as well as the total number of unknowns using the summary method,"
   ]
  },
  {
   "cell_type": "code",
   "execution_count": 27,
   "metadata": {},
   "outputs": [
    {
     "name": "stdout",
     "output_type": "stream",
     "text": [
      "Model: \"sequential\"\n",
      "_________________________________________________________________\n",
      " Layer (type)                Output Shape              Param #   \n",
      "=================================================================\n",
      " text_vectorization_1 (TextV  (None, 400)              0         \n",
      " ectorization)                                                   \n",
      "                                                                 \n",
      " embedding (Embedding)       (None, 400, 100)          2000200   \n",
      "                                                                 \n",
      " conv1d (Conv1D)             (None, 132, 8)            4008      \n",
      "                                                                 \n",
      " max_pooling1d (MaxPooling1D  (None, 66, 8)            0         \n",
      " )                                                               \n",
      "                                                                 \n",
      " conv1d_1 (Conv1D)           (None, 21, 8)             328       \n",
      "                                                                 \n",
      " global_max_pooling1d (Globa  (None, 8)                0         \n",
      " lMaxPooling1D)                                                  \n",
      "                                                                 \n",
      " dense (Dense)               (None, 8)                 72        \n",
      "                                                                 \n",
      " dropout (Dropout)           (None, 8)                 0         \n",
      "                                                                 \n",
      " dense_1 (Dense)             (None, 4)                 36        \n",
      "                                                                 \n",
      "=================================================================\n",
      "Total params: 2,004,644\n",
      "Trainable params: 4,444\n",
      "Non-trainable params: 2,000,200\n",
      "_________________________________________________________________\n"
     ]
    }
   ],
   "source": [
    "model = build_model()\n",
    "model.summary()"
   ]
  },
  {
   "cell_type": "markdown",
   "metadata": {},
   "source": [
    "The number of coefficents in this model is dominated by the word embedding. For this configuration the model has over 2 million coefficents which makes it quite complex! However, since we are using a frozen pre-trained embedding the total number of trainable coefficents is a little over 4,000 which is not very much. The fact we only use a small number of trainable coefficents is due to the power of transfer learning and the fact CNN's have sparse connections between layers!\n",
    "\n",
    "Next let's turn to how we optimize the hyperparameters of our model using Optuna."
   ]
  },
  {
   "cell_type": "markdown",
   "metadata": {},
   "source": [
    "## Hyperparameter Tuning with Optuna <a class=\"anchor\" id=\"fourth-bullet\"></a>\n",
    "\n",
    "Optuna is powerful hyperparameter tuning library that uses a define-by-run design that makes it elegant and easy to use. I have just started using this powerful library and have been particularly impressed with the design and felt it was extremely intuitve. The three things to take into account for a optimization run in Optuna are *Trial*, *Study*, *Parameter*. These are defined as,\n",
    "\n",
    "- **Trial**: A single call of the objective function\n",
    "\n",
    "- **Study**: An optimization session, which is a set of trials\n",
    "\n",
    "- **Parameter**: A variable whose value is to be optimized, such as `embedding_dim` in the `build_model` function.\n",
    "\n",
    "The first thing we do is to define an **objective function**; this is the function we want to maximize (or minimize). This is a function of a trial which is a process of evaluating an objective function and provides interfaces to get the **parameter** suggestions.\n",
    "\n",
    "Notice that each hyperparameter of the model is defined as a parameter in the `build_model` function and is given a suggested value for each trial. The model is then fit to the dataset and returns the accuracy on the validation data set. After running a predfined number of trials in the study, the model with the best accuracy on the validation data set is chosen as the final model. "
   ]
  },
  {
   "cell_type": "code",
   "execution_count": 28,
   "metadata": {},
   "outputs": [],
   "source": [
    "import optuna\n",
    "\n",
    "def objective(trial):\n",
    "    tf.keras.backend.clear_session()\n",
    "    \n",
    "    model = build_model(embedding_dim=trial.suggest_categorical(\"embedding_dim\", [64, 128, 256, 512]),\n",
    "                        conv_padding=trial.suggest_categorical(\"conv_padding\", [\"valid\", \"same\"]),\n",
    "                        pool_padding=trial.suggest_categorical(\"pool_padding\", [\"valid\", \"same\"]),\n",
    "                        kernel_size=trial.suggest_categorical(\"kernel_size\", [8, 16, 24, 32]),\n",
    "                        stride_size=trial.suggest_categorical(\"strides\", [1, 2, 3, 5]),\n",
    "                        dropout=trial.suggest_float(\"droput\", 0.3, 0.5))\n",
    "    \n",
    "    early_stopping_cb = tf.keras.callbacks.EarlyStopping(patience=10, \n",
    "                                                         restore_best_weights=True)\n",
    "    \n",
    "    history = model.fit(train_df[\"text\"], \n",
    "                        y_train, \n",
    "                        epochs=50, \n",
    "                        batch_size=trial.suggest_categorical(\"batch_size\", [32, 64, 128]),\n",
    "                        class_weight=weights_dict, \n",
    "                        validation_split=0.2,\n",
    "                        callbacks=[early_stopping_cb],\n",
    "                        verbose=False)\n",
    "    \n",
    "    scores = history.history[\"val_accuracy\"]\n",
    "    \n",
    "    # get the last epochs scores\n",
    "    return scores[-1]"
   ]
  },
  {
   "cell_type": "markdown",
   "metadata": {},
   "source": [
    "Before we start our Optuna study we create a backend storage to keep the results of every trial. We can use it to reload the the results if necessary. In this set up I will use a local [sqlite](https://www.sqlite.org/index.html) database."
   ]
  },
  {
   "cell_type": "code",
   "execution_count": 30,
   "metadata": {},
   "outputs": [],
   "source": [
    "storage = optuna.storages.RDBStorage(\n",
    "    url=\"sqlite:///model_tunning.db\",\n",
    "    engine_kwargs={\"connect_args\": {\"timeout\": 10}},\n",
    ")"
   ]
  },
  {
   "cell_type": "markdown",
   "metadata": {},
   "source": [
    "Now we can create a the study with its name and to `maximize` the objective function. We also set the storage to be the sqlite database created above."
   ]
  },
  {
   "cell_type": "code",
   "execution_count": 31,
   "metadata": {},
   "outputs": [
    {
     "name": "stderr",
     "output_type": "stream",
     "text": [
      "\u001b[32m[I 2022-11-14 20:27:15,677]\u001b[0m A new study created in RDB with name: study_one\u001b[0m\n"
     ]
    }
   ],
   "source": [
    "study = optuna.create_study(study_name=\"study_one\", \n",
    "                            direction=\"maximize\", \n",
    "                            storage=storage)"
   ]
  },
  {
   "cell_type": "markdown",
   "metadata": {},
   "source": [
    "Well just create a small study of 20 trials to show the effectiveness of Optuna and fead the study the objective function through the `optimize` method."
   ]
  },
  {
   "cell_type": "code",
   "execution_count": 32,
   "metadata": {},
   "outputs": [
    {
     "name": "stderr",
     "output_type": "stream",
     "text": [
      "2022-11-14 20:27:19.066925: I tensorflow/core/grappler/optimizers/custom_graph_optimizer_registry.cc:113] Plugin optimizer for device_type GPU is enabled.\n",
      "2022-11-14 20:27:20.753815: I tensorflow/core/grappler/optimizers/custom_graph_optimizer_registry.cc:113] Plugin optimizer for device_type GPU is enabled.\n",
      "2022-11-14 20:27:53.759788: I tensorflow/core/grappler/optimizers/custom_graph_optimizer_registry.cc:113] Plugin optimizer for device_type GPU is enabled.\n",
      "2022-11-14 20:27:55.124254: I tensorflow/core/grappler/optimizers/custom_graph_optimizer_registry.cc:113] Plugin optimizer for device_type GPU is enabled.\n",
      "2022-11-14 20:29:00.409034: I tensorflow/core/grappler/optimizers/custom_graph_optimizer_registry.cc:113] Plugin optimizer for device_type GPU is enabled.\n",
      "2022-11-14 20:29:01.654847: I tensorflow/core/grappler/optimizers/custom_graph_optimizer_registry.cc:113] Plugin optimizer for device_type GPU is enabled.\n",
      "2022-11-14 20:29:21.211764: I tensorflow/core/grappler/optimizers/custom_graph_optimizer_registry.cc:113] Plugin optimizer for device_type GPU is enabled.\n",
      "2022-11-14 20:29:22.031027: I tensorflow/core/grappler/optimizers/custom_graph_optimizer_registry.cc:113] Plugin optimizer for device_type GPU is enabled.\n",
      "2022-11-14 20:29:29.618961: I tensorflow/core/grappler/optimizers/custom_graph_optimizer_registry.cc:113] Plugin optimizer for device_type GPU is enabled.\n",
      "2022-11-14 20:29:30.522958: I tensorflow/core/grappler/optimizers/custom_graph_optimizer_registry.cc:113] Plugin optimizer for device_type GPU is enabled.\n",
      "2022-11-14 20:29:51.481525: I tensorflow/core/grappler/optimizers/custom_graph_optimizer_registry.cc:113] Plugin optimizer for device_type GPU is enabled.\n",
      "2022-11-14 20:29:53.204579: I tensorflow/core/grappler/optimizers/custom_graph_optimizer_registry.cc:113] Plugin optimizer for device_type GPU is enabled.\n",
      "2022-11-14 20:30:41.780077: I tensorflow/core/grappler/optimizers/custom_graph_optimizer_registry.cc:113] Plugin optimizer for device_type GPU is enabled.\n",
      "2022-11-14 20:30:43.051260: I tensorflow/core/grappler/optimizers/custom_graph_optimizer_registry.cc:113] Plugin optimizer for device_type GPU is enabled.\n",
      "2022-11-14 20:31:10.515758: I tensorflow/core/grappler/optimizers/custom_graph_optimizer_registry.cc:113] Plugin optimizer for device_type GPU is enabled.\n",
      "2022-11-14 20:31:11.325680: I tensorflow/core/grappler/optimizers/custom_graph_optimizer_registry.cc:113] Plugin optimizer for device_type GPU is enabled.\n",
      "2022-11-14 20:31:19.600791: I tensorflow/core/grappler/optimizers/custom_graph_optimizer_registry.cc:113] Plugin optimizer for device_type GPU is enabled.\n",
      "2022-11-14 20:31:20.452603: I tensorflow/core/grappler/optimizers/custom_graph_optimizer_registry.cc:113] Plugin optimizer for device_type GPU is enabled.\n",
      "2022-11-14 20:31:36.446251: I tensorflow/core/grappler/optimizers/custom_graph_optimizer_registry.cc:113] Plugin optimizer for device_type GPU is enabled.\n",
      "2022-11-14 20:31:37.696174: I tensorflow/core/grappler/optimizers/custom_graph_optimizer_registry.cc:113] Plugin optimizer for device_type GPU is enabled.\n",
      "2022-11-14 20:32:06.934214: I tensorflow/core/grappler/optimizers/custom_graph_optimizer_registry.cc:113] Plugin optimizer for device_type GPU is enabled.\n",
      "2022-11-14 20:32:08.311620: I tensorflow/core/grappler/optimizers/custom_graph_optimizer_registry.cc:113] Plugin optimizer for device_type GPU is enabled.\n",
      "2022-11-14 20:32:23.502055: I tensorflow/core/grappler/optimizers/custom_graph_optimizer_registry.cc:113] Plugin optimizer for device_type GPU is enabled.\n",
      "2022-11-14 20:32:24.889258: I tensorflow/core/grappler/optimizers/custom_graph_optimizer_registry.cc:113] Plugin optimizer for device_type GPU is enabled.\n",
      "2022-11-14 20:32:46.647745: I tensorflow/core/grappler/optimizers/custom_graph_optimizer_registry.cc:113] Plugin optimizer for device_type GPU is enabled.\n",
      "2022-11-14 20:32:48.054602: I tensorflow/core/grappler/optimizers/custom_graph_optimizer_registry.cc:113] Plugin optimizer for device_type GPU is enabled.\n",
      "2022-11-14 20:33:18.939241: I tensorflow/core/grappler/optimizers/custom_graph_optimizer_registry.cc:113] Plugin optimizer for device_type GPU is enabled.\n",
      "2022-11-14 20:33:20.324868: I tensorflow/core/grappler/optimizers/custom_graph_optimizer_registry.cc:113] Plugin optimizer for device_type GPU is enabled.\n",
      "2022-11-14 20:33:52.399109: I tensorflow/core/grappler/optimizers/custom_graph_optimizer_registry.cc:113] Plugin optimizer for device_type GPU is enabled.\n",
      "2022-11-14 20:33:54.072456: I tensorflow/core/grappler/optimizers/custom_graph_optimizer_registry.cc:113] Plugin optimizer for device_type GPU is enabled.\n",
      "2022-11-14 20:35:04.579588: I tensorflow/core/grappler/optimizers/custom_graph_optimizer_registry.cc:113] Plugin optimizer for device_type GPU is enabled.\n",
      "2022-11-14 20:35:05.534769: I tensorflow/core/grappler/optimizers/custom_graph_optimizer_registry.cc:113] Plugin optimizer for device_type GPU is enabled.\n",
      "2022-11-14 20:35:33.294906: I tensorflow/core/grappler/optimizers/custom_graph_optimizer_registry.cc:113] Plugin optimizer for device_type GPU is enabled.\n",
      "2022-11-14 20:35:34.696728: I tensorflow/core/grappler/optimizers/custom_graph_optimizer_registry.cc:113] Plugin optimizer for device_type GPU is enabled.\n",
      "2022-11-14 20:36:40.071065: I tensorflow/core/grappler/optimizers/custom_graph_optimizer_registry.cc:113] Plugin optimizer for device_type GPU is enabled.\n",
      "2022-11-14 20:36:41.597616: I tensorflow/core/grappler/optimizers/custom_graph_optimizer_registry.cc:113] Plugin optimizer for device_type GPU is enabled.\n",
      "2022-11-14 20:37:11.291800: I tensorflow/core/grappler/optimizers/custom_graph_optimizer_registry.cc:113] Plugin optimizer for device_type GPU is enabled.\n",
      "2022-11-14 20:37:12.633416: I tensorflow/core/grappler/optimizers/custom_graph_optimizer_registry.cc:113] Plugin optimizer for device_type GPU is enabled.\n"
     ]
    }
   ],
   "source": [
    "optuna.logging.set_verbosity(optuna.logging.WARNING)\n",
    "study.optimize(objective, \n",
    "               n_trials=20,\n",
    "               timeout=600)"
   ]
  },
  {
   "cell_type": "markdown",
   "metadata": {},
   "source": [
    "We can see the results of each trial in the study as a Pandas dataframe,"
   ]
  },
  {
   "cell_type": "code",
   "execution_count": 54,
   "metadata": {},
   "outputs": [
    {
     "data": {
      "text/html": [
       "<div>\n",
       "<style scoped>\n",
       "    .dataframe tbody tr th:only-of-type {\n",
       "        vertical-align: middle;\n",
       "    }\n",
       "\n",
       "    .dataframe tbody tr th {\n",
       "        vertical-align: top;\n",
       "    }\n",
       "\n",
       "    .dataframe thead th {\n",
       "        text-align: right;\n",
       "    }\n",
       "</style>\n",
       "<table border=\"1\" class=\"dataframe\">\n",
       "  <thead>\n",
       "    <tr style=\"text-align: right;\">\n",
       "      <th></th>\n",
       "      <th>number</th>\n",
       "      <th>value</th>\n",
       "      <th>datetime_start</th>\n",
       "      <th>datetime_complete</th>\n",
       "      <th>duration</th>\n",
       "      <th>params_batch_size</th>\n",
       "      <th>params_conv_padding</th>\n",
       "      <th>params_droput</th>\n",
       "      <th>params_embedding_dim</th>\n",
       "      <th>params_kernel_size</th>\n",
       "      <th>params_pool_padding</th>\n",
       "      <th>params_strides</th>\n",
       "      <th>state</th>\n",
       "    </tr>\n",
       "  </thead>\n",
       "  <tbody>\n",
       "    <tr>\n",
       "      <th>18</th>\n",
       "      <td>18</td>\n",
       "      <td>0.676653</td>\n",
       "      <td>2022-11-14 20:20:19.288869</td>\n",
       "      <td>2022-11-14 20:20:44.082999</td>\n",
       "      <td>0 days 00:00:24.794130</td>\n",
       "      <td>128</td>\n",
       "      <td>same</td>\n",
       "      <td>0.390265</td>\n",
       "      <td>256</td>\n",
       "      <td>8</td>\n",
       "      <td>valid</td>\n",
       "      <td>1</td>\n",
       "      <td>COMPLETE</td>\n",
       "    </tr>\n",
       "    <tr>\n",
       "      <th>13</th>\n",
       "      <td>13</td>\n",
       "      <td>0.663223</td>\n",
       "      <td>2022-11-14 20:18:14.474403</td>\n",
       "      <td>2022-11-14 20:18:39.500728</td>\n",
       "      <td>0 days 00:00:25.026325</td>\n",
       "      <td>128</td>\n",
       "      <td>valid</td>\n",
       "      <td>0.408243</td>\n",
       "      <td>64</td>\n",
       "      <td>8</td>\n",
       "      <td>valid</td>\n",
       "      <td>1</td>\n",
       "      <td>COMPLETE</td>\n",
       "    </tr>\n",
       "    <tr>\n",
       "      <th>9</th>\n",
       "      <td>9</td>\n",
       "      <td>0.662190</td>\n",
       "      <td>2022-11-14 20:16:46.215962</td>\n",
       "      <td>2022-11-14 20:17:11.240460</td>\n",
       "      <td>0 days 00:00:25.024498</td>\n",
       "      <td>128</td>\n",
       "      <td>valid</td>\n",
       "      <td>0.388042</td>\n",
       "      <td>64</td>\n",
       "      <td>8</td>\n",
       "      <td>valid</td>\n",
       "      <td>1</td>\n",
       "      <td>COMPLETE</td>\n",
       "    </tr>\n",
       "    <tr>\n",
       "      <th>2</th>\n",
       "      <td>2</td>\n",
       "      <td>0.641529</td>\n",
       "      <td>2022-11-14 20:14:00.210610</td>\n",
       "      <td>2022-11-14 20:14:17.353935</td>\n",
       "      <td>0 days 00:00:17.143325</td>\n",
       "      <td>128</td>\n",
       "      <td>valid</td>\n",
       "      <td>0.352096</td>\n",
       "      <td>64</td>\n",
       "      <td>8</td>\n",
       "      <td>valid</td>\n",
       "      <td>5</td>\n",
       "      <td>COMPLETE</td>\n",
       "    </tr>\n",
       "    <tr>\n",
       "      <th>7</th>\n",
       "      <td>7</td>\n",
       "      <td>0.605372</td>\n",
       "      <td>2022-11-14 20:15:34.357132</td>\n",
       "      <td>2022-11-14 20:16:29.128028</td>\n",
       "      <td>0 days 00:00:54.770896</td>\n",
       "      <td>128</td>\n",
       "      <td>same</td>\n",
       "      <td>0.439173</td>\n",
       "      <td>64</td>\n",
       "      <td>24</td>\n",
       "      <td>same</td>\n",
       "      <td>1</td>\n",
       "      <td>COMPLETE</td>\n",
       "    </tr>\n",
       "  </tbody>\n",
       "</table>\n",
       "</div>"
      ],
      "text/plain": [
       "    number     value             datetime_start          datetime_complete  \\\n",
       "18      18  0.676653 2022-11-14 20:20:19.288869 2022-11-14 20:20:44.082999   \n",
       "13      13  0.663223 2022-11-14 20:18:14.474403 2022-11-14 20:18:39.500728   \n",
       "9        9  0.662190 2022-11-14 20:16:46.215962 2022-11-14 20:17:11.240460   \n",
       "2        2  0.641529 2022-11-14 20:14:00.210610 2022-11-14 20:14:17.353935   \n",
       "7        7  0.605372 2022-11-14 20:15:34.357132 2022-11-14 20:16:29.128028   \n",
       "\n",
       "                 duration  params_batch_size params_conv_padding  \\\n",
       "18 0 days 00:00:24.794130                128                same   \n",
       "13 0 days 00:00:25.026325                128               valid   \n",
       "9  0 days 00:00:25.024498                128               valid   \n",
       "2  0 days 00:00:17.143325                128               valid   \n",
       "7  0 days 00:00:54.770896                128                same   \n",
       "\n",
       "    params_droput  params_embedding_dim  params_kernel_size  \\\n",
       "18       0.390265                   256                   8   \n",
       "13       0.408243                    64                   8   \n",
       "9        0.388042                    64                   8   \n",
       "2        0.352096                    64                   8   \n",
       "7        0.439173                    64                  24   \n",
       "\n",
       "   params_pool_padding  params_strides     state  \n",
       "18               valid               1  COMPLETE  \n",
       "13               valid               1  COMPLETE  \n",
       "9                valid               1  COMPLETE  \n",
       "2                valid               5  COMPLETE  \n",
       "7                 same               1  COMPLETE  "
      ]
     },
     "execution_count": 54,
     "metadata": {},
     "output_type": "execute_result"
    }
   ],
   "source": [
    "study.trials_dataframe().sort_values(\"value\", ascending=False).head(5)"
   ]
  },
  {
   "cell_type": "markdown",
   "metadata": {},
   "source": [
    "We can reload the results of the study by passing the name of the study and the backend storage."
   ]
  },
  {
   "cell_type": "code",
   "execution_count": 55,
   "metadata": {},
   "outputs": [],
   "source": [
    "study = optuna.load_study(study_name=\"study_one\", storage=storage)"
   ]
  },
  {
   "cell_type": "markdown",
   "metadata": {},
   "source": [
    "Then we can get the accuracy of the best model on the validation set "
   ]
  },
  {
   "cell_type": "code",
   "execution_count": 57,
   "metadata": {},
   "outputs": [
    {
     "data": {
      "text/plain": [
       "0.6766529679298401"
      ]
     },
     "execution_count": 57,
     "metadata": {},
     "output_type": "execute_result"
    }
   ],
   "source": [
    "study.best_value"
   ]
  },
  {
   "cell_type": "markdown",
   "metadata": {},
   "source": [
    "We can get the parameters of the model and use them to fit the best model on the whole training dataset"
   ]
  },
  {
   "cell_type": "code",
   "execution_count": 59,
   "metadata": {},
   "outputs": [
    {
     "data": {
      "text/plain": [
       "{'batch_size': 128,\n",
       " 'conv_padding': 'same',\n",
       " 'droput': 0.39026499773288303,\n",
       " 'embedding_dim': 256,\n",
       " 'kernel_size': 8,\n",
       " 'pool_padding': 'valid',\n",
       " 'strides': 1}"
      ]
     },
     "execution_count": 59,
     "metadata": {},
     "output_type": "execute_result"
    }
   ],
   "source": [
    "study.best_params"
   ]
  },
  {
   "cell_type": "code",
   "execution_count": 60,
   "metadata": {},
   "outputs": [],
   "source": [
    "model = build_model(study.best_params)"
   ]
  },
  {
   "cell_type": "code",
   "execution_count": 62,
   "metadata": {},
   "outputs": [
    {
     "name": "stderr",
     "output_type": "stream",
     "text": [
      "2022-11-14 20:23:49.079961: I tensorflow/core/grappler/optimizers/custom_graph_optimizer_registry.cc:113] Plugin optimizer for device_type GPU is enabled.\n",
      "2022-11-14 20:23:50.044152: I tensorflow/core/grappler/optimizers/custom_graph_optimizer_registry.cc:113] Plugin optimizer for device_type GPU is enabled.\n"
     ]
    }
   ],
   "source": [
    "early_stopping_cb = tf.keras.callbacks.EarlyStopping(patience=10, \n",
    "                                                     restore_best_weights=True)\n",
    "    \n",
    "history = model.fit(train_df[\"text\"], \n",
    "                    y_train, \n",
    "                    epochs=50, \n",
    "                    batch_size=study.best_params[\"batch_size\"],\n",
    "                    class_weight=weights_dict, \n",
    "                    validation_split=0.2,\n",
    "                    callbacks=[early_stopping_cb],\n",
    "                    verbose=False)"
   ]
  },
  {
   "cell_type": "markdown",
   "metadata": {},
   "source": [
    "We can now plot the learning curves to see how our model is performing,"
   ]
  },
  {
   "cell_type": "code",
   "execution_count": 63,
   "metadata": {},
   "outputs": [
    {
     "data": {
      "image/png": "[encoded data removed]",
      "text/plain": [
       "<Figure size 576x360 with 1 Axes>"
      ]
     },
     "metadata": {
      "needs_background": "light"
     },
     "output_type": "display_data"
    }
   ],
   "source": [
    "history_df = pd.DataFrame(history.history)\n",
    "history_df.plot(figsize=(8,5))\n",
    "plt.grid(True)\n",
    "plt.show()"
   ]
  },
  {
   "cell_type": "markdown",
   "metadata": {},
   "source": [
    "Let's take a look at the ROC and Precision-Recall curve for the model on the test set,"
   ]
  },
  {
   "cell_type": "code",
   "execution_count": 71,
   "metadata": {},
   "outputs": [
    {
     "data": {
      "image/png": "[encoded data removed]",
      "text/plain": [
       "<Figure size 1080x432 with 2 Axes>"
      ]
     },
     "metadata": {
      "needs_background": "light"
     },
     "output_type": "display_data"
    }
   ],
   "source": [
    "from utils.Plot_ROC_PR_Curve import plot_roc_pr\n",
    "\n",
    "y_pred = model.predict(test_df[\"text\"])\n",
    "\n",
    "plot_roc_pr(y_pred = y_pred, y_test = y_test)"
   ]
  },
  {
   "cell_type": "markdown",
   "metadata": {},
   "source": [
    "Finally we can save the model for deploying the model"
   ]
  },
  {
   "cell_type": "code",
   "execution_count": 72,
   "metadata": {},
   "outputs": [
    {
     "name": "stderr",
     "output_type": "stream",
     "text": [
      "2022-11-14 20:26:23.654731: W tensorflow/python/util/util.cc:368] Sets are not currently considered sequences, but this may change in the future, so consider avoiding using them.\n"
     ]
    }
   ],
   "source": [
    "model.save(\"cnn_model\")"
   ]
  },
  {
   "cell_type": "markdown",
   "metadata": {},
   "source": [
    "## Next Steps <a class=\"anchor\" id=\"sixth-bullet\"></a>\n",
    "\n",
    "In this post we covered how to build a Convolutional Neural Network in Keras using a pretrained embedding called GloVe. We optimized the model hyperparameters using the Optuna library and persisted saved model. In a follow up post we will deploy this model to production Google Cloud.\n",
    "\n",
    "Hope you enjoyed reading!"
   ]
  }
 ],
 "metadata": {
  "colab": {
   "authorship_tag": "ABX9TyPWTTd7yPkxh2nn2xIX0vc4",
   "collapsed_sections": [],
   "include_colab_link": true,
   "name": "NLP-Part4.ipynb",
   "provenance": []
  },
  "kernelspec": {
   "display_name": "Python (deepgreen)",
   "language": "python",
   "name": "deepgreen"
  },
  "language_info": {
   "codemirror_mode": {
    "name": "ipython",
    "version": 3
   },
   "file_extension": ".py",
   "mimetype": "text/x-python",
   "name": "python",
   "nbconvert_exporter": "python",
   "pygments_lexer": "ipython3",
   "version": "3.8.12"
  }
 },
 "nbformat": 4,
 "nbformat_minor": 4
}
