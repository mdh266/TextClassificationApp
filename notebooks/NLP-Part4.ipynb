{
 "cells": [
  {
   "cell_type": "markdown",
   "metadata": {
    "colab_type": "text",
    "id": "view-in-github"
   },
   "source": [
    "<a href=\"https://colab.research.google.com/github/mdh266/TextClassificationApp/blob/feature%2Fkeras/NLP_Part4.ipynb\" target=\"_parent\"><img src=\"https://colab.research.google.com/assets/colab-badge.svg\" alt=\"Open In Colab\"/></a>"
   ]
  },
  {
   "cell_type": "markdown",
   "metadata": {},
   "source": [
    "# Text Classification 4: Deep Learning With Tensorflow and Optuna\n",
    "--------------\n",
    "\n",
    "__[1. Introduction](#first-bullet)__\n",
    "\n",
    "__[2. Vectorizing Text](#second-bullet)__\n",
    "\n",
    "__[3. Handling Imbalance In The Data](#third-bullet)__\n",
    "\n",
    "__[4. Building A Convolutional Neural Network With Keras](#fourth-bullet)__\n",
    "\n",
    "__[5. Hyperparameter Tuning with Optuna](#fifth-bullet)__\n",
    "\n",
    "__[6. Next Steps](#sixth-bullet)__\n",
    "\n",
    "\n",
    "## Introduction <a class=\"anchor\" id=\"first-bullet\"></a>\n",
    "------------------\n",
    "\n",
    "In this post I want to extend on the last [model](http://michael-harmon.com/blog/NLP2.html) in my blog series on text classification where I used a SVM to predict the topic of papers in arxiv based on their abstract. For reference the topics were \"Machine Learning\", \"Computer Vision\", \"Artifical Intelligence\" and \"Robotics\" and there was imbalance in the classes.\n",
    "\n",
    "In this post I will use a [Convolutional Neural Network (CNN)](https://en.wikipedia.org/wiki/Convolutional_neural_network) model with [Tensorflow](https://www.tensorflow.org/) and [Keras](https://keras.io/) to predict the topic of the abstract and use [Optuna](https://optuna.org/) to optimize the hyperparamters of the model. Keras is a high level library that makes building complex deep learning models relatively easy as well as being built into [Tensorflow](https://www.tensorflow.org/) which is a production ready framework. Optuna is powerful automatic hyperparameter tuning library that uses a *define-by-run* design that makes it elegant and easy to use. I have just started using this library and have been particularly impressed with the design and felt it was extremely intuitve. While CNN's are no longer the state-of-the-art algorithms for text classification, they still perform quite well and I wanted to explore how they would work on this problem. I should note that, the point of this isn't to build the most high performing model (, but rather to show all these tools fit together build a deep learning model end-to-end.\n",
    "\n",
    "\n",
    "Before we get started building the model let's quickly go over vectorizing text as the process I use in this post is different from prior posts which used the [bag-of-words model](https://en.wikipedia.org/wiki/Bag-of-words_model)."
   ]
  },
  {
   "cell_type": "code",
   "execution_count": 1,
   "metadata": {},
   "outputs": [],
   "source": [
    "from google.oauth2 import service_account\n",
    "from google.cloud import storage\n",
    "import pandas as pd\n",
    "import matplotlib.pyplot as plt\n",
    "%matplotlib inline\n",
    "\n",
    "\n",
    "train_df = pd.read_json(\"gs://harmon-arxiv/train_abstracts.json\",\n",
    "                        storage_options={\"token\": \"credentials.json\"})\n",
    "    \n",
    "val_df = pd.read_json(\"gs://harmon-arxiv/test_abstracts.json\",\n",
    "                        storage_options={\"token\": \"credentials.json\"})"
   ]
  },
  {
   "cell_type": "code",
   "execution_count": 2,
   "metadata": {},
   "outputs": [
    {
     "data": {
      "text/html": [
       "<div>\n",
       "<style scoped>\n",
       "    .dataframe tbody tr th:only-of-type {\n",
       "        vertical-align: middle;\n",
       "    }\n",
       "\n",
       "    .dataframe tbody tr th {\n",
       "        vertical-align: top;\n",
       "    }\n",
       "\n",
       "    .dataframe thead th {\n",
       "        text-align: right;\n",
       "    }\n",
       "</style>\n",
       "<table border=\"1\" class=\"dataframe\">\n",
       "  <thead>\n",
       "    <tr style=\"text-align: right;\">\n",
       "      <th></th>\n",
       "      <th>category</th>\n",
       "      <th>text</th>\n",
       "    </tr>\n",
       "  </thead>\n",
       "  <tbody>\n",
       "    <tr>\n",
       "      <th>0</th>\n",
       "      <td>ai</td>\n",
       "      <td>Because of their occasional need to return to ...</td>\n",
       "    </tr>\n",
       "    <tr>\n",
       "      <th>1</th>\n",
       "      <td>ai</td>\n",
       "      <td>Market price systems constitute a well-underst...</td>\n",
       "    </tr>\n",
       "    <tr>\n",
       "      <th>2</th>\n",
       "      <td>ai</td>\n",
       "      <td>We describe an extensive study of search in GS...</td>\n",
       "    </tr>\n",
       "    <tr>\n",
       "      <th>3</th>\n",
       "      <td>ai</td>\n",
       "      <td>As real logic programmers normally use cut (!)...</td>\n",
       "    </tr>\n",
       "    <tr>\n",
       "      <th>4</th>\n",
       "      <td>ai</td>\n",
       "      <td>To support the goal of allowing users to recor...</td>\n",
       "    </tr>\n",
       "  </tbody>\n",
       "</table>\n",
       "</div>"
      ],
      "text/plain": [
       "  category                                               text\n",
       "0       ai  Because of their occasional need to return to ...\n",
       "1       ai  Market price systems constitute a well-underst...\n",
       "2       ai  We describe an extensive study of search in GS...\n",
       "3       ai  As real logic programmers normally use cut (!)...\n",
       "4       ai  To support the goal of allowing users to recor..."
      ]
     },
     "execution_count": 2,
     "metadata": {},
     "output_type": "execute_result"
    }
   ],
   "source": [
    "train_df.head()"
   ]
  },
  {
   "cell_type": "markdown",
   "metadata": {
    "id": "2dJT9l0K_ly4"
   },
   "source": [
    "## Vectorizing Text <a class=\"anchor\" id=\"second-bullet\"></a>\n",
    "\n",
    "Machine learning models make use of numerical data in the form of vectors that represent the values of the features in the model. The model is really just an approximation to a function that maps the input vectors to the output (which can be a scalar or vector). In order to build machine learning models that use text data we need convert the text to numerical vectors. To do this we use a [Vector Space Model](https://en.wikipedia.org/wiki/Vector_space_model) which repesents words as vectors in the space.\n",
    "\n",
    "In my [first post](http://michael-harmon.com/blog/NLP1.html) in this series I went over a vector space model called  [Bag of Words](https://en.wikipedia.org/wiki/Bag-of-words_model) along with [Term Frequency-Inverse Document Frequency (TF-IDF)](https://en.wikipedia.org/wiki/Tf%E2%80%93idf). While these are a classic representations for text, one pifull is that is often produces sparse high dimensional representations. This combination can be particularly challenging for machine learning models to work with. Another shortcoming of the bag-of-words model is that it doesn not take into account order of the words or their semantic relationships. We'll address is the issue of semantic relationships using [Word Embeddings](https://en.wikipedia.org/wiki/Word_embedding), but first we need to discuss how to vectorize text using the TensorFlow [TextVectorization](https://www.tensorflow.org/api_docs/python/tf/keras/layers/TextVectorization) class.  \n",
    "\n",
    "First let's grab our data from [Google Cloud Storage](https://cloud.google.com/storage) using [Pandas](https://pandas.pydata.org/) where is stored as json objects. "
   ]
  },
  {
   "cell_type": "markdown",
   "metadata": {},
   "source": [
    "Let's convert the category to numerical values 1, 2, 3, 4 which represent the different abstract topics using the [LabelEncoder](https://scikit-learn.org/stable/modules/generated/sklearn.preprocessing.LabelEncoder.html) function:"
   ]
  },
  {
   "cell_type": "code",
   "execution_count": 3,
   "metadata": {
    "colab": {
     "base_uri": "https://localhost:8080/",
     "height": 206
    },
    "id": "B1jcTPGtM9j_",
    "outputId": "47d7c40e-f7d0-48b5-ecfe-1a2365dd3055"
   },
   "outputs": [
    {
     "data": {
      "text/html": [
       "<div>\n",
       "<style scoped>\n",
       "    .dataframe tbody tr th:only-of-type {\n",
       "        vertical-align: middle;\n",
       "    }\n",
       "\n",
       "    .dataframe tbody tr th {\n",
       "        vertical-align: top;\n",
       "    }\n",
       "\n",
       "    .dataframe thead th {\n",
       "        text-align: right;\n",
       "    }\n",
       "</style>\n",
       "<table border=\"1\" class=\"dataframe\">\n",
       "  <thead>\n",
       "    <tr style=\"text-align: right;\">\n",
       "      <th></th>\n",
       "      <th>category</th>\n",
       "      <th>text</th>\n",
       "      <th>target</th>\n",
       "    </tr>\n",
       "  </thead>\n",
       "  <tbody>\n",
       "    <tr>\n",
       "      <th>0</th>\n",
       "      <td>ai</td>\n",
       "      <td>Because of their occasional need to return to ...</td>\n",
       "      <td>0</td>\n",
       "    </tr>\n",
       "    <tr>\n",
       "      <th>1</th>\n",
       "      <td>ai</td>\n",
       "      <td>Market price systems constitute a well-underst...</td>\n",
       "      <td>0</td>\n",
       "    </tr>\n",
       "    <tr>\n",
       "      <th>2</th>\n",
       "      <td>ai</td>\n",
       "      <td>We describe an extensive study of search in GS...</td>\n",
       "      <td>0</td>\n",
       "    </tr>\n",
       "    <tr>\n",
       "      <th>3</th>\n",
       "      <td>ai</td>\n",
       "      <td>As real logic programmers normally use cut (!)...</td>\n",
       "      <td>0</td>\n",
       "    </tr>\n",
       "    <tr>\n",
       "      <th>4</th>\n",
       "      <td>ai</td>\n",
       "      <td>To support the goal of allowing users to recor...</td>\n",
       "      <td>0</td>\n",
       "    </tr>\n",
       "  </tbody>\n",
       "</table>\n",
       "</div>"
      ],
      "text/plain": [
       "  category                                               text  target\n",
       "0       ai  Because of their occasional need to return to ...       0\n",
       "1       ai  Market price systems constitute a well-underst...       0\n",
       "2       ai  We describe an extensive study of search in GS...       0\n",
       "3       ai  As real logic programmers normally use cut (!)...       0\n",
       "4       ai  To support the goal of allowing users to recor...       0"
      ]
     },
     "execution_count": 3,
     "metadata": {},
     "output_type": "execute_result"
    }
   ],
   "source": [
    "from sklearn.preprocessing import LabelEncoder\n",
    "\n",
    "labeler  = LabelEncoder()\n",
    "train_df = train_df.assign(target=labeler.fit_transform(train_df[\"category\"]))\n",
    "val_df   = val_df.assign(target=labeler.fit_transform(val_df[\"category\"]))\n",
    "\n",
    "train_df.head()"
   ]
  },
  {
   "cell_type": "markdown",
   "metadata": {},
   "source": [
    "Now just like with bag-of-words model we need to reperesent documents as vectors in a vector space.  We use the [TextVectorization](https://www.tensorflow.org/api_docs/python/tf/keras/layers/TextVectorization) class to automatically convert documents to vectors. This class creates a dictionary of words where each word is associated number with an integer index in the dictionary. Words in the sentences are represented by their index value in the vector. The order of the words in the sentence dictate which entry they are in the vector. For example the first word in the sentence has it index value in entry 0 in the vector, the second word has its index value in entry 1 in the vector and so on.\n",
    "\n",
    "We cap the number of words in our dictionary (or vocabulary) at an integer called `max_tokens`. We also set the length of sentences to be capped at `sequence_length` tokens long. That means if our abstract contains less than `sequence_length` words then we pad the rest of the vectors entries with 0's to give it a length of `sequence_length`. If the abstract contains more than `sequence_length` words it will be cut short.\n",
    "\n",
    "Let's first set `sequence_length` by looking at the number of tokens in each document by their category in a histogram:"
   ]
  },
  {
   "cell_type": "code",
   "execution_count": 4,
   "metadata": {},
   "outputs": [
    {
     "data": {
      "text/plain": [
       "<AxesSubplot:xlabel='num_tokens', ylabel='Count'>"
      ]
     },
     "execution_count": 4,
     "metadata": {},
     "output_type": "execute_result"
    },
    {
     "data": {
      "image/png": "[encoded data removed]",
      "text/plain": [
       "<Figure size 432x288 with 1 Axes>"
      ]
     },
     "metadata": {
      "needs_background": "light"
     },
     "output_type": "display_data"
    }
   ],
   "source": [
    "import seaborn as sns\n",
    "\n",
    "train_df = train_df.assign(num_tokens=train_df.text.str.split().apply(len))\n",
    "\n",
    "sns.histplot(data=train_df, x=\"num_tokens\", hue=\"category\")"
   ]
  },
  {
   "cell_type": "markdown",
   "metadata": {},
   "source": [
    "We can see that most documents are between 50 and 300 words long and the max being close to 400. So let's set our max sequence length to be 400. "
   ]
  },
  {
   "cell_type": "markdown",
   "metadata": {},
   "source": [
    "Now, we'll import Tensorflow as well as TextVectorization function. Note the version of TensorFlow I am using is "
   ]
  },
  {
   "cell_type": "code",
   "execution_count": 5,
   "metadata": {},
   "outputs": [
    {
     "data": {
      "text/plain": [
       "'2.8.0'"
      ]
     },
     "execution_count": 5,
     "metadata": {},
     "output_type": "execute_result"
    }
   ],
   "source": [
    "import tensorflow as tf\n",
    "tf.__version__"
   ]
  },
  {
   "cell_type": "markdown",
   "metadata": {},
   "source": [
    "Depending on your verion of Tensorflow, [TextVectorization](https://www.tensorflow.org/api_docs/python/tf/keras/layers/TextVectorization) (along with other functions I use) may no longer be experimental and the path may be different.\n",
    "\n",
    "We create a `TextVectorization` layer that has a max sequence length of 400 and cap the vocabulary to be 20,000. Words that are not in this vocabulary will be set to a default \"unknown\" token. "
   ]
  },
  {
   "cell_type": "code",
   "execution_count": 6,
   "metadata": {
    "id": "6CXq1TOyUEtm"
   },
   "outputs": [
    {
     "name": "stdout",
     "output_type": "stream",
     "text": [
      "Metal device set to: Apple M1\n"
     ]
    },
    {
     "name": "stderr",
     "output_type": "stream",
     "text": [
      "2022-11-13 20:38:23.282845: I tensorflow/core/common_runtime/pluggable_device/pluggable_device_factory.cc:305] Could not identify NUMA node of platform GPU ID 0, defaulting to 0. Your kernel may not have been built with NUMA support.\n",
      "2022-11-13 20:38:23.282954: I tensorflow/core/common_runtime/pluggable_device/pluggable_device_factory.cc:271] Created TensorFlow device (/job:localhost/replica:0/task:0/device:GPU:0 with 0 MB memory) -> physical PluggableDevice (device: 0, name: METAL, pci bus id: <undefined>)\n"
     ]
    }
   ],
   "source": [
    "from tensorflow.keras.layers.experimental.preprocessing import TextVectorization\n",
    "\n",
    "max_features = 20000\n",
    "sequence_length = 400\n",
    "\n",
    "vectorize_layer = TextVectorization(\n",
    "    standardize=\"lower_and_strip_punctuation\",\n",
    "    max_tokens=max_features,\n",
    "    output_mode=\"int\",\n",
    "    pad_to_max_tokens=True,\n",
    "    output_sequence_length=sequence_length,\n",
    ")"
   ]
  },
  {
   "cell_type": "markdown",
   "metadata": {},
   "source": [
    "Now we train the layer on the entire training dataset,"
   ]
  },
  {
   "cell_type": "code",
   "execution_count": 7,
   "metadata": {},
   "outputs": [
    {
     "name": "stderr",
     "output_type": "stream",
     "text": [
      "2022-11-13 20:38:23.313578: W tensorflow/core/platform/profile_utils/cpu_utils.cc:128] Failed to get CPU frequency: 0 Hz\n",
      "2022-11-13 20:38:23.342747: I tensorflow/core/grappler/optimizers/custom_graph_optimizer_registry.cc:113] Plugin optimizer for device_type GPU is enabled.\n"
     ]
    }
   ],
   "source": [
    "vectorize_layer.adapt(train_df[\"text\"].to_numpy())"
   ]
  },
  {
   "cell_type": "markdown",
   "metadata": {},
   "source": [
    "Let's look at an example of a text and its vector representation,"
   ]
  },
  {
   "cell_type": "code",
   "execution_count": 8,
   "metadata": {},
   "outputs": [
    {
     "data": {
      "text/plain": [
       "'Because of their occasional need to return to shallow points in a search\\ntree, existing backtracking methods can sometimes erase meaningful progress\\ntoward solving a search problem. In this paper, we present a method by which\\nbacktrack points can be moved deeper in the search space, thereby avoiding this\\ndifficulty. The technique developed is a variant of dependency-directed\\nbacktracking that uses only polynomial space while still providing useful\\ncontrol information and retaining the completeness guarantees provided by\\nearlier approaches.'"
      ]
     },
     "execution_count": 8,
     "metadata": {},
     "output_type": "execute_result"
    }
   ],
   "source": [
    "test = train_df[\"text\"][0]\n",
    "test"
   ]
  },
  {
   "cell_type": "markdown",
   "metadata": {},
   "source": [
    "Now lets look at the vector representation,"
   ]
  },
  {
   "cell_type": "code",
   "execution_count": 9,
   "metadata": {
    "scrolled": true
   },
   "outputs": [
    {
     "data": {
      "text/plain": [
       "<tf.Tensor: shape=(400,), dtype=int64, numpy=\n",
       "array([ 348,    3,   80, 9056,  408,    6, 2380,    6, 2802,  244,    7,\n",
       "          4,  106,  345,  124, 2220,   39,   22, 2119, 9690, 1526, 1510,\n",
       "       2481,  316,    4,  106,   33,    7,   12,   24,    9,   65,    4,\n",
       "         29,   18,   20, 5380,  244,   22,   19, 6762, 2778,    7,    2,\n",
       "        106,   98, 1666, 2529,   12, 1307,    2,  147,  241,    8,    4,\n",
       "       1115,    3, 9833, 2220,   11,  303,   95,  568,   98,  123,  619,\n",
       "        993,  396,  205,   53,    5, 3918,    2, 2471,  809,  538,   18,\n",
       "       1609,  127,    0,    0,    0,    0,    0,    0,    0,    0,    0,\n",
       "          0,    0,    0,    0,    0,    0,    0,    0,    0,    0,    0,\n",
       "          0,    0,    0,    0,    0,    0,    0,    0,    0,    0,    0,\n",
       "          0,    0,    0,    0,    0,    0,    0,    0,    0,    0,    0,\n",
       "          0,    0,    0,    0,    0,    0,    0,    0,    0,    0,    0,\n",
       "          0,    0,    0,    0,    0,    0,    0,    0,    0,    0,    0,\n",
       "          0,    0,    0,    0,    0,    0,    0,    0,    0,    0,    0,\n",
       "          0,    0,    0,    0,    0,    0,    0,    0,    0,    0,    0,\n",
       "          0,    0,    0,    0,    0,    0,    0,    0,    0,    0,    0,\n",
       "          0,    0,    0,    0,    0,    0,    0,    0,    0,    0,    0,\n",
       "          0,    0,    0,    0,    0,    0,    0,    0,    0,    0,    0,\n",
       "          0,    0,    0,    0,    0,    0,    0,    0,    0,    0,    0,\n",
       "          0,    0,    0,    0,    0,    0,    0,    0,    0,    0,    0,\n",
       "          0,    0,    0,    0,    0,    0,    0,    0,    0,    0,    0,\n",
       "          0,    0,    0,    0,    0,    0,    0,    0,    0,    0,    0,\n",
       "          0,    0,    0,    0,    0,    0,    0,    0,    0,    0,    0,\n",
       "          0,    0,    0,    0,    0,    0,    0,    0,    0,    0,    0,\n",
       "          0,    0,    0,    0,    0,    0,    0,    0,    0,    0,    0,\n",
       "          0,    0,    0,    0,    0,    0,    0,    0,    0,    0,    0,\n",
       "          0,    0,    0,    0,    0,    0,    0,    0,    0,    0,    0,\n",
       "          0,    0,    0,    0,    0,    0,    0,    0,    0,    0,    0,\n",
       "          0,    0,    0,    0,    0,    0,    0,    0,    0,    0,    0,\n",
       "          0,    0,    0,    0,    0,    0,    0,    0,    0,    0,    0,\n",
       "          0,    0,    0,    0,    0,    0,    0,    0,    0,    0,    0,\n",
       "          0,    0,    0,    0,    0,    0,    0,    0,    0,    0,    0,\n",
       "          0,    0,    0,    0,    0,    0,    0,    0,    0,    0,    0,\n",
       "          0,    0,    0,    0,    0,    0,    0,    0,    0,    0,    0,\n",
       "          0,    0,    0,    0,    0,    0,    0,    0,    0,    0,    0,\n",
       "          0,    0,    0,    0,    0,    0,    0,    0,    0,    0,    0,\n",
       "          0,    0,    0,    0])>"
      ]
     },
     "execution_count": 9,
     "metadata": {},
     "output_type": "execute_result"
    }
   ],
   "source": [
    "vectorize_layer.call(test)"
   ]
  },
  {
   "cell_type": "markdown",
   "metadata": {},
   "source": [
    "Note that our vectors are of max sequence length (300), not the vocabulary length (20,000). Since the above sentence did not have 300 words in it, we pad vector with 0's to make sure the vectors are all of the same length.\n",
    "\n",
    "The i-th entry in the above vector corresponds to the i-th word in sequence of words in the text. The value of the entry in the vector is the index for that word in our vocabulary.\n",
    "\n",
    "The first entry is 8 which means that the word \"We\" is the 8th entry in our 20,000 vocabulary list. The second entry is 309, which means the word \"develop\" is the 309th entry in our vocabulary list.\n",
    "\n",
    "Let's try a word that most likely isnt on our vocabulary to see what the default token's entry is in our vocabulary list"
   ]
  },
  {
   "cell_type": "code",
   "execution_count": 10,
   "metadata": {},
   "outputs": [
    {
     "data": {
      "text/plain": [
       "<tf.Tensor: shape=(400,), dtype=int64, numpy=\n",
       "array([1, 1, 0, 0, 0, 0, 0, 0, 0, 0, 0, 0, 0, 0, 0, 0, 0, 0, 0, 0, 0, 0,\n",
       "       0, 0, 0, 0, 0, 0, 0, 0, 0, 0, 0, 0, 0, 0, 0, 0, 0, 0, 0, 0, 0, 0,\n",
       "       0, 0, 0, 0, 0, 0, 0, 0, 0, 0, 0, 0, 0, 0, 0, 0, 0, 0, 0, 0, 0, 0,\n",
       "       0, 0, 0, 0, 0, 0, 0, 0, 0, 0, 0, 0, 0, 0, 0, 0, 0, 0, 0, 0, 0, 0,\n",
       "       0, 0, 0, 0, 0, 0, 0, 0, 0, 0, 0, 0, 0, 0, 0, 0, 0, 0, 0, 0, 0, 0,\n",
       "       0, 0, 0, 0, 0, 0, 0, 0, 0, 0, 0, 0, 0, 0, 0, 0, 0, 0, 0, 0, 0, 0,\n",
       "       0, 0, 0, 0, 0, 0, 0, 0, 0, 0, 0, 0, 0, 0, 0, 0, 0, 0, 0, 0, 0, 0,\n",
       "       0, 0, 0, 0, 0, 0, 0, 0, 0, 0, 0, 0, 0, 0, 0, 0, 0, 0, 0, 0, 0, 0,\n",
       "       0, 0, 0, 0, 0, 0, 0, 0, 0, 0, 0, 0, 0, 0, 0, 0, 0, 0, 0, 0, 0, 0,\n",
       "       0, 0, 0, 0, 0, 0, 0, 0, 0, 0, 0, 0, 0, 0, 0, 0, 0, 0, 0, 0, 0, 0,\n",
       "       0, 0, 0, 0, 0, 0, 0, 0, 0, 0, 0, 0, 0, 0, 0, 0, 0, 0, 0, 0, 0, 0,\n",
       "       0, 0, 0, 0, 0, 0, 0, 0, 0, 0, 0, 0, 0, 0, 0, 0, 0, 0, 0, 0, 0, 0,\n",
       "       0, 0, 0, 0, 0, 0, 0, 0, 0, 0, 0, 0, 0, 0, 0, 0, 0, 0, 0, 0, 0, 0,\n",
       "       0, 0, 0, 0, 0, 0, 0, 0, 0, 0, 0, 0, 0, 0, 0, 0, 0, 0, 0, 0, 0, 0,\n",
       "       0, 0, 0, 0, 0, 0, 0, 0, 0, 0, 0, 0, 0, 0, 0, 0, 0, 0, 0, 0, 0, 0,\n",
       "       0, 0, 0, 0, 0, 0, 0, 0, 0, 0, 0, 0, 0, 0, 0, 0, 0, 0, 0, 0, 0, 0,\n",
       "       0, 0, 0, 0, 0, 0, 0, 0, 0, 0, 0, 0, 0, 0, 0, 0, 0, 0, 0, 0, 0, 0,\n",
       "       0, 0, 0, 0, 0, 0, 0, 0, 0, 0, 0, 0, 0, 0, 0, 0, 0, 0, 0, 0, 0, 0,\n",
       "       0, 0, 0, 0])>"
      ]
     },
     "execution_count": 10,
     "metadata": {},
     "output_type": "execute_result"
    }
   ],
   "source": [
    "vectorize_layer.call(\"onomatopoeia triglycerides\")"
   ]
  },
  {
   "cell_type": "markdown",
   "metadata": {},
   "source": [
    "We can see that the word \"onomatopeoia\" and \"triglycerides\" are both represented by a 1 which means the unknown token in our vocabulary is 1. We can get the dictionary of words by using the `.get_vocabulary` method."
   ]
  },
  {
   "cell_type": "code",
   "execution_count": 11,
   "metadata": {},
   "outputs": [],
   "source": [
    "voc = vectorize_layer.get_vocabulary()\n",
    "word_index = dict(zip(voc, range(len(voc))))"
   ]
  },
  {
   "cell_type": "markdown",
   "metadata": {},
   "source": [
    "## Handling Imbalance In The Data <a class=\"anchor\" id=\"third-bullet\"></a>"
   ]
  },
  {
   "cell_type": "markdown",
   "metadata": {},
   "source": [
    "I found the most natural way to deal with imbalanced data in Keras is using weights, similar to the way I did in the [first blog post](http://michael-harmon.com/blog/NLP1.html) in this series. In other frameworks like [Scikit-Learn](https://scikit-learn.org/stable/) the weights for each class are determined automatically, however, with Kera's I found I neeeded to set them explicitly.\n",
    "\n",
    "Luckily we can use Scikit-Learn's [compute_class_weight](https://scikit-learn.org/stable/modules/generated/sklearn.utils.class_weight.compute_class_weight.html) function to get estimates for the weights,"
   ]
  },
  {
   "cell_type": "code",
   "execution_count": 12,
   "metadata": {
    "colab": {
     "base_uri": "https://localhost:8080/"
    },
    "id": "yyTEXiUFUdNy",
    "outputId": "49847bd3-471b-4c29-d0fd-b40cabd7bc05"
   },
   "outputs": [
    {
     "name": "stdout",
     "output_type": "stream",
     "text": [
      "class_weights: [0.79084967 0.79084967 0.79084967 4.84      ]\n"
     ]
    }
   ],
   "source": [
    "from sklearn.utils import class_weight \n",
    "import numpy as np\n",
    "\n",
    "class_weights = class_weight.compute_class_weight(\n",
    "                                   'balanced',\n",
    "                                    classes= np.unique(train_df[\"target\"]), \n",
    "                                    y=train_df[\"target\"])\n",
    "\n",
    "print(f\"class_weights: {class_weights}\")"
   ]
  },
  {
   "cell_type": "markdown",
   "metadata": {},
   "source": [
    "Then we can convert that into a dictionary for each class and its corresponding weight:"
   ]
  },
  {
   "cell_type": "code",
   "execution_count": 13,
   "metadata": {
    "id": "pkzV-GXnUdQX"
   },
   "outputs": [
    {
     "name": "stdout",
     "output_type": "stream",
     "text": [
      "weights_dict: {0: 0.7908496732026143, 1: 0.7908496732026143, 2: 0.7908496732026143, 3: 4.84}\n"
     ]
    }
   ],
   "source": [
    "weights_dict = dict(zip(range(4), class_weights))\n",
    "print(f\"weights_dict: {weights_dict}\")"
   ]
  },
  {
   "cell_type": "markdown",
   "metadata": {
    "colab": {
     "base_uri": "https://localhost:8080/"
    },
    "id": "Pt4N1prZUdSu",
    "outputId": "1fb344be-24a9-424c-eaa3-49e28f13783b"
   },
   "source": [
    "We're cheating a little here because were using the entire dataset for calculating the dataset, but we wont be using cross validation so it's not so bad.\n",
    "\n",
    "Let's take a look at the data again, but this time look at distribution of the target variable with respect to the index in the dataframe"
   ]
  },
  {
   "cell_type": "code",
   "execution_count": 14,
   "metadata": {},
   "outputs": [
    {
     "data": {
      "text/plain": [
       "<AxesSubplot:xlabel='index', ylabel='target'>"
      ]
     },
     "execution_count": 14,
     "metadata": {},
     "output_type": "execute_result"
    },
    {
     "data": {
      "image/png": "[encoded data removed]",
      "text/plain": [
       "<Figure size 432x288 with 1 Axes>"
      ]
     },
     "metadata": {
      "needs_background": "light"
     },
     "output_type": "display_data"
    }
   ],
   "source": [
    "train_df.reset_index().plot('index', 'target', kind='scatter')"
   ]
  },
  {
   "cell_type": "markdown",
   "metadata": {},
   "source": [
    "The dataset is ordered by the target variable which can be a problem for deep learning models. Deep learning models use [mini-batch gradient descent](https://machinelearningmastery.com/gentle-introduction-mini-batch-gradient-descent-configure-batch-size/) which use small batches of the original dataset to train on instead of the entire dataset. If the data is ordered according to the target variable each batch most likely will only have data from one class making the model unable to discern differences between classes.\n",
    "\n",
    "To avoid this situation we want to shuffle the dataset first so that the model will get a sufficient representation of  each class in each batch during training."
   ]
  },
  {
   "cell_type": "code",
   "execution_count": 15,
   "metadata": {},
   "outputs": [],
   "source": [
    "from sklearn.utils import shuffle\n",
    "\n",
    "train_df = shuffle(train_df)\n",
    "val_df = shuffle(val_df)"
   ]
  },
  {
   "cell_type": "markdown",
   "metadata": {},
   "source": [
    "We can now see the datset is not ordered by the target variable value,"
   ]
  },
  {
   "cell_type": "code",
   "execution_count": 16,
   "metadata": {},
   "outputs": [
    {
     "data": {
      "text/plain": [
       "<AxesSubplot:xlabel='index', ylabel='target'>"
      ]
     },
     "execution_count": 16,
     "metadata": {},
     "output_type": "execute_result"
    },
    {
     "data": {
      "image/png": "[encoded data removed]",
      "text/plain": [
       "<Figure size 432x288 with 1 Axes>"
      ]
     },
     "metadata": {
      "needs_background": "light"
     },
     "output_type": "display_data"
    }
   ],
   "source": [
    "(train_df.reset_index(drop=True)\n",
    "               .reset_index()\n",
    "               .plot('index', 'target', kind='scatter'))"
   ]
  },
  {
   "cell_type": "markdown",
   "metadata": {},
   "source": [
    "Now the data looks much more evenly distributed across the index of the dataframe!\n",
    "\n",
    "Notice that I didnt have to worry about this in prior blog post's models since Scikit-Learn by default uses statified sampling to create folds in [GridSearchCV](https://scikit-learn.org/stable/modules/generated/sklearn.model_selection.GridSearchCV.html). Those prior models also train on the entire fold in cross-validation.\n",
    "\n",
    "Lastly before we get started with the building a model we one-hot encode the target classes using the [label_binarize](https://scikit-learn.org/stable/modules/generated/sklearn.preprocessing.label_binarize.html) function:"
   ]
  },
  {
   "cell_type": "code",
   "execution_count": 17,
   "metadata": {},
   "outputs": [],
   "source": [
    "from sklearn.preprocessing import label_binarize\n",
    "\n",
    "# classes = [0,1,2,3]\n",
    "classes   = np.sort(train_df[\"target\"].unique())\n",
    "\n",
    "# relabel the test set\n",
    "y_train = label_binarize(train_df[\"target\"],\n",
    "                         classes=classes)\n",
    "\n",
    "y_val = label_binarize(val_df[\"target\"], \n",
    "                       classes=classes)"
   ]
  },
  {
   "cell_type": "markdown",
   "metadata": {},
   "source": [
    "We can see that the results are a 4-dimensional vector,"
   ]
  },
  {
   "cell_type": "code",
   "execution_count": 18,
   "metadata": {},
   "outputs": [
    {
     "data": {
      "text/plain": [
       "array([0, 1, 0, 0])"
      ]
     },
     "execution_count": 18,
     "metadata": {},
     "output_type": "execute_result"
    }
   ],
   "source": [
    "y_train[0]"
   ]
  },
  {
   "cell_type": "markdown",
   "metadata": {},
   "source": [
    "Now we can move onto building a convolutional neural network using Keras!"
   ]
  },
  {
   "cell_type": "markdown",
   "metadata": {},
   "source": [
    "## Building A Convolutional Neural Network With Keras <a class=\"anchor\" id=\"fourth-bullet\"></a>\n",
    "\n",
    "We will use a [Convolution Neural Network](https://en.wikipedia.org/wiki/Convolutional_neural_network) with the architecture shown below,\n",
    "\n",
    "<figure>\n",
    "<img src=\"images/Basic-architecture-of-CNN.png\" alt=\"Trulli\" style=\"width:75%\">\n",
    "<figcaption align = \"center\">\n",
    "    <b>From https://www.researchgate.net/figure/Basic-architecture-of-CNN_fig3_335086346</b>\n",
    "</figcaption>\n",
    "</figure>\n",
    "\n",
    "This is a pretty classic architecture for text classification that uses two [1D Convolutional Layer](https://www.tensorflow.org/api_docs/python/tf/keras/layers/Conv1D) with an [ReLU activation function](https://en.wikipedia.org/wiki/Rectifier_(neural_networks)) and [1D MaxPooling Layer](https://www.tensorflow.org/api_docs/python/tf/keras/layers/MaxPool1D). This is followed by a [Dense layer](https://www.tensorflow.org/api_docs/python/tf/keras/layers/Dense), [Dropout layer](https://www.tensorflow.org/api_docs/python/tf/keras/layers/Dropout) and a [softmax layer](https://en.wikipedia.org/wiki/Softmax_function) for predicting one of the four classes. The one thing that the above diagram does show is that Input Layer is using an [Embedding layer](https://www.tensorflow.org/api_docs/python/tf/keras/layers/Embedding) followed by a Dropout layer.\n",
    "\n",
    "[Word Emeddings](https://en.wikipedia.org/wiki/Word_embedding) (or embeddings) allows us to represent words in a dense low-dimensional vector space instead of a high-dimensional sparse vector space as with the bag-of-words model. In addition to reducing dimensionality they also allow us to learn semantic relationship between words such as man is to woman as king is to queen.\n",
    "\n",
    "A more detailed look at the convolutional/max pooling block is shown below, \n",
    "\n",
    "<figure>\n",
    "<img src=\"images/1d-convolutional.jpg\" alt=\"Trulli\" style=\"width:75%\">\n",
    "<figcaption align = \"center\">\n",
    "    <b>From https://www.researchgate.net/figure/a-Simple-scheme-of-a-one-dimension-1D-convolutional-operation-b-Full_fig2_334609713</b>\n",
    "</figcaption>\n",
    "</figure>\n",
    "\n",
    "A convolutional layer is made up filters (or kernels) that have weights that must be learned. The kernel size is the number of weights in each filter and are shown in pink. We take the sum-product of the weights and entries in the input vector and apply an [ReLU function](https://machinelearningmastery.com/rectified-linear-activation-function-for-deep-learning-neural-networks/) to form new entries in a the output layer. We slide this filter over all windows of size kernel size in the input layer to fill out entries in the output layer (yellow square). In this slidding mechanism we skip entries in the input space. The number of entries that we skip is called the [stride size](https://machinelearningmastery.com/padding-and-stride-for-convolutional-neural-networks/). This process process is called a convolution and results in an output that has less dimensions than input. We can supress this reduction in dimension by [padding](https://machinelearningmastery.com/padding-and-stride-for-convolutional-neural-networks/) the input vector with 0's so that the output is the same size as the input. Allowing the output space to be reduced in dimension is called \"valid\" padding and supressing this is called \"same\" padding.\n",
    "\n",
    "The [max pooling layer](https://machinelearningmastery.com/pooling-layers-for-convolutional-neural-networks/) looks at the values in a window of the convolutions output layer and finds the maximum value and makes that the value in the output cell. Another version of the operation is shown below.\n",
    "\n",
    "<figure>\n",
    "<img src=\"images/1D-max-pooling-operation.png\" alt=\"Trulli\" style=\"width:75%\">\n",
    "<figcaption align = \"center\">\n",
    "    <b>From https://www.researchgate.net/figure/1D-max-pooling-operation_fig4_324177888</b>\n",
    "</figcaption>\n",
    "</figure>\n",
    "\n",
    "\n",
    "\n",
    "The window size is again called the `pool_size` (`pooling_size` as labeled above).  MaxPooling also has the concept of `stride` and `padding` that a convolutional layer does. The point of MaxPooling is to make the repesentation more invariant to transformations, a concept that is more intuitive for me when it comes to computer vision.\n",
    "\n",
    "Lastly, we apply [DropOut](https://machinelearningmastery.com/dropout-for-regularizing-deep-neural-networks/) which is a form of regularization that randomly sets the weights of specific neurons to  zero during training time. This is shown below,\n",
    "\n",
    "<figure>\n",
    "<img src=\"images/dropout.jpg\" alt=\"Trulli\" style=\"width:75%\">\n",
    "<figcaption align = \"center\">\n",
    "    <b>From https://wenkangwei.github.io/2020/11/13/DL-DropOut/</b>\n",
    "</figcaption>\n",
    "</figure>\n",
    "\n",
    "\n",
    "Drop out prevents overfittings by making the network not overly dependent on any one neuron in the hidden layers. Usually drop out is not performed on in the input layer, as is reserved for the deepest layers as those are the most likely to have overfitting.\n",
    "\n",
    "Now that we have gone over the basics of the CNN architecture let's get building a model! We can import the necessary modules and see if we are using a GPU for training: "
   ]
  },
  {
   "cell_type": "code",
   "execution_count": 19,
   "metadata": {},
   "outputs": [],
   "source": [
    "from tensorflow.keras.layers import Dense, Input, Embedding\n",
    "from tensorflow.keras.models import Sequential\n",
    "from tensorflow.keras import layers, losses"
   ]
  },
  {
   "cell_type": "markdown",
   "metadata": {},
   "source": [
    "We can set the logging to only log errors and test to make sure we have a working GPU."
   ]
  },
  {
   "cell_type": "code",
   "execution_count": 20,
   "metadata": {},
   "outputs": [
    {
     "data": {
      "text/plain": [
       "[PhysicalDevice(name='/physical_device:GPU:0', device_type='GPU')]"
      ]
     },
     "execution_count": 20,
     "metadata": {},
     "output_type": "execute_result"
    }
   ],
   "source": [
    "tf.compat.v1 .logging.set_verbosity('ERROR')\n",
    "tf.config.list_physical_devices('GPU')"
   ]
  },
  {
   "cell_type": "markdown",
   "metadata": {},
   "source": [
    "Now we creating an embedding layer. Since we dont have too much data for deep learning we will use [transfer learning](https://en.wikipedia.org/wiki/Transfer_learning) by using a pre-trained embedding called [GloVe](https://nlp.stanford.edu/projects/glove/). We can create the emedding using the example from the [Keras site](https://keras.io/examples/nlp/pretrained_word_embeddings/). I wrote the function `create_embedding_matrix` to repeat these steps and we can use it below."
   ]
  },
  {
   "cell_type": "code",
   "execution_count": 21,
   "metadata": {},
   "outputs": [],
   "source": [
    "from utils.create_glove import create_embedding_matrix"
   ]
  },
  {
   "cell_type": "code",
   "execution_count": 22,
   "metadata": {},
   "outputs": [],
   "source": [
    "embedding_dim = 100\n",
    "\n",
    "embedding_matrix = create_embedding_matrix(path=\"glove_models\", \n",
    "                                           dim=embedding_dim, \n",
    "                                           voc=voc,\n",
    "                                           word_index=word_index)"
   ]
  },
  {
   "cell_type": "code",
   "execution_count": 23,
   "metadata": {},
   "outputs": [
    {
     "data": {
      "text/plain": [
       "(20002, 100)"
      ]
     },
     "execution_count": 23,
     "metadata": {},
     "output_type": "execute_result"
    }
   ],
   "source": [
    "embedding_matrix.shape"
   ]
  },
  {
   "cell_type": "code",
   "execution_count": 24,
   "metadata": {},
   "outputs": [],
   "source": [
    "num_tokens = embedding_matrix.shape[0]"
   ]
  },
  {
   "cell_type": "code",
   "execution_count": 25,
   "metadata": {},
   "outputs": [],
   "source": [
    "embedding_layer = Embedding(\n",
    "    num_tokens,\n",
    "    embedding_dim,\n",
    "    embeddings_initializer=tf.keras.initializers.Constant(embedding_matrix),\n",
    "    trainable=False,\n",
    ")"
   ]
  },
  {
   "cell_type": "markdown",
   "metadata": {},
   "source": [
    "Next we define a function that returns a compiled Keras model. The function takes in all the hyper-parameters we want to optimize for over our model so that we can feed in different test values of the parameters to find the optimal configuration. The function has default values so that we can call the function without any parameters passed."
   ]
  },
  {
   "cell_type": "code",
   "execution_count": 26,
   "metadata": {
    "colab": {
     "base_uri": "https://localhost:8080/"
    },
    "id": "NWkwE6_UUdYt",
    "outputId": "91cf1c7f-eb5f-4f69-a779-16f23a391852"
   },
   "outputs": [],
   "source": [
    "def build_model(\n",
    "    embedding_dim: int=128,\n",
    "    filters: int=8,\n",
    "    kernel_size: int=5,\n",
    "    stride_size: int=3,\n",
    "    conv_padding: str=\"valid\",\n",
    "    pool_padding: str=\"same\",\n",
    "    dropout: float=0.2\n",
    ") -> Sequential:\n",
    "    \n",
    "    model = Sequential([\n",
    "                # Embedding Layer\n",
    "                tf.keras.Input(shape=(1,), \n",
    "                               dtype=tf.string, \n",
    "                               name='text'),\n",
    "                vectorize_layer,\n",
    "                embedding_layer,\n",
    "            \n",
    "                # Convolutional Layers\n",
    "                layers.Conv1D(filters, \n",
    "                              kernel_size, \n",
    "                              padding=conv_padding, \n",
    "                              activation=\"relu\", \n",
    "                              strides=stride_size),\n",
    "        \n",
    "                layers.MaxPooling1D(padding=pool_padding),\n",
    "        \n",
    "                layers.Conv1D(filters, \n",
    "                              kernel_size, \n",
    "                              padding=conv_padding, \n",
    "                              activation=\"relu\", \n",
    "                              strides=stride_size),\n",
    "        \n",
    "                layers.GlobalMaxPool1D(),\n",
    "\n",
    "                # Add a vanilla hidden layer:\n",
    "                layers.Dense(filters, activation=\"relu\"),\n",
    "                layers.Dropout(dropout),\n",
    "\n",
    "                # softmax layer\n",
    "                layers.Dense(4, activation=\"softmax\")\n",
    "    ])\n",
    "\n",
    "    # sceduler\n",
    "    lr_schedule = tf.keras.optimizers.schedules.ExponentialDecay(\n",
    "                            initial_learning_rate=1e-2,\n",
    "                            decay_steps=1000,\n",
    "                            decay_rate=0.2)\n",
    "    \n",
    "    model.compile(loss=\"categorical_crossentropy\", \n",
    "                  optimizer=tf.optimizers.Adam(learning_rate=lr_schedule), \n",
    "                  metrics=[\"accuracy\", tf.keras.metrics.AUC(name='prc', curve='PR')])\n",
    "\n",
    "    return model"
   ]
  },
  {
   "cell_type": "markdown",
   "metadata": {
    "colab": {
     "base_uri": "https://localhost:8080/"
    },
    "id": "NWkwE6_UUdYt",
    "outputId": "91cf1c7f-eb5f-4f69-a779-16f23a391852"
   },
   "source": [
    "We can now build the model and see the number of unknowns in each layer as well as the total number of unknowns using the summary method,"
   ]
  },
  {
   "cell_type": "code",
   "execution_count": 27,
   "metadata": {},
   "outputs": [
    {
     "name": "stdout",
     "output_type": "stream",
     "text": [
      "Model: \"sequential\"\n",
      "_________________________________________________________________\n",
      " Layer (type)                Output Shape              Param #   \n",
      "=================================================================\n",
      " text_vectorization (TextVec  (None, 400)              0         \n",
      " torization)                                                     \n",
      "                                                                 \n",
      " embedding (Embedding)       (None, 400, 100)          2000200   \n",
      "                                                                 \n",
      " conv1d (Conv1D)             (None, 132, 8)            4008      \n",
      "                                                                 \n",
      " max_pooling1d (MaxPooling1D  (None, 66, 8)            0         \n",
      " )                                                               \n",
      "                                                                 \n",
      " conv1d_1 (Conv1D)           (None, 21, 8)             328       \n",
      "                                                                 \n",
      " global_max_pooling1d (Globa  (None, 8)                0         \n",
      " lMaxPooling1D)                                                  \n",
      "                                                                 \n",
      " dense (Dense)               (None, 8)                 72        \n",
      "                                                                 \n",
      " dropout (Dropout)           (None, 8)                 0         \n",
      "                                                                 \n",
      " dense_1 (Dense)             (None, 4)                 36        \n",
      "                                                                 \n",
      "=================================================================\n",
      "Total params: 2,004,644\n",
      "Trainable params: 4,444\n",
      "Non-trainable params: 2,000,200\n",
      "_________________________________________________________________\n"
     ]
    }
   ],
   "source": [
    "model = build_model()\n",
    "model.summary()"
   ]
  },
  {
   "cell_type": "markdown",
   "metadata": {},
   "source": [
    "The number of coefficents in this model is dominated by the word embedding. For this configuration the model has over 2 million coefficents which makes it quite complex. However, since we have used a pre-trained embedding the total number of trainable coefficents is a little over 4,000 which is not very many! This small number of trainable coefficents due to the power of transfer learning and the fact CNN's have sparse connections between layers!\n",
    "\n",
    "Next let's turn to optimize in the hyper parameters using Optuna."
   ]
  },
  {
   "cell_type": "markdown",
   "metadata": {},
   "source": [
    "## Hyperparameter Tuning with Optuna <a class=\"anchor\" id=\"fourth-bullet\"></a>\n",
    "\n",
    "Optuna is powerful automatic hyperparameter tuning library that uses a define-by-run design that makes it elegant and easy to use. I have just started using this powerfil library and have been particularly impressed with the design and felt it was extremely intuitve. The three things to take into account for a optimization run in Optun are *Trial*, *Study*, *Parameter*. These are defined as,\n",
    "\n",
    "- **Trial**: A single call of the objective function\n",
    "\n",
    "- **Study**: An optimization session, which is a set of trials\n",
    "\n",
    "- **Parameter**: A variable whose value is to be optimized, such as `embedding_dim` in the `build_model` function.\n",
    "\n",
    "The first thing we do is to define an **objective**; this is the objective function we want to maximize (or minimize). The objective is a function of a trial which is a process of evaluating an objective function provides interfaces to get the **parameter** suggestion.\n",
    "\n",
    "Notice that each hyperparameter is defiend as a parameter in the `build_model` function and is given a suggested value. The model is then fitted to the dataset and "
   ]
  },
  {
   "cell_type": "code",
   "execution_count": 28,
   "metadata": {},
   "outputs": [],
   "source": [
    "import optuna\n",
    "\n",
    "def objective(trial):\n",
    "    tf.keras.backend.clear_session()\n",
    "    \n",
    "    model = build_model(embedding_dim=trial.suggest_categorical(\"embedding_dim\", [64, 128, 256, 512]),\n",
    "                        conv_padding=trial.suggest_categorical(\"conv_padding\", [\"valid\", \"same\"]),\n",
    "                        pool_padding=trial.suggest_categorical(\"pool_padding\", [\"valid\", \"same\"]),\n",
    "                        kernel_size=trial.suggest_categorical(\"kernel_size\", [8, 16, 24, 32]),\n",
    "                        stride_size=trial.suggest_categorical(\"strides\", [1, 2, 3, 5]),\n",
    "                        dropout=trial.suggest_float(\"droput\", 0.3, 0.5))\n",
    "    \n",
    "    early_stopping_cb = tf.keras.callbacks.EarlyStopping(patience=10, \n",
    "                                                         restore_best_weights=True)\n",
    "    \n",
    "    history = model.fit(train_df[\"text\"], \n",
    "                        y_train, \n",
    "                        epochs=50, \n",
    "                        batch_size=trial.suggest_categorical(\"batch_size\", [32, 64, 128]), ,\n",
    "                        class_weight=weights_dict, \n",
    "                        validation_split=0.2,\n",
    "                        callbacks=[early_stopping_cb],\n",
    "                        verbose=True)\n",
    "    \n",
    "    scores = history.history[\"val_accuracy\"]\n",
    "    \n",
    "    # get the last epochs scores\n",
    "    return scores[-1]"
   ]
  },
  {
   "cell_type": "markdown",
   "metadata": {},
   "source": [
    "Next we create a backend storage to keep the results of every trial and reload the trial if necessary. In this set up I will use a local [sqlite](https://www.sqlite.org/index.html) database."
   ]
  },
  {
   "cell_type": "code",
   "execution_count": 31,
   "metadata": {},
   "outputs": [],
   "source": [
    "storage = optuna.storages.RDBStorage(\n",
    "    url=\"sqlite:///model_tunning.db\",\n",
    "    engine_kwargs={\"connect_args\": {\"timeout\": 10}},\n",
    ")"
   ]
  },
  {
   "cell_type": "markdown",
   "metadata": {},
   "source": [
    "Now we can create a the study with its name and to `maximize` the objective function. We also set the storage to be the sqlite database created above."
   ]
  },
  {
   "cell_type": "code",
   "execution_count": 32,
   "metadata": {},
   "outputs": [
    {
     "name": "stderr",
     "output_type": "stream",
     "text": [
      "\u001b[32m[I 2022-11-13 20:41:27,563]\u001b[0m A new study created in RDB with name: study_one\u001b[0m\n"
     ]
    }
   ],
   "source": [
    "study = optuna.create_study(study_name=\"study_one\", \n",
    "                            direction=\"maximize\", \n",
    "                            storage=storage)"
   ]
  },
  {
   "cell_type": "markdown",
   "metadata": {},
   "source": [
    "Well just create 10 studies to show the effectiveness of Optuna and fead the study the objective function through the `optimize` method."
   ]
  },
  {
   "cell_type": "code",
   "execution_count": 34,
   "metadata": {},
   "outputs": [],
   "source": [
    "optuna.logging.set_verbosity(optuna.logging.WARNING)\n",
    "study.optimize(objective, \n",
    "               n_trials=5, \n",
    "               timeout=600)"
   ]
  },
  {
   "cell_type": "code",
   "execution_count": 89,
   "metadata": {},
   "outputs": [
    {
     "data": {
      "text/html": [
       "<div>\n",
       "<style scoped>\n",
       "    .dataframe tbody tr th:only-of-type {\n",
       "        vertical-align: middle;\n",
       "    }\n",
       "\n",
       "    .dataframe tbody tr th {\n",
       "        vertical-align: top;\n",
       "    }\n",
       "\n",
       "    .dataframe thead th {\n",
       "        text-align: right;\n",
       "    }\n",
       "</style>\n",
       "<table border=\"1\" class=\"dataframe\">\n",
       "  <thead>\n",
       "    <tr style=\"text-align: right;\">\n",
       "      <th></th>\n",
       "      <th>number</th>\n",
       "      <th>value</th>\n",
       "      <th>datetime_start</th>\n",
       "      <th>datetime_complete</th>\n",
       "      <th>duration</th>\n",
       "      <th>params_batch_size</th>\n",
       "      <th>params_conv_padding</th>\n",
       "      <th>params_droput</th>\n",
       "      <th>params_embedding_dim</th>\n",
       "      <th>params_kernel_size</th>\n",
       "      <th>params_pool_padding</th>\n",
       "      <th>params_strides</th>\n",
       "      <th>state</th>\n",
       "    </tr>\n",
       "  </thead>\n",
       "  <tbody>\n",
       "    <tr>\n",
       "      <th>0</th>\n",
       "      <td>0</td>\n",
       "      <td>0.438017</td>\n",
       "      <td>2022-11-13 20:06:07.438234</td>\n",
       "      <td>2022-11-13 20:06:49.010267</td>\n",
       "      <td>0 days 00:00:41.572033</td>\n",
       "      <td>64</td>\n",
       "      <td>valid</td>\n",
       "      <td>0.302682</td>\n",
       "      <td>256</td>\n",
       "      <td>24</td>\n",
       "      <td>valid</td>\n",
       "      <td>3</td>\n",
       "      <td>COMPLETE</td>\n",
       "    </tr>\n",
       "    <tr>\n",
       "      <th>1</th>\n",
       "      <td>1</td>\n",
       "      <td>0.760331</td>\n",
       "      <td>2022-11-13 20:06:49.032452</td>\n",
       "      <td>2022-11-13 20:07:45.814676</td>\n",
       "      <td>0 days 00:00:56.782224</td>\n",
       "      <td>64</td>\n",
       "      <td>same</td>\n",
       "      <td>0.439536</td>\n",
       "      <td>128</td>\n",
       "      <td>32</td>\n",
       "      <td>valid</td>\n",
       "      <td>1</td>\n",
       "      <td>COMPLETE</td>\n",
       "    </tr>\n",
       "    <tr>\n",
       "      <th>2</th>\n",
       "      <td>2</td>\n",
       "      <td>0.689050</td>\n",
       "      <td>2022-11-13 20:07:45.834451</td>\n",
       "      <td>2022-11-13 20:08:03.545316</td>\n",
       "      <td>0 days 00:00:17.710865</td>\n",
       "      <td>128</td>\n",
       "      <td>valid</td>\n",
       "      <td>0.439098</td>\n",
       "      <td>64</td>\n",
       "      <td>8</td>\n",
       "      <td>same</td>\n",
       "      <td>3</td>\n",
       "      <td>COMPLETE</td>\n",
       "    </tr>\n",
       "    <tr>\n",
       "      <th>3</th>\n",
       "      <td>3</td>\n",
       "      <td>0.768595</td>\n",
       "      <td>2022-11-13 20:08:03.556305</td>\n",
       "      <td>2022-11-13 20:08:47.528046</td>\n",
       "      <td>0 days 00:00:43.971741</td>\n",
       "      <td>64</td>\n",
       "      <td>same</td>\n",
       "      <td>0.348178</td>\n",
       "      <td>128</td>\n",
       "      <td>32</td>\n",
       "      <td>valid</td>\n",
       "      <td>1</td>\n",
       "      <td>COMPLETE</td>\n",
       "    </tr>\n",
       "    <tr>\n",
       "      <th>4</th>\n",
       "      <td>4</td>\n",
       "      <td>0.586777</td>\n",
       "      <td>2022-11-13 20:08:47.538103</td>\n",
       "      <td>2022-11-13 20:09:13.199656</td>\n",
       "      <td>0 days 00:00:25.661553</td>\n",
       "      <td>128</td>\n",
       "      <td>valid</td>\n",
       "      <td>0.391928</td>\n",
       "      <td>64</td>\n",
       "      <td>32</td>\n",
       "      <td>valid</td>\n",
       "      <td>1</td>\n",
       "      <td>COMPLETE</td>\n",
       "    </tr>\n",
       "    <tr>\n",
       "      <th>5</th>\n",
       "      <td>5</td>\n",
       "      <td>0.840909</td>\n",
       "      <td>2022-11-13 20:09:13.216166</td>\n",
       "      <td>2022-11-13 20:09:44.558993</td>\n",
       "      <td>0 days 00:00:31.342827</td>\n",
       "      <td>64</td>\n",
       "      <td>same</td>\n",
       "      <td>0.425492</td>\n",
       "      <td>64</td>\n",
       "      <td>8</td>\n",
       "      <td>same</td>\n",
       "      <td>5</td>\n",
       "      <td>COMPLETE</td>\n",
       "    </tr>\n",
       "    <tr>\n",
       "      <th>6</th>\n",
       "      <td>6</td>\n",
       "      <td>0.604339</td>\n",
       "      <td>2022-11-13 20:09:44.572661</td>\n",
       "      <td>2022-11-13 20:10:15.148391</td>\n",
       "      <td>0 days 00:00:30.575730</td>\n",
       "      <td>64</td>\n",
       "      <td>valid</td>\n",
       "      <td>0.328567</td>\n",
       "      <td>128</td>\n",
       "      <td>24</td>\n",
       "      <td>valid</td>\n",
       "      <td>3</td>\n",
       "      <td>COMPLETE</td>\n",
       "    </tr>\n",
       "    <tr>\n",
       "      <th>7</th>\n",
       "      <td>7</td>\n",
       "      <td>0.806818</td>\n",
       "      <td>2022-11-13 20:10:15.160535</td>\n",
       "      <td>2022-11-13 20:10:53.946238</td>\n",
       "      <td>0 days 00:00:38.785703</td>\n",
       "      <td>128</td>\n",
       "      <td>same</td>\n",
       "      <td>0.486128</td>\n",
       "      <td>256</td>\n",
       "      <td>32</td>\n",
       "      <td>same</td>\n",
       "      <td>2</td>\n",
       "      <td>COMPLETE</td>\n",
       "    </tr>\n",
       "    <tr>\n",
       "      <th>8</th>\n",
       "      <td>8</td>\n",
       "      <td>0.846074</td>\n",
       "      <td>2022-11-13 20:10:53.959711</td>\n",
       "      <td>2022-11-13 20:11:26.273024</td>\n",
       "      <td>0 days 00:00:32.313313</td>\n",
       "      <td>64</td>\n",
       "      <td>valid</td>\n",
       "      <td>0.494125</td>\n",
       "      <td>128</td>\n",
       "      <td>24</td>\n",
       "      <td>same</td>\n",
       "      <td>5</td>\n",
       "      <td>COMPLETE</td>\n",
       "    </tr>\n",
       "    <tr>\n",
       "      <th>9</th>\n",
       "      <td>9</td>\n",
       "      <td>0.799587</td>\n",
       "      <td>2022-11-13 20:11:26.285632</td>\n",
       "      <td>2022-11-13 20:11:52.998722</td>\n",
       "      <td>0 days 00:00:26.713090</td>\n",
       "      <td>128</td>\n",
       "      <td>valid</td>\n",
       "      <td>0.320053</td>\n",
       "      <td>128</td>\n",
       "      <td>8</td>\n",
       "      <td>same</td>\n",
       "      <td>1</td>\n",
       "      <td>COMPLETE</td>\n",
       "    </tr>\n",
       "  </tbody>\n",
       "</table>\n",
       "</div>"
      ],
      "text/plain": [
       "   number     value             datetime_start          datetime_complete  \\\n",
       "0       0  0.438017 2022-11-13 20:06:07.438234 2022-11-13 20:06:49.010267   \n",
       "1       1  0.760331 2022-11-13 20:06:49.032452 2022-11-13 20:07:45.814676   \n",
       "2       2  0.689050 2022-11-13 20:07:45.834451 2022-11-13 20:08:03.545316   \n",
       "3       3  0.768595 2022-11-13 20:08:03.556305 2022-11-13 20:08:47.528046   \n",
       "4       4  0.586777 2022-11-13 20:08:47.538103 2022-11-13 20:09:13.199656   \n",
       "5       5  0.840909 2022-11-13 20:09:13.216166 2022-11-13 20:09:44.558993   \n",
       "6       6  0.604339 2022-11-13 20:09:44.572661 2022-11-13 20:10:15.148391   \n",
       "7       7  0.806818 2022-11-13 20:10:15.160535 2022-11-13 20:10:53.946238   \n",
       "8       8  0.846074 2022-11-13 20:10:53.959711 2022-11-13 20:11:26.273024   \n",
       "9       9  0.799587 2022-11-13 20:11:26.285632 2022-11-13 20:11:52.998722   \n",
       "\n",
       "                duration  params_batch_size params_conv_padding  \\\n",
       "0 0 days 00:00:41.572033                 64               valid   \n",
       "1 0 days 00:00:56.782224                 64                same   \n",
       "2 0 days 00:00:17.710865                128               valid   \n",
       "3 0 days 00:00:43.971741                 64                same   \n",
       "4 0 days 00:00:25.661553                128               valid   \n",
       "5 0 days 00:00:31.342827                 64                same   \n",
       "6 0 days 00:00:30.575730                 64               valid   \n",
       "7 0 days 00:00:38.785703                128                same   \n",
       "8 0 days 00:00:32.313313                 64               valid   \n",
       "9 0 days 00:00:26.713090                128               valid   \n",
       "\n",
       "   params_droput  params_embedding_dim  params_kernel_size  \\\n",
       "0       0.302682                   256                  24   \n",
       "1       0.439536                   128                  32   \n",
       "2       0.439098                    64                   8   \n",
       "3       0.348178                   128                  32   \n",
       "4       0.391928                    64                  32   \n",
       "5       0.425492                    64                   8   \n",
       "6       0.328567                   128                  24   \n",
       "7       0.486128                   256                  32   \n",
       "8       0.494125                   128                  24   \n",
       "9       0.320053                   128                   8   \n",
       "\n",
       "  params_pool_padding  params_strides     state  \n",
       "0               valid               3  COMPLETE  \n",
       "1               valid               1  COMPLETE  \n",
       "2                same               3  COMPLETE  \n",
       "3               valid               1  COMPLETE  \n",
       "4               valid               1  COMPLETE  \n",
       "5                same               5  COMPLETE  \n",
       "6               valid               3  COMPLETE  \n",
       "7                same               2  COMPLETE  \n",
       "8                same               5  COMPLETE  \n",
       "9                same               1  COMPLETE  "
      ]
     },
     "execution_count": 89,
     "metadata": {},
     "output_type": "execute_result"
    }
   ],
   "source": [
    "study.trials_dataframe()"
   ]
  },
  {
   "cell_type": "code",
   "execution_count": 59,
   "metadata": {},
   "outputs": [
    {
     "data": {
      "text/plain": [
       "0.8574380874633789"
      ]
     },
     "execution_count": 59,
     "metadata": {},
     "output_type": "execute_result"
    }
   ],
   "source": [
    "study.best_value"
   ]
  },
  {
   "cell_type": "code",
   "execution_count": 60,
   "metadata": {},
   "outputs": [
    {
     "data": {
      "text/plain": [
       "{'batch_size': 32,\n",
       " 'conv_padding': 'valid',\n",
       " 'droput': 0.3392705552866529,\n",
       " 'embedding_dim': 128,\n",
       " 'kernel_size': 24,\n",
       " 'pool_padding': 'same',\n",
       " 'strides': 5}"
      ]
     },
     "execution_count": 60,
     "metadata": {},
     "output_type": "execute_result"
    }
   ],
   "source": [
    "study.best_params"
   ]
  },
  {
   "cell_type": "markdown",
   "metadata": {},
   "source": []
  },
  {
   "cell_type": "markdown",
   "metadata": {},
   "source": [
    "## Next Steps <a class=\"anchor\" id=\"sixth-bullet\"></a>"
   ]
  },
  {
   "cell_type": "code",
   "execution_count": null,
   "metadata": {},
   "outputs": [],
   "source": []
  }
 ],
 "metadata": {
  "colab": {
   "authorship_tag": "ABX9TyPWTTd7yPkxh2nn2xIX0vc4",
   "collapsed_sections": [],
   "include_colab_link": true,
   "name": "NLP-Part4.ipynb",
   "provenance": []
  },
  "kernelspec": {
   "display_name": "Python (deepgreen)",
   "language": "python",
   "name": "deepgreen"
  },
  "language_info": {
   "codemirror_mode": {
    "name": "ipython",
    "version": 3
   },
   "file_extension": ".py",
   "mimetype": "text/x-python",
   "name": "python",
   "nbconvert_exporter": "python",
   "pygments_lexer": "ipython3",
   "version": "3.8.12"
  }
 },
 "nbformat": 4,
 "nbformat_minor": 4
}
