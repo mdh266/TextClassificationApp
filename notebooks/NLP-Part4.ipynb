{
 "cells": [
  {
   "cell_type": "markdown",
   "metadata": {
    "colab_type": "text",
    "id": "view-in-github"
   },
   "source": [
    "<a href=\"https://colab.research.google.com/github/mdh266/TextClassificationApp/blob/feature%2Fkeras/NLP_Part4.ipynb\" target=\"_parent\"><img src=\"https://colab.research.google.com/assets/colab-badge.svg\" alt=\"Open In Colab\"/></a>"
   ]
  },
  {
   "cell_type": "markdown",
   "metadata": {},
   "source": [
    "# Text Classification 4: Deep Learning With Tensorflow and Optuna\n",
    "--------------\n",
    "\n",
    "__[1. Introduction](#first-bullet)__\n",
    "\n",
    "__[2. Vectorizing Text](#second-bullet)__\n",
    "\n",
    "__[3. Handling Imbalance In The Data](#third-bullet)__\n",
    "\n",
    "__[4. Building A Convolutional Neural Network With Keras](#fourth-bullet)__\n",
    "\n",
    "__[5. Hyper-parameter Tuning with Optuna](#fifth-bullet)__\n",
    "\n",
    "__[6. Conclusions](#sixth-bullet)__\n",
    "\n",
    "\n",
    "## Introduction <a class=\"anchor\" id=\"first-bullet\"></a>\n",
    "------------------\n",
    "\n",
    "In this post I want to extend on the last [model](http://michael-harmon.com/blog/NLP2.html) in my blog series on text classification where I used a SVM to predict the topic of papers in arxiv based on their abstract. For reference the topics were \"Machine Learning\", \"Computer Vision\", \"Artifical Intelligence\" and \"Robotics\" and there was imbalance in the classes.\n",
    "\n",
    "In this post I will use a [Convolutional Neural Network (CNN)](https://en.wikipedia.org/wiki/Convolutional_neural_network) model with [Tensorflow](https://www.tensorflow.org/) and [Keras](https://keras.io/) to predict the topic of the abstract and use [Optuna](https://optuna.org/) to optimize the hyperparamters of the model. Keras is a high level library that makes building complex deep learning models relatively easy as well as being built into [Tensorflow](https://www.tensorflow.org/) which is a production ready framework. Optuna is powerful automatic hyperparameter tuning library that uses a *define-by-run* design that makes it elegant and easy to use. I have just started using this library and have been particularly impressed with the design and felt it was extremely intuitve. While CNN's are no longer the state-of-the-art algorithms for text classification, they still perform quite well and I wanted to explore how they would work on this problem.\n",
    "\n",
    "Before we get started building the model let's quickly go over vectorizing text as the process I use in this post is different from prior posts which used the [bag-of-words model](https://en.wikipedia.org/wiki/Bag-of-words_model)."
   ]
  },
  {
   "cell_type": "markdown",
   "metadata": {
    "id": "2dJT9l0K_ly4"
   },
   "source": [
    "## Vectorizing Text <a class=\"anchor\" id=\"second-bullet\"></a>\n",
    "\n",
    "Machine learning models make use of numerical data in the form of vectors that represent the values of the features in the model. The model is really just an approximation to a function that maps the input vectors to the output (which can be a scalar or vector). In order to build machine learning models that use text data we need convert the text to numerical vectors. To do this we use a [Vector Space Model](https://en.wikipedia.org/wiki/Vector_space_model) which repesents words as vectors in the space.\n",
    "\n",
    "In my [first post](http://michael-harmon.com/blog/NLP1.html) in this series I went over a vector space model called  [Bag of Words](https://en.wikipedia.org/wiki/Bag-of-words_model) along with [Term Frequency-Inverse Document Frequency (TF-IDF)](https://en.wikipedia.org/wiki/Tf%E2%80%93idf). While these are a classic representations for text, one pifull is that is often produces sparse high dimensional representations. This combination can be particularly challenging for machine learning models to work with. Another shortcoming of the bag-of-words model is that it doesn not take into account order of the words or their semantic relationships. We'll address is the issue of semantic relationships using [Word Embeddings](https://en.wikipedia.org/wiki/Word_embedding), but first we need to discuss how to vectorize text using the TensorFlow [TextVectorization](https://www.tensorflow.org/api_docs/python/tf/keras/layers/TextVectorization) class.  \n",
    "\n",
    "First let's grab our data from [Google Cloud Storage](https://cloud.google.com/storage) using [Pandas](https://pandas.pydata.org/) where is stored as json objects. "
   ]
  },
  {
   "cell_type": "code",
   "execution_count": 1,
   "metadata": {
    "id": "LQki2XRI_m04"
   },
   "outputs": [
    {
     "data": {
      "text/html": [
       "<div>\n",
       "<style scoped>\n",
       "    .dataframe tbody tr th:only-of-type {\n",
       "        vertical-align: middle;\n",
       "    }\n",
       "\n",
       "    .dataframe tbody tr th {\n",
       "        vertical-align: top;\n",
       "    }\n",
       "\n",
       "    .dataframe thead th {\n",
       "        text-align: right;\n",
       "    }\n",
       "</style>\n",
       "<table border=\"1\" class=\"dataframe\">\n",
       "  <thead>\n",
       "    <tr style=\"text-align: right;\">\n",
       "      <th></th>\n",
       "      <th>category</th>\n",
       "      <th>text</th>\n",
       "    </tr>\n",
       "  </thead>\n",
       "  <tbody>\n",
       "    <tr>\n",
       "      <th>0</th>\n",
       "      <td>ai</td>\n",
       "      <td>Because of their occasional need to return to ...</td>\n",
       "    </tr>\n",
       "    <tr>\n",
       "      <th>1</th>\n",
       "      <td>ai</td>\n",
       "      <td>Market price systems constitute a well-underst...</td>\n",
       "    </tr>\n",
       "    <tr>\n",
       "      <th>2</th>\n",
       "      <td>ai</td>\n",
       "      <td>We describe an extensive study of search in GS...</td>\n",
       "    </tr>\n",
       "    <tr>\n",
       "      <th>3</th>\n",
       "      <td>ai</td>\n",
       "      <td>As real logic programmers normally use cut (!)...</td>\n",
       "    </tr>\n",
       "    <tr>\n",
       "      <th>4</th>\n",
       "      <td>ai</td>\n",
       "      <td>To support the goal of allowing users to recor...</td>\n",
       "    </tr>\n",
       "  </tbody>\n",
       "</table>\n",
       "</div>"
      ],
      "text/plain": [
       "  category                                               text\n",
       "0       ai  Because of their occasional need to return to ...\n",
       "1       ai  Market price systems constitute a well-underst...\n",
       "2       ai  We describe an extensive study of search in GS...\n",
       "3       ai  As real logic programmers normally use cut (!)...\n",
       "4       ai  To support the goal of allowing users to recor..."
      ]
     },
     "execution_count": 1,
     "metadata": {},
     "output_type": "execute_result"
    }
   ],
   "source": [
    "import pandas as pd\n",
    "import numpy as np\n",
    "import matplotlib.pyplot as plt\n",
    "\n",
    "train_df = pd.read_json(\"gs://harmon-arxiv/train_abstracts.json\")\n",
    "test_df  = pd.read_json(\"gs://harmon-arxiv/test_abstracts.json\")\n",
    "\n",
    "train_df.head()"
   ]
  },
  {
   "cell_type": "markdown",
   "metadata": {},
   "source": [
    "Let's convert the category to numerical values 1, 2, 3, 4 which represent the different abstract topics using the [LabelEncoder](https://scikit-learn.org/stable/modules/generated/sklearn.preprocessing.LabelEncoder.html) function:"
   ]
  },
  {
   "cell_type": "code",
   "execution_count": 2,
   "metadata": {
    "colab": {
     "base_uri": "https://localhost:8080/",
     "height": 206
    },
    "id": "B1jcTPGtM9j_",
    "outputId": "47d7c40e-f7d0-48b5-ecfe-1a2365dd3055"
   },
   "outputs": [
    {
     "data": {
      "text/html": [
       "<div>\n",
       "<style scoped>\n",
       "    .dataframe tbody tr th:only-of-type {\n",
       "        vertical-align: middle;\n",
       "    }\n",
       "\n",
       "    .dataframe tbody tr th {\n",
       "        vertical-align: top;\n",
       "    }\n",
       "\n",
       "    .dataframe thead th {\n",
       "        text-align: right;\n",
       "    }\n",
       "</style>\n",
       "<table border=\"1\" class=\"dataframe\">\n",
       "  <thead>\n",
       "    <tr style=\"text-align: right;\">\n",
       "      <th></th>\n",
       "      <th>category</th>\n",
       "      <th>text</th>\n",
       "      <th>target</th>\n",
       "    </tr>\n",
       "  </thead>\n",
       "  <tbody>\n",
       "    <tr>\n",
       "      <th>0</th>\n",
       "      <td>ai</td>\n",
       "      <td>Because of their occasional need to return to ...</td>\n",
       "      <td>0</td>\n",
       "    </tr>\n",
       "    <tr>\n",
       "      <th>1</th>\n",
       "      <td>ai</td>\n",
       "      <td>Market price systems constitute a well-underst...</td>\n",
       "      <td>0</td>\n",
       "    </tr>\n",
       "    <tr>\n",
       "      <th>2</th>\n",
       "      <td>ai</td>\n",
       "      <td>We describe an extensive study of search in GS...</td>\n",
       "      <td>0</td>\n",
       "    </tr>\n",
       "    <tr>\n",
       "      <th>3</th>\n",
       "      <td>ai</td>\n",
       "      <td>As real logic programmers normally use cut (!)...</td>\n",
       "      <td>0</td>\n",
       "    </tr>\n",
       "    <tr>\n",
       "      <th>4</th>\n",
       "      <td>ai</td>\n",
       "      <td>To support the goal of allowing users to recor...</td>\n",
       "      <td>0</td>\n",
       "    </tr>\n",
       "  </tbody>\n",
       "</table>\n",
       "</div>"
      ],
      "text/plain": [
       "  category                                               text  target\n",
       "0       ai  Because of their occasional need to return to ...       0\n",
       "1       ai  Market price systems constitute a well-underst...       0\n",
       "2       ai  We describe an extensive study of search in GS...       0\n",
       "3       ai  As real logic programmers normally use cut (!)...       0\n",
       "4       ai  To support the goal of allowing users to recor...       0"
      ]
     },
     "execution_count": 2,
     "metadata": {},
     "output_type": "execute_result"
    }
   ],
   "source": [
    "from sklearn.preprocessing import LabelEncoder\n",
    "\n",
    "labeler  = LabelEncoder()\n",
    "train_df = train_df.assign(target=labeler.fit_transform(train_df[\"category\"]))\n",
    "test_df  = test_df.assign(target=labeler.fit_transform(test_df[\"category\"]))\n",
    "\n",
    "train_df.head()"
   ]
  },
  {
   "cell_type": "markdown",
   "metadata": {},
   "source": [
    "Now just like with bag-of-words model we need to reperesent documents as vectors in a vector space.  We use the [TextVectorization](https://www.tensorflow.org/api_docs/python/tf/keras/layers/TextVectorization) class to automatically convert documents to vectors. This class creates a dictionary of words where each word is associated number with an integer index in the dictionary. Words in the sentences are represented by their index value in the vector. The order of the words in the sentence dictate which entry they are in the vector. For example the first word in the sentence has it index value in entry 0 in the vector, the second word has its index value in entry 1 in the vector and so on.\n",
    "\n",
    "We cap the number of words in our dictionary (or vocabulary) at an integer called `max_tokens`. We also set the length of sentences to be capped at `sequence_length` tokens long. That means if our abstract contains less than `sequence_length` words then we pad the rest of the vectors entries with 0's to give it a length of `sequence_length`. If the abstract contains more than `sequence_length` words it will be cut short.\n",
    "\n",
    "Let's first set `sequence_length` by looking at the number of tokens in each document by their category in a histogram:"
   ]
  },
  {
   "cell_type": "code",
   "execution_count": 3,
   "metadata": {},
   "outputs": [
    {
     "data": {
      "text/plain": [
       "<AxesSubplot:xlabel='num_tokens', ylabel='Count'>"
      ]
     },
     "execution_count": 3,
     "metadata": {},
     "output_type": "execute_result"
    },
    {
     "data": {
      "image/png": "[encoded data removed]",
      "text/plain": [
       "<Figure size 432x288 with 1 Axes>"
      ]
     },
     "metadata": {
      "needs_background": "light"
     },
     "output_type": "display_data"
    }
   ],
   "source": [
    "import seaborn as sns\n",
    "\n",
    "train_df = train_df.assign(num_tokens=train_df.text.str.split().apply(len))\n",
    "\n",
    "sns.histplot(data=train_df, x=\"num_tokens\", hue=\"category\")"
   ]
  },
  {
   "cell_type": "markdown",
   "metadata": {},
   "source": [
    "We can see that most documents are between 50 and 250 words long and the max is a little over 400. So let's set our max sequence length to be 400. "
   ]
  },
  {
   "cell_type": "markdown",
   "metadata": {},
   "source": [
    "Now, we'll import Tensorflow as well as TextVectorization function. Note the version of TensorFlow I am using is "
   ]
  },
  {
   "cell_type": "code",
   "execution_count": 4,
   "metadata": {},
   "outputs": [
    {
     "data": {
      "text/plain": [
       "'2.8.0'"
      ]
     },
     "execution_count": 4,
     "metadata": {},
     "output_type": "execute_result"
    }
   ],
   "source": [
    "import tensorflow as tf\n",
    "tf.__version__"
   ]
  },
  {
   "cell_type": "markdown",
   "metadata": {},
   "source": [
    "Depending on your verion of Tensorflow, [TextVectorization](https://www.tensorflow.org/api_docs/python/tf/keras/layers/TextVectorization) (along with other functions I use) may no longer be experimental and the path may be different.\n",
    "\n",
    "We create a `TextVectorization` layer that has a max sequence length of 400 and cap the vocabulary to be 20,000. Words that are not in this vocabulary will be set to a default \"unknown\" token. "
   ]
  },
  {
   "cell_type": "code",
   "execution_count": 5,
   "metadata": {
    "id": "6CXq1TOyUEtm"
   },
   "outputs": [
    {
     "name": "stdout",
     "output_type": "stream",
     "text": [
      "Metal device set to: Apple M1\n"
     ]
    },
    {
     "name": "stderr",
     "output_type": "stream",
     "text": [
      "2022-10-10 20:47:41.369111: I tensorflow/core/common_runtime/pluggable_device/pluggable_device_factory.cc:305] Could not identify NUMA node of platform GPU ID 0, defaulting to 0. Your kernel may not have been built with NUMA support.\n",
      "2022-10-10 20:47:41.369582: I tensorflow/core/common_runtime/pluggable_device/pluggable_device_factory.cc:271] Created TensorFlow device (/job:localhost/replica:0/task:0/device:GPU:0 with 0 MB memory) -> physical PluggableDevice (device: 0, name: METAL, pci bus id: <undefined>)\n"
     ]
    }
   ],
   "source": [
    "from tensorflow.keras.layers.experimental.preprocessing import TextVectorization\n",
    "\n",
    "max_features = 20000\n",
    "sequence_length = 400\n",
    "\n",
    "vectorize_layer = TextVectorization(\n",
    "    standardize=\"lower_and_strip_punctuation\",\n",
    "    max_tokens=max_features,\n",
    "    output_mode=\"int\",\n",
    "    pad_to_max_tokens=True,\n",
    "    output_sequence_length=sequence_length,\n",
    ")"
   ]
  },
  {
   "cell_type": "markdown",
   "metadata": {},
   "source": [
    "Now we train the layer on the entire training dataset,"
   ]
  },
  {
   "cell_type": "code",
   "execution_count": 6,
   "metadata": {},
   "outputs": [
    {
     "name": "stderr",
     "output_type": "stream",
     "text": [
      "2022-10-10 20:47:46.501156: W tensorflow/core/platform/profile_utils/cpu_utils.cc:128] Failed to get CPU frequency: 0 Hz\n",
      "2022-10-10 20:47:46.548039: I tensorflow/core/grappler/optimizers/custom_graph_optimizer_registry.cc:113] Plugin optimizer for device_type GPU is enabled.\n"
     ]
    }
   ],
   "source": [
    "vectorize_layer.adapt(train_df[\"text\"].to_numpy())"
   ]
  },
  {
   "cell_type": "markdown",
   "metadata": {},
   "source": [
    "Let's look at an example of a text and its vector representation,"
   ]
  },
  {
   "cell_type": "code",
   "execution_count": 7,
   "metadata": {},
   "outputs": [
    {
     "data": {
      "text/plain": [
       "'Because of their occasional need to return to shallow points in a search\\ntree, existing backtracking methods can sometimes erase meaningful progress\\ntoward solving a search problem. In this paper, we present a method by which\\nbacktrack points can be moved deeper in the search space, thereby avoiding this\\ndifficulty. The technique developed is a variant of dependency-directed\\nbacktracking that uses only polynomial space while still providing useful\\ncontrol information and retaining the completeness guarantees provided by\\nearlier approaches.'"
      ]
     },
     "execution_count": 7,
     "metadata": {},
     "output_type": "execute_result"
    }
   ],
   "source": [
    "test = train_df[\"text\"][0]\n",
    "test"
   ]
  },
  {
   "cell_type": "markdown",
   "metadata": {},
   "source": [
    "Now lets look at the vector representation,"
   ]
  },
  {
   "cell_type": "code",
   "execution_count": 81,
   "metadata": {
    "scrolled": true
   },
   "outputs": [
    {
     "data": {
      "text/plain": [
       "<tf.Tensor: shape=(400,), dtype=int64, numpy=\n",
       "array([ 348,    3,   80,    1,  408,    6, 2380,    6, 2802,  244,    7,\n",
       "          4,  106,  345,  124, 2220,   39,   22, 2119,    1, 1526, 1510,\n",
       "       2481,  316,    4,  106,   33,    7,   12,   24,    9,   65,    4,\n",
       "         29,   18,   20, 5380,  244,   22,   19, 6762, 2778,    7,    2,\n",
       "        106,   98, 1666, 2529,   12, 1307,    2,  147,  241,    8,    4,\n",
       "       1115,    3,    1, 2220,   11,  303,   95,  568,   98,  123,  619,\n",
       "        993,  396,  205,   53,    5, 3918,    2, 2471,  809,  538,   18,\n",
       "       1609,  127,    0,    0,    0,    0,    0,    0,    0,    0,    0,\n",
       "          0,    0,    0,    0,    0,    0,    0,    0,    0,    0,    0,\n",
       "          0,    0,    0,    0,    0,    0,    0,    0,    0,    0,    0,\n",
       "          0,    0,    0,    0,    0,    0,    0,    0,    0,    0,    0,\n",
       "          0,    0,    0,    0,    0,    0,    0,    0,    0,    0,    0,\n",
       "          0,    0,    0,    0,    0,    0,    0,    0,    0,    0,    0,\n",
       "          0,    0,    0,    0,    0,    0,    0,    0,    0,    0,    0,\n",
       "          0,    0,    0,    0,    0,    0,    0,    0,    0,    0,    0,\n",
       "          0,    0,    0,    0,    0,    0,    0,    0,    0,    0,    0,\n",
       "          0,    0,    0,    0,    0,    0,    0,    0,    0,    0,    0,\n",
       "          0,    0,    0,    0,    0,    0,    0,    0,    0,    0,    0,\n",
       "          0,    0,    0,    0,    0,    0,    0,    0,    0,    0,    0,\n",
       "          0,    0,    0,    0,    0,    0,    0,    0,    0,    0,    0,\n",
       "          0,    0,    0,    0,    0,    0,    0,    0,    0,    0,    0,\n",
       "          0,    0,    0,    0,    0,    0,    0,    0,    0,    0,    0,\n",
       "          0,    0,    0,    0,    0,    0,    0,    0,    0,    0,    0,\n",
       "          0,    0,    0,    0,    0,    0,    0,    0,    0,    0,    0,\n",
       "          0,    0,    0,    0,    0,    0,    0,    0,    0,    0,    0,\n",
       "          0,    0,    0,    0,    0,    0,    0,    0,    0,    0,    0,\n",
       "          0,    0,    0,    0,    0,    0,    0,    0,    0,    0,    0,\n",
       "          0,    0,    0,    0,    0,    0,    0,    0,    0,    0,    0,\n",
       "          0,    0,    0,    0,    0,    0,    0,    0,    0,    0,    0,\n",
       "          0,    0,    0,    0,    0,    0,    0,    0,    0,    0,    0,\n",
       "          0,    0,    0,    0,    0,    0,    0,    0,    0,    0,    0,\n",
       "          0,    0,    0,    0,    0,    0,    0,    0,    0,    0,    0,\n",
       "          0,    0,    0,    0,    0,    0,    0,    0,    0,    0,    0,\n",
       "          0,    0,    0,    0,    0,    0,    0,    0,    0,    0,    0,\n",
       "          0,    0,    0,    0,    0,    0,    0,    0,    0,    0,    0,\n",
       "          0,    0,    0,    0,    0,    0,    0,    0,    0,    0,    0,\n",
       "          0,    0,    0,    0])>"
      ]
     },
     "execution_count": 81,
     "metadata": {},
     "output_type": "execute_result"
    }
   ],
   "source": [
    "vectorize_layer.call(test)"
   ]
  },
  {
   "cell_type": "markdown",
   "metadata": {},
   "source": [
    "Note that our vectors are of max sequence length (400), not the vocabulary length (20,000). Since the above sentence did not have 400 words in it, we pad vector with 0's to make sure the vectors are all of the same length.\n",
    "\n",
    "The i-th entry in the above vector corresponds to the i-th word in sequence of words in the text. The value of the entry in the vector is the index for that word in our vocabulary.\n",
    "\n",
    "The first entry is 348 which means that the word \"because\" is the entry 348 in our 20,000 vocabulary list. The second entry is 3, which means the word \"of\" is the 3rd entry in our vocabulary list.\n",
    "\n",
    "Let's try a word that most likely isnt on our vocabulary to see what the default token's entry is in our vocabulary list"
   ]
  },
  {
   "cell_type": "code",
   "execution_count": 8,
   "metadata": {},
   "outputs": [
    {
     "data": {
      "text/plain": [
       "<tf.Tensor: shape=(400,), dtype=int64, numpy=\n",
       "array([1, 1, 0, 0, 0, 0, 0, 0, 0, 0, 0, 0, 0, 0, 0, 0, 0, 0, 0, 0, 0, 0,\n",
       "       0, 0, 0, 0, 0, 0, 0, 0, 0, 0, 0, 0, 0, 0, 0, 0, 0, 0, 0, 0, 0, 0,\n",
       "       0, 0, 0, 0, 0, 0, 0, 0, 0, 0, 0, 0, 0, 0, 0, 0, 0, 0, 0, 0, 0, 0,\n",
       "       0, 0, 0, 0, 0, 0, 0, 0, 0, 0, 0, 0, 0, 0, 0, 0, 0, 0, 0, 0, 0, 0,\n",
       "       0, 0, 0, 0, 0, 0, 0, 0, 0, 0, 0, 0, 0, 0, 0, 0, 0, 0, 0, 0, 0, 0,\n",
       "       0, 0, 0, 0, 0, 0, 0, 0, 0, 0, 0, 0, 0, 0, 0, 0, 0, 0, 0, 0, 0, 0,\n",
       "       0, 0, 0, 0, 0, 0, 0, 0, 0, 0, 0, 0, 0, 0, 0, 0, 0, 0, 0, 0, 0, 0,\n",
       "       0, 0, 0, 0, 0, 0, 0, 0, 0, 0, 0, 0, 0, 0, 0, 0, 0, 0, 0, 0, 0, 0,\n",
       "       0, 0, 0, 0, 0, 0, 0, 0, 0, 0, 0, 0, 0, 0, 0, 0, 0, 0, 0, 0, 0, 0,\n",
       "       0, 0, 0, 0, 0, 0, 0, 0, 0, 0, 0, 0, 0, 0, 0, 0, 0, 0, 0, 0, 0, 0,\n",
       "       0, 0, 0, 0, 0, 0, 0, 0, 0, 0, 0, 0, 0, 0, 0, 0, 0, 0, 0, 0, 0, 0,\n",
       "       0, 0, 0, 0, 0, 0, 0, 0, 0, 0, 0, 0, 0, 0, 0, 0, 0, 0, 0, 0, 0, 0,\n",
       "       0, 0, 0, 0, 0, 0, 0, 0, 0, 0, 0, 0, 0, 0, 0, 0, 0, 0, 0, 0, 0, 0,\n",
       "       0, 0, 0, 0, 0, 0, 0, 0, 0, 0, 0, 0, 0, 0, 0, 0, 0, 0, 0, 0, 0, 0,\n",
       "       0, 0, 0, 0, 0, 0, 0, 0, 0, 0, 0, 0, 0, 0, 0, 0, 0, 0, 0, 0, 0, 0,\n",
       "       0, 0, 0, 0, 0, 0, 0, 0, 0, 0, 0, 0, 0, 0, 0, 0, 0, 0, 0, 0, 0, 0,\n",
       "       0, 0, 0, 0, 0, 0, 0, 0, 0, 0, 0, 0, 0, 0, 0, 0, 0, 0, 0, 0, 0, 0,\n",
       "       0, 0, 0, 0, 0, 0, 0, 0, 0, 0, 0, 0, 0, 0, 0, 0, 0, 0, 0, 0, 0, 0,\n",
       "       0, 0, 0, 0])>"
      ]
     },
     "execution_count": 8,
     "metadata": {},
     "output_type": "execute_result"
    }
   ],
   "source": [
    "vectorize_layer.call(\"onomatopoeia triglycerides\")"
   ]
  },
  {
   "cell_type": "markdown",
   "metadata": {},
   "source": [
    "We can see that the word \"onomatopeoia\" and \"triglycerides\" are both represented by a 1 which means the unknown token in our vocabulary is 1. We can get the dictionary of words by using the `.get_vocabulary` method."
   ]
  },
  {
   "cell_type": "code",
   "execution_count": 9,
   "metadata": {},
   "outputs": [],
   "source": [
    "voc = vectorize_layer.get_vocabulary()\n",
    "word_index = dict(zip(voc, range(len(voc))))"
   ]
  },
  {
   "cell_type": "markdown",
   "metadata": {},
   "source": [
    "## Handling Imbalance In The Data <a class=\"anchor\" id=\"third-bullet\"></a>"
   ]
  },
  {
   "cell_type": "markdown",
   "metadata": {},
   "source": [
    "I found the most natural way to deal with imbalanced data in Keras is using weights, similar to the way I did in the [first blog post](http://michael-harmon.com/blog/NLP1.html) in this series. In other frameworks like [Scikit-Learn](https://scikit-learn.org/stable/) the weights for each class are determined automatically, however, with Kera's I found I neeeded to set them explicitly.\n",
    "\n",
    "Luckily we can use Scikit-Learn's [compute_class_weight](https://scikit-learn.org/stable/modules/generated/sklearn.utils.class_weight.compute_class_weight.html) function to get estimates for the weights,"
   ]
  },
  {
   "cell_type": "code",
   "execution_count": 10,
   "metadata": {
    "colab": {
     "base_uri": "https://localhost:8080/"
    },
    "id": "yyTEXiUFUdNy",
    "outputId": "49847bd3-471b-4c29-d0fd-b40cabd7bc05"
   },
   "outputs": [
    {
     "name": "stdout",
     "output_type": "stream",
     "text": [
      "class_weights: [0.79084967 0.79084967 0.79084967 4.84      ]\n"
     ]
    }
   ],
   "source": [
    "from sklearn.utils import class_weight \n",
    "import numpy as np\n",
    "\n",
    "class_weights = class_weight.compute_class_weight(\n",
    "                                   'balanced',\n",
    "                                    classes= np.unique(train_df[\"target\"]), \n",
    "                                    y=train_df[\"target\"])\n",
    "\n",
    "print(f\"class_weights: {class_weights}\")"
   ]
  },
  {
   "cell_type": "markdown",
   "metadata": {},
   "source": [
    "Then we can convert that into a dictionary for each class and its corresponding weight:"
   ]
  },
  {
   "cell_type": "code",
   "execution_count": 11,
   "metadata": {
    "id": "pkzV-GXnUdQX"
   },
   "outputs": [
    {
     "name": "stdout",
     "output_type": "stream",
     "text": [
      "weights_dict: {0: 0.7908496732026143, 1: 0.7908496732026143, 2: 0.7908496732026143, 3: 4.84}\n"
     ]
    }
   ],
   "source": [
    "weights_dict = dict(zip(range(4), class_weights))\n",
    "print(f\"weights_dict: {weights_dict}\")"
   ]
  },
  {
   "cell_type": "markdown",
   "metadata": {
    "colab": {
     "base_uri": "https://localhost:8080/"
    },
    "id": "Pt4N1prZUdSu",
    "outputId": "1fb344be-24a9-424c-eaa3-49e28f13783b"
   },
   "source": [
    "We're cheating a little here because were using the entire dataset for calculating the dataset, but we wont be using cross validation so it's not so bad.\n",
    "\n",
    "Let's take a look at the data again, but this time look at distribution of the target variable with respect to the index in the dataframe"
   ]
  },
  {
   "cell_type": "code",
   "execution_count": 12,
   "metadata": {},
   "outputs": [
    {
     "data": {
      "text/plain": [
       "<AxesSubplot:xlabel='index', ylabel='target'>"
      ]
     },
     "execution_count": 12,
     "metadata": {},
     "output_type": "execute_result"
    },
    {
     "data": {
      "image/png": "[encoded data removed]",
      "text/plain": [
       "<Figure size 432x288 with 1 Axes>"
      ]
     },
     "metadata": {
      "needs_background": "light"
     },
     "output_type": "display_data"
    }
   ],
   "source": [
    "train_df.reset_index().plot('index', 'target', kind='scatter')"
   ]
  },
  {
   "cell_type": "markdown",
   "metadata": {},
   "source": [
    "The dataset is ordered by the target variable which can be a problem for deep learning models. Deep learning models use [mini-batch gradient descent](https://machinelearningmastery.com/gentle-introduction-mini-batch-gradient-descent-configure-batch-size/) which use small batches of the original dataset to train on instead of the entire dataset. If the data is ordered according to the target variable each batch most likely will only have data from one class making the model unable to discern differences between classes.\n",
    "\n",
    "To avoid this situation we want to shuffle the dataset first so that the model will get a sufficient representation of  each class in each batch during training."
   ]
  },
  {
   "cell_type": "code",
   "execution_count": 13,
   "metadata": {},
   "outputs": [],
   "source": [
    "from sklearn.utils import shuffle\n",
    "\n",
    "shuff_train_df = shuffle(train_df)\n",
    "shuff_test_df = shuffle(test_df)"
   ]
  },
  {
   "cell_type": "markdown",
   "metadata": {},
   "source": [
    "We can now see the datset is not ordered by the target variable value,"
   ]
  },
  {
   "cell_type": "code",
   "execution_count": 14,
   "metadata": {},
   "outputs": [
    {
     "data": {
      "text/plain": [
       "<AxesSubplot:xlabel='index', ylabel='target'>"
      ]
     },
     "execution_count": 14,
     "metadata": {},
     "output_type": "execute_result"
    },
    {
     "data": {
      "image/png": "[encoded data removed]",
      "text/plain": [
       "<Figure size 432x288 with 1 Axes>"
      ]
     },
     "metadata": {
      "needs_background": "light"
     },
     "output_type": "display_data"
    }
   ],
   "source": [
    "(shuff_train_df.reset_index(drop=True)\n",
    "               .reset_index()\n",
    "               .plot('index', 'target', kind='scatter'))"
   ]
  },
  {
   "cell_type": "markdown",
   "metadata": {},
   "source": [
    "Now the data looks much more evenly distributed across the index of the dataframe!\n",
    "\n",
    "Notice that I didnt have to worry about this in prior blog post's models since Scikit-Learn by default uses statified sampling to create folds in [GridSearchCV](https://scikit-learn.org/stable/modules/generated/sklearn.model_selection.GridSearchCV.html). Those prior models also train on the entire fold in cross-validation.\n",
    "\n",
    "Lastly before we get started with the building a model we one-hot encode the target classes using the [label_binarize](https://scikit-learn.org/stable/modules/generated/sklearn.preprocessing.label_binarize.html) function:"
   ]
  },
  {
   "cell_type": "code",
   "execution_count": 15,
   "metadata": {},
   "outputs": [],
   "source": [
    "from sklearn.preprocessing import label_binarize\n",
    "\n",
    "# classes = [0,1,2,3]\n",
    "classes   = np.sort(train_df[\"target\"].unique())\n",
    "\n",
    "# relabel the test set\n",
    "y_train = label_binarize(train_df[\"target\"],\n",
    "                         classes=classes)\n",
    "\n",
    "y_test = label_binarize(test_df[\"target\"], \n",
    "                        classes=classes)"
   ]
  },
  {
   "cell_type": "markdown",
   "metadata": {},
   "source": [
    "We can see that the results are a 4-dimensional vector,"
   ]
  },
  {
   "cell_type": "code",
   "execution_count": 16,
   "metadata": {},
   "outputs": [
    {
     "data": {
      "text/plain": [
       "array([1, 0, 0, 0])"
      ]
     },
     "execution_count": 16,
     "metadata": {},
     "output_type": "execute_result"
    }
   ],
   "source": [
    "y_train[0]"
   ]
  },
  {
   "cell_type": "markdown",
   "metadata": {},
   "source": [
    "Now we can move onto building a convolutional neural network using Keras!"
   ]
  },
  {
   "cell_type": "markdown",
   "metadata": {},
   "source": [
    "## Building A Convolutional Neural Network With Keras <a class=\"anchor\" id=\"fourth-bullet\"></a>\n",
    "\n",
    "We will use a [Convolution Neural Network](https://en.wikipedia.org/wiki/Convolutional_neural_network) with the architecture shown below,\n",
    "\n",
    "<figure>\n",
    "<img src=\"images/Basic-architecture-of-CNN.png\" alt=\"Trulli\" style=\"width:75%\">\n",
    "<figcaption align = \"center\">\n",
    "    <b>From https://www.researchgate.net/figure/Basic-architecture-of-CNN_fig3_335086346</b>\n",
    "</figcaption>\n",
    "</figure>\n",
    "\n",
    "This is a pretty classic architecture for text classification that uses two [1D Convolutional Layer](https://www.tensorflow.org/api_docs/python/tf/keras/layers/Conv1D) with an [ReLU activation function](https://en.wikipedia.org/wiki/Rectifier_(neural_networks)) and [1D MaxPooling Layer](https://www.tensorflow.org/api_docs/python/tf/keras/layers/MaxPool1D). This is followed by a [Dense layer](https://www.tensorflow.org/api_docs/python/tf/keras/layers/Dense), [Dropout layer](https://www.tensorflow.org/api_docs/python/tf/keras/layers/Dropout) and a [softmax layer](https://en.wikipedia.org/wiki/Softmax_function) for predicting one of the four classes. The one thing that the above diagram does show is that Input Layer is using an [Embedding layer](https://www.tensorflow.org/api_docs/python/tf/keras/layers/Embedding) followed by a Dropout layer.\n",
    "\n",
    "[Word Emeddings](https://en.wikipedia.org/wiki/Word_embedding) (or embeddings) allows us to represent words in a dense low-dimensional vector space instead of a high-dimensional sparse vector space as with the bag-of-words model. In addition to reducing dimensionality they also allow us to learn semantic relationship between words.\n",
    "\n",
    "A more detailed look at the convolutional/max pooling block is shown below, \n",
    "\n",
    "<figure>\n",
    "<img src=\"images/1d-convolutional.jpg\" alt=\"Trulli\" style=\"width:75%\">\n",
    "<figcaption align = \"center\">\n",
    "    <b>From https://www.researchgate.net/figure/a-Simple-scheme-of-a-one-dimension-1D-convolutional-operation-b-Full_fig2_334609713</b>\n",
    "</figcaption>\n",
    "</figure>\n",
    "\n",
    "A convolutional layer is made up filters (or kernels) that have weights that must be learned. The kernel size is the number of weights in each filter and are shown in pink. We take the sum-product of the weights and entries in the input vector and apply an [ReLU function](https://machinelearningmastery.com/rectified-linear-activation-function-for-deep-learning-neural-networks/) to form new entries in a the output layer. We slide this filter over all windows of size kernel size in the input layer to fill out entries in the output layer (yellow square). In this slidding mechanism we skip entries in the input space. The number of entries that we skip is called the [stride size](https://machinelearningmastery.com/padding-and-stride-for-convolutional-neural-networks/). This process process is called a convolution and results in an output that has less dimensions than input. We can supress this reduction in dimension by [padding](https://machinelearningmastery.com/padding-and-stride-for-convolutional-neural-networks/) the input vector with 0's so that the output is the same size as the input. Allowing the output space to be reduced in dimension is called \"valid\" padding and supressing this is called \"same\" padding.\n",
    "\n",
    "The [max pooling layer](https://machinelearningmastery.com/pooling-layers-for-convolutional-neural-networks/) looks at the values in a window of the convolutions output layer and finds the maximum value and makes that the value in the output cell. Another version of the operation is shown below.\n",
    "\n",
    "<figure>\n",
    "<img src=\"images/1D-max-pooling-operation.png\" alt=\"Trulli\" style=\"width:75%\">\n",
    "<figcaption align = \"center\">\n",
    "    <b>From https://www.researchgate.net/figure/1D-max-pooling-operation_fig4_324177888</b>\n",
    "</figcaption>\n",
    "</figure>\n",
    "\n",
    "\n",
    "\n",
    "The window size is again called the `pool_size` (`pooling_size` as labeled above).  MaxPooling also has the concept of `stride` and `padding` that a convolutional layer does. The point of MaxPooling is to make the repesentation more invariant to transformations, a concept that is more intuitive for me when it comes to computer vision.\n",
    "\n",
    "Lastly, we apply [DropOut](https://machinelearningmastery.com/dropout-for-regularizing-deep-neural-networks/) which is a form of regularization that randomly sets the weights of specific neurons to  zero during training time. This is shown below,\n",
    "\n",
    "<figure>\n",
    "<img src=\"images/dropout.jpg\" alt=\"Trulli\" style=\"width:75%\">\n",
    "<figcaption align = \"center\">\n",
    "    <b>From https://wenkangwei.github.io/2020/11/13/DL-DropOut/</b>\n",
    "</figcaption>\n",
    "</figure>\n",
    "\n",
    "\n",
    "Drop out prevents overfittings by making the network not too overly dependent on any one neurons layer.\n",
    "\n",
    "Now that we have gone over the basics of the CNN architecture let's get building a model!"
   ]
  },
  {
   "cell_type": "markdown",
   "metadata": {},
   "source": [
    "We can import the necessary modules and see if we are using a GPU for training: "
   ]
  },
  {
   "cell_type": "code",
   "execution_count": 17,
   "metadata": {},
   "outputs": [
    {
     "data": {
      "text/plain": [
       "[PhysicalDevice(name='/physical_device:GPU:0', device_type='GPU')]"
      ]
     },
     "execution_count": 17,
     "metadata": {},
     "output_type": "execute_result"
    }
   ],
   "source": [
    "from tensorflow.keras.layers import Dense, Input\n",
    "from tensorflow.keras.models import Sequential\n",
    "from tensorflow.keras import layers, losses\n",
    "\n",
    "tf.config.list_physical_devices('GPU')"
   ]
  },
  {
   "cell_type": "code",
   "execution_count": 52,
   "metadata": {
    "colab": {
     "base_uri": "https://localhost:8080/"
    },
    "id": "NWkwE6_UUdYt",
    "outputId": "91cf1c7f-eb5f-4f69-a779-16f23a391852"
   },
   "outputs": [],
   "source": [
    "def build_model(\n",
    "    embedding_dim: int=64,\n",
    "    filters: int=32,\n",
    "    kernel_size: int=5,\n",
    "    stride_size: int=3,\n",
    "    conv_padding: str=\"valid\",\n",
    "    pool_padding: str=\"same\",\n",
    "    dropout: float=0.2\n",
    ") -> Sequential:\n",
    "    \n",
    "    model = Sequential([\n",
    "                # Embedding Layer\n",
    "                tf.keras.Input(shape=(1,), \n",
    "                               dtype=tf.string, \n",
    "                               name='text'),\n",
    "                vectorize_layer,\n",
    "                layers.Embedding(max_features, embedding_dim),\n",
    "                layers.Dropout(dropout),\n",
    "\n",
    "                # Convolutional Layers\n",
    "                layers.Conv1D(filters, \n",
    "                              kernel_size, \n",
    "                              padding=conv_padding, \n",
    "                              activation=\"relu\", \n",
    "                              strides=stride_size),\n",
    "        \n",
    "                layers.MaxPooling1D(padding=pool_padding),\n",
    "        \n",
    "                layers.Conv1D(filters, \n",
    "                              kernel_size, \n",
    "                              padding=conv_padding, \n",
    "                              activation=\"relu\", \n",
    "                              strides=stride_size),\n",
    "        \n",
    "                layers.GlobalMaxPool1D(),\n",
    "\n",
    "                # Add a vanilla hidden layer:\n",
    "                layers.Dense(filters, activation=\"relu\"),\n",
    "                layers.Dropout(dropout),\n",
    "\n",
    "                # softmax layer\n",
    "                layers.Dense(4, activation=\"softmax\")\n",
    "    ])\n",
    "\n",
    "    # sceduler\n",
    "    lr_schedule = tf.keras.optimizers.schedules.ExponentialDecay(\n",
    "                            initial_learning_rate=1e-2,\n",
    "                            decay_steps=1000,\n",
    "                            decay_rate=0.2)\n",
    "    \n",
    "    model.compile(loss=\"categorical_crossentropy\", \n",
    "                  optimizer=tf.optimizers.Adam(learning_rate=lr_schedule), \n",
    "                  metrics=[\"accuracy\", tf.keras.metrics.AUC(name='prc', curve='PR')])\n",
    "\n",
    "    return model"
   ]
  },
  {
   "cell_type": "markdown",
   "metadata": {
    "colab": {
     "base_uri": "https://localhost:8080/"
    },
    "id": "NWkwE6_UUdYt",
    "outputId": "91cf1c7f-eb5f-4f69-a779-16f23a391852"
   },
   "source": [
    "We can now build the model and see the number of unknowns in each layer using the summary method,"
   ]
  },
  {
   "cell_type": "code",
   "execution_count": 94,
   "metadata": {},
   "outputs": [
    {
     "name": "stdout",
     "output_type": "stream",
     "text": [
      "Model: \"sequential_11\"\n",
      "_________________________________________________________________\n",
      " Layer (type)                Output Shape              Param #   \n",
      "=================================================================\n",
      " text_vectorization (TextVec  (None, 400)              0         \n",
      " torization)                                                     \n",
      "                                                                 \n",
      " embedding_11 (Embedding)    (None, 400, 64)           1280000   \n",
      "                                                                 \n",
      " dropout_22 (Dropout)        (None, 400, 64)           0         \n",
      "                                                                 \n",
      " conv1d_22 (Conv1D)          (None, 132, 32)           10272     \n",
      "                                                                 \n",
      " max_pooling1d_11 (MaxPoolin  (None, 66, 32)           0         \n",
      " g1D)                                                            \n",
      "                                                                 \n",
      " conv1d_23 (Conv1D)          (None, 21, 32)            5152      \n",
      "                                                                 \n",
      " global_max_pooling1d_11 (Gl  (None, 32)               0         \n",
      " obalMaxPooling1D)                                               \n",
      "                                                                 \n",
      " dense_22 (Dense)            (None, 32)                1056      \n",
      "                                                                 \n",
      " dropout_23 (Dropout)        (None, 32)                0         \n",
      "                                                                 \n",
      " dense_23 (Dense)            (None, 4)                 132       \n",
      "                                                                 \n",
      "=================================================================\n",
      "Total params: 1,296,612\n",
      "Trainable params: 1,296,612\n",
      "Non-trainable params: 0\n",
      "_________________________________________________________________\n"
     ]
    }
   ],
   "source": [
    "model = build_model()\n",
    "model.summary()"
   ]
  },
  {
   "cell_type": "markdown",
   "metadata": {},
   "source": [
    "Next, we can fit the model using `batch_size = 32` for 10 epochs and applying the weights for each of the classes."
   ]
  },
  {
   "cell_type": "code",
   "execution_count": 95,
   "metadata": {},
   "outputs": [],
   "source": [
    "weights_dict[3] = 2"
   ]
  },
  {
   "cell_type": "code",
   "execution_count": 96,
   "metadata": {},
   "outputs": [
    {
     "name": "stderr",
     "output_type": "stream",
     "text": [
      "2022-10-10 22:01:41.236126: I tensorflow/core/grappler/optimizers/custom_graph_optimizer_registry.cc:113] Plugin optimizer for device_type GPU is enabled.\n",
      "2022-10-10 22:01:45.659041: I tensorflow/core/grappler/optimizers/custom_graph_optimizer_registry.cc:113] Plugin optimizer for device_type GPU is enabled.\n"
     ]
    }
   ],
   "source": [
    "# Fit the model using the train and test datasets.\n",
    "history = model.fit(train_df[\"text\"], \n",
    "                    y_train, \n",
    "                    epochs=10, \n",
    "                    batch_size=32, \n",
    "                    class_weight=weights_dict, \n",
    "                    validation_split=0.2,\n",
    "                    verbose=False)"
   ]
  },
  {
   "cell_type": "markdown",
   "metadata": {},
   "source": [
    "We can now plot the learning curves to see how our model is performing,"
   ]
  },
  {
   "cell_type": "code",
   "execution_count": 97,
   "metadata": {
    "id": "I5PpHYZVYk-p"
   },
   "outputs": [],
   "source": [
    "history_df = pd.DataFrame(history.history)"
   ]
  },
  {
   "cell_type": "code",
   "execution_count": 98,
   "metadata": {
    "colab": {
     "base_uri": "https://localhost:8080/",
     "height": 324
    },
    "id": "cx7f8YU1YlQ2",
    "outputId": "7bf5c0bc-3253-443e-df51-639609a983ce"
   },
   "outputs": [
    {
     "data": {
      "image/png": "[encoded data removed]",
      "text/plain": [
       "<Figure size 576x360 with 1 Axes>"
      ]
     },
     "metadata": {
      "needs_background": "light"
     },
     "output_type": "display_data"
    }
   ],
   "source": [
    "history_df.plot(figsize=(8,5))\n",
    "plt.grid(True)\n",
    "# plt.gca().set_ylim(0,1)\n",
    "plt.show()\n",
    "# plt.legend()"
   ]
  },
  {
   "cell_type": "markdown",
   "metadata": {},
   "source": [
    "The number of unknowns in this model is dominated by the word embedding. The model has 4 million unknowns which makes it quite quickly complex and the model quickly ovefits to the traning set after 1 epoch! \n",
    "\n",
    "Let's take a look at the ROC and Precision-Recall curve,"
   ]
  },
  {
   "cell_type": "code",
   "execution_count": 99,
   "metadata": {
    "id": "G8STjVOXY_YU"
   },
   "outputs": [
    {
     "name": "stderr",
     "output_type": "stream",
     "text": [
      "2022-10-10 22:02:18.536154: I tensorflow/core/grappler/optimizers/custom_graph_optimizer_registry.cc:113] Plugin optimizer for device_type GPU is enabled.\n"
     ]
    },
    {
     "data": {
      "image/png": "[encoded data removed]",
      "text/plain": [
       "<Figure size 1080x432 with 2 Axes>"
      ]
     },
     "metadata": {
      "needs_background": "light"
     },
     "output_type": "display_data"
    }
   ],
   "source": [
    "from utils.Plot_ROC_PR_Curve import plot_roc_pr\n",
    "\n",
    "y_pred = model.predict(test_df[\"text\"])\n",
    "\n",
    "plot_roc_pr(y_pred = y_pred, y_test = y_test)"
   ]
  },
  {
   "cell_type": "markdown",
   "metadata": {},
   "source": [
    "The model is performing well on the majority classes, but horribly on the minority class!\n",
    "\n",
    "Let's see if we can improve this"
   ]
  },
  {
   "cell_type": "markdown",
   "metadata": {},
   "source": [
    "## Hype-Parameter Tuning with Optuna <a class=\"anchor\" id=\"fourth-bullet\"></a>"
   ]
  },
  {
   "cell_type": "code",
   "execution_count": 39,
   "metadata": {},
   "outputs": [],
   "source": [
    "import optuna"
   ]
  },
  {
   "cell_type": "code",
   "execution_count": 54,
   "metadata": {},
   "outputs": [],
   "source": [
    "def objective(trial):\n",
    "    tf.keras.backend.clear_session()\n",
    "    \n",
    "    model = build_model(embedding_dim=trial.suggest_categorical(\"embedding_dim\", [16, 32, 64, 128, 256]),\n",
    "                        conv_padding=trial.suggest_categorical(\"conv_padding\", [\"valid\", \"same\"]),\n",
    "                        pool_padding=trial.suggest_categorical(\"pool_padding\", [\"valid\", \"same\"]),\n",
    "                        kernel_size=trial.suggest_int(\"kernel_size\", 8, 16, 32, 64),\n",
    "                        stride_size=trial.suggest_categorical(\"strides\", [2, 3, 5]),\n",
    "                        dropout=trial.suggest_float(\"droput\", 0.3, 0.7))\n",
    "    \n",
    "    early_stopping_cb = tf.keras.callbacks.EarlyStopping(patience=10, \n",
    "                                                         restore_best_weights=True)\n",
    "    \n",
    "    model.fit(train_df[\"text\"], \n",
    "             y_train, \n",
    "             epochs=50, \n",
    "             batch_size=trial.suggest_categorical(\"batch_size\", [32, 64, 128]), \n",
    "             class_weight=weights_dict, \n",
    "             validation_split=0.2,\n",
    "             callbacks=[early_stopping_cb],\n",
    "             verbose=False)\n",
    "    \n",
    "    scores = model.evaluate(test_df[\"text\"], y_test)\n",
    "    return scores[1]\n",
    "    "
   ]
  },
  {
   "cell_type": "code",
   "execution_count": 55,
   "metadata": {},
   "outputs": [
    {
     "name": "stderr",
     "output_type": "stream",
     "text": [
      "\u001b[32m[I 2022-10-02 17:03:38,353]\u001b[0m A new study created in memory with name: no-name-ebe58550-ab11-4430-a3a3-bf3a4cfacffa\u001b[0m\n",
      "2022-10-02 17:03:38.794951: I tensorflow/core/grappler/optimizers/custom_graph_optimizer_registry.cc:113] Plugin optimizer for device_type GPU is enabled.\n",
      "2022-10-02 17:03:42.513644: I tensorflow/core/grappler/optimizers/custom_graph_optimizer_registry.cc:113] Plugin optimizer for device_type GPU is enabled.\n"
     ]
    },
    {
     "name": "stdout",
     "output_type": "stream",
     "text": [
      "50/50 [==============================] - 1s 11ms/step - loss: 0.6377 - accuracy: 0.7924 - prc: 0.8700\n"
     ]
    },
    {
     "name": "stderr",
     "output_type": "stream",
     "text": [
      "\u001b[32m[I 2022-10-02 17:04:22,097]\u001b[0m Trial 0 finished with value: 0.7923809885978699 and parameters: {'embedding_dim': 128, 'conv_padding': 'same', 'pool_padding': 'valid', 'kernel_size': 7, 'strides': 5, 'droput': 0.43383178163686364, 'batch_size': 32}. Best is trial 0 with value: 0.7923809885978699.\u001b[0m\n",
      "2022-10-02 17:04:22.401016: I tensorflow/core/grappler/optimizers/custom_graph_optimizer_registry.cc:113] Plugin optimizer for device_type GPU is enabled.\n",
      "2022-10-02 17:04:25.810851: I tensorflow/core/grappler/optimizers/custom_graph_optimizer_registry.cc:113] Plugin optimizer for device_type GPU is enabled.\n"
     ]
    },
    {
     "name": "stdout",
     "output_type": "stream",
     "text": [
      "50/50 [==============================] - 1s 11ms/step - loss: 0.5618 - accuracy: 0.7949 - prc: 0.8842\n"
     ]
    },
    {
     "name": "stderr",
     "output_type": "stream",
     "text": [
      "\u001b[32m[I 2022-10-02 17:05:00,892]\u001b[0m Trial 1 finished with value: 0.7949206829071045 and parameters: {'embedding_dim': 128, 'conv_padding': 'same', 'pool_padding': 'valid', 'kernel_size': 3, 'strides': 2, 'droput': 0.3802227036710344, 'batch_size': 32}. Best is trial 1 with value: 0.7949206829071045.\u001b[0m\n",
      "2022-10-02 17:05:01.230082: I tensorflow/core/grappler/optimizers/custom_graph_optimizer_registry.cc:113] Plugin optimizer for device_type GPU is enabled.\n",
      "2022-10-02 17:05:04.569917: I tensorflow/core/grappler/optimizers/custom_graph_optimizer_registry.cc:113] Plugin optimizer for device_type GPU is enabled.\n"
     ]
    },
    {
     "name": "stdout",
     "output_type": "stream",
     "text": [
      "50/50 [==============================] - 1s 14ms/step - loss: 0.6289 - accuracy: 0.7740 - prc: 0.8660\n"
     ]
    },
    {
     "name": "stderr",
     "output_type": "stream",
     "text": [
      "\u001b[32m[I 2022-10-02 17:05:31,390]\u001b[0m Trial 2 finished with value: 0.7739682793617249 and parameters: {'embedding_dim': 256, 'conv_padding': 'valid', 'pool_padding': 'valid', 'kernel_size': 5, 'strides': 2, 'droput': 0.4942036350939235, 'batch_size': 128}. Best is trial 1 with value: 0.7949206829071045.\u001b[0m\n",
      "2022-10-02 17:05:31.709819: I tensorflow/core/grappler/optimizers/custom_graph_optimizer_registry.cc:113] Plugin optimizer for device_type GPU is enabled.\n",
      "2022-10-02 17:05:34.930761: I tensorflow/core/grappler/optimizers/custom_graph_optimizer_registry.cc:113] Plugin optimizer for device_type GPU is enabled.\n"
     ]
    },
    {
     "name": "stdout",
     "output_type": "stream",
     "text": [
      "50/50 [==============================] - 1s 14ms/step - loss: 0.6839 - accuracy: 0.7644 - prc: 0.8390\n"
     ]
    },
    {
     "name": "stderr",
     "output_type": "stream",
     "text": [
      "\u001b[32m[I 2022-10-02 17:06:04,523]\u001b[0m Trial 3 finished with value: 0.7644444704055786 and parameters: {'embedding_dim': 256, 'conv_padding': 'valid', 'pool_padding': 'same', 'kernel_size': 7, 'strides': 2, 'droput': 0.6571904181664665, 'batch_size': 128}. Best is trial 1 with value: 0.7949206829071045.\u001b[0m\n",
      "2022-10-02 17:06:04.842581: I tensorflow/core/grappler/optimizers/custom_graph_optimizer_registry.cc:113] Plugin optimizer for device_type GPU is enabled.\n",
      "2022-10-02 17:06:06.934588: I tensorflow/core/grappler/optimizers/custom_graph_optimizer_registry.cc:113] Plugin optimizer for device_type GPU is enabled.\n"
     ]
    },
    {
     "name": "stdout",
     "output_type": "stream",
     "text": [
      "50/50 [==============================] - 1s 14ms/step - loss: 0.6068 - accuracy: 0.7981 - prc: 0.8738\n"
     ]
    },
    {
     "name": "stderr",
     "output_type": "stream",
     "text": [
      "\u001b[32m[I 2022-10-02 17:06:23,851]\u001b[0m Trial 4 finished with value: 0.7980952858924866 and parameters: {'embedding_dim': 64, 'conv_padding': 'valid', 'pool_padding': 'same', 'kernel_size': 5, 'strides': 3, 'droput': 0.5957536783675556, 'batch_size': 128}. Best is trial 4 with value: 0.7980952858924866.\u001b[0m\n",
      "2022-10-02 17:06:24.175637: I tensorflow/core/grappler/optimizers/custom_graph_optimizer_registry.cc:113] Plugin optimizer for device_type GPU is enabled.\n",
      "2022-10-02 17:06:28.479941: I tensorflow/core/grappler/optimizers/custom_graph_optimizer_registry.cc:113] Plugin optimizer for device_type GPU is enabled.\n"
     ]
    },
    {
     "name": "stdout",
     "output_type": "stream",
     "text": [
      "50/50 [==============================] - 1s 13ms/step - loss: 0.7642 - accuracy: 0.8083 - prc: 0.8674\n"
     ]
    },
    {
     "name": "stderr",
     "output_type": "stream",
     "text": [
      "\u001b[32m[I 2022-10-02 17:07:16,556]\u001b[0m Trial 5 finished with value: 0.8082540035247803 and parameters: {'embedding_dim': 128, 'conv_padding': 'same', 'pool_padding': 'valid', 'kernel_size': 5, 'strides': 3, 'droput': 0.4198489960330284, 'batch_size': 32}. Best is trial 5 with value: 0.8082540035247803.\u001b[0m\n",
      "2022-10-02 17:07:16.872043: I tensorflow/core/grappler/optimizers/custom_graph_optimizer_registry.cc:113] Plugin optimizer for device_type GPU is enabled.\n",
      "2022-10-02 17:07:20.208380: I tensorflow/core/grappler/optimizers/custom_graph_optimizer_registry.cc:113] Plugin optimizer for device_type GPU is enabled.\n"
     ]
    },
    {
     "name": "stdout",
     "output_type": "stream",
     "text": [
      "50/50 [==============================] - 1s 14ms/step - loss: 0.5763 - accuracy: 0.8152 - prc: 0.8830\n"
     ]
    },
    {
     "name": "stderr",
     "output_type": "stream",
     "text": [
      "\u001b[32m[I 2022-10-02 17:07:47,453]\u001b[0m Trial 6 finished with value: 0.8152381181716919 and parameters: {'embedding_dim': 128, 'conv_padding': 'same', 'pool_padding': 'same', 'kernel_size': 7, 'strides': 2, 'droput': 0.43371043901389245, 'batch_size': 64}. Best is trial 6 with value: 0.8152381181716919.\u001b[0m\n",
      "2022-10-02 17:07:47.795105: I tensorflow/core/grappler/optimizers/custom_graph_optimizer_registry.cc:113] Plugin optimizer for device_type GPU is enabled.\n",
      "2022-10-02 17:07:49.831491: I tensorflow/core/grappler/optimizers/custom_graph_optimizer_registry.cc:113] Plugin optimizer for device_type GPU is enabled.\n"
     ]
    },
    {
     "name": "stdout",
     "output_type": "stream",
     "text": [
      "50/50 [==============================] - 1s 13ms/step - loss: 0.5531 - accuracy: 0.8114 - prc: 0.8867\n"
     ]
    },
    {
     "name": "stderr",
     "output_type": "stream",
     "text": [
      "\u001b[32m[I 2022-10-02 17:08:05,741]\u001b[0m Trial 7 finished with value: 0.8114286065101624 and parameters: {'embedding_dim': 64, 'conv_padding': 'same', 'pool_padding': 'valid', 'kernel_size': 5, 'strides': 3, 'droput': 0.4226041002436505, 'batch_size': 128}. Best is trial 6 with value: 0.8152381181716919.\u001b[0m\n",
      "2022-10-02 17:08:06.075543: I tensorflow/core/grappler/optimizers/custom_graph_optimizer_registry.cc:113] Plugin optimizer for device_type GPU is enabled.\n",
      "2022-10-02 17:08:08.461124: I tensorflow/core/grappler/optimizers/custom_graph_optimizer_registry.cc:113] Plugin optimizer for device_type GPU is enabled.\n"
     ]
    },
    {
     "name": "stdout",
     "output_type": "stream",
     "text": [
      "50/50 [==============================] - 1s 14ms/step - loss: 0.6847 - accuracy: 0.7695 - prc: 0.8419\n"
     ]
    },
    {
     "name": "stderr",
     "output_type": "stream",
     "text": [
      "\u001b[32m[I 2022-10-02 17:08:30,261]\u001b[0m Trial 8 finished with value: 0.7695238590240479 and parameters: {'embedding_dim': 128, 'conv_padding': 'valid', 'pool_padding': 'valid', 'kernel_size': 3, 'strides': 3, 'droput': 0.4121372547643315, 'batch_size': 128}. Best is trial 6 with value: 0.8152381181716919.\u001b[0m\n",
      "2022-10-02 17:08:30.591277: I tensorflow/core/grappler/optimizers/custom_graph_optimizer_registry.cc:113] Plugin optimizer for device_type GPU is enabled.\n",
      "2022-10-02 17:08:34.895522: I tensorflow/core/grappler/optimizers/custom_graph_optimizer_registry.cc:113] Plugin optimizer for device_type GPU is enabled.\n"
     ]
    },
    {
     "name": "stdout",
     "output_type": "stream",
     "text": [
      "50/50 [==============================] - 1s 17ms/step - loss: 0.6113 - accuracy: 0.7981 - prc: 0.8782\n"
     ]
    },
    {
     "name": "stderr",
     "output_type": "stream",
     "text": [
      "\u001b[32m[I 2022-10-02 17:09:26,723]\u001b[0m Trial 9 finished with value: 0.7980952858924866 and parameters: {'embedding_dim': 256, 'conv_padding': 'valid', 'pool_padding': 'same', 'kernel_size': 7, 'strides': 2, 'droput': 0.5339244995118158, 'batch_size': 64}. Best is trial 6 with value: 0.8152381181716919.\u001b[0m\n",
      "2022-10-02 17:09:27.084964: I tensorflow/core/grappler/optimizers/custom_graph_optimizer_registry.cc:113] Plugin optimizer for device_type GPU is enabled.\n",
      "2022-10-02 17:09:31.366137: I tensorflow/core/grappler/optimizers/custom_graph_optimizer_registry.cc:113] Plugin optimizer for device_type GPU is enabled.\n"
     ]
    },
    {
     "name": "stdout",
     "output_type": "stream",
     "text": [
      "50/50 [==============================] - 1s 18ms/step - loss: 0.6291 - accuracy: 0.8051 - prc: 0.8738\n"
     ]
    },
    {
     "name": "stderr",
     "output_type": "stream",
     "text": [
      "\u001b[32m[I 2022-10-02 17:10:04,281]\u001b[0m Trial 10 finished with value: 0.8050794005393982 and parameters: {'embedding_dim': 128, 'conv_padding': 'same', 'pool_padding': 'same', 'kernel_size': 7, 'strides': 5, 'droput': 0.3230437751205056, 'batch_size': 64}. Best is trial 6 with value: 0.8152381181716919.\u001b[0m\n",
      "2022-10-02 17:10:04.612404: I tensorflow/core/grappler/optimizers/custom_graph_optimizer_registry.cc:113] Plugin optimizer for device_type GPU is enabled.\n",
      "2022-10-02 17:10:08.651896: I tensorflow/core/grappler/optimizers/custom_graph_optimizer_registry.cc:113] Plugin optimizer for device_type GPU is enabled.\n"
     ]
    },
    {
     "name": "stdout",
     "output_type": "stream",
     "text": [
      "50/50 [==============================] - 1s 17ms/step - loss: 0.8013 - accuracy: 0.8006 - prc: 0.8663\n"
     ]
    },
    {
     "name": "stderr",
     "output_type": "stream",
     "text": [
      "\u001b[32m[I 2022-10-02 17:10:44,739]\u001b[0m Trial 11 finished with value: 0.8006349802017212 and parameters: {'embedding_dim': 64, 'conv_padding': 'same', 'pool_padding': 'same', 'kernel_size': 5, 'strides': 3, 'droput': 0.5118330708808335, 'batch_size': 64}. Best is trial 6 with value: 0.8152381181716919.\u001b[0m\n",
      "2022-10-02 17:10:45.059900: I tensorflow/core/grappler/optimizers/custom_graph_optimizer_registry.cc:113] Plugin optimizer for device_type GPU is enabled.\n",
      "2022-10-02 17:10:48.405841: I tensorflow/core/grappler/optimizers/custom_graph_optimizer_registry.cc:113] Plugin optimizer for device_type GPU is enabled.\n"
     ]
    },
    {
     "name": "stdout",
     "output_type": "stream",
     "text": [
      "50/50 [==============================] - 1s 17ms/step - loss: 0.7530 - accuracy: 0.7829 - prc: 0.8510\n"
     ]
    },
    {
     "name": "stderr",
     "output_type": "stream",
     "text": [
      "\u001b[32m[I 2022-10-02 17:11:21,340]\u001b[0m Trial 12 finished with value: 0.7828571796417236 and parameters: {'embedding_dim': 64, 'conv_padding': 'same', 'pool_padding': 'valid', 'kernel_size': 3, 'strides': 2, 'droput': 0.30032237342735035, 'batch_size': 64}. Best is trial 6 with value: 0.8152381181716919.\u001b[0m\n",
      "2022-10-02 17:11:21.660144: I tensorflow/core/grappler/optimizers/custom_graph_optimizer_registry.cc:113] Plugin optimizer for device_type GPU is enabled.\n",
      "2022-10-02 17:11:25.119903: I tensorflow/core/grappler/optimizers/custom_graph_optimizer_registry.cc:113] Plugin optimizer for device_type GPU is enabled.\n"
     ]
    },
    {
     "name": "stdout",
     "output_type": "stream",
     "text": [
      "50/50 [==============================] - 1s 17ms/step - loss: 0.6451 - accuracy: 0.8032 - prc: 0.8745\n"
     ]
    },
    {
     "name": "stderr",
     "output_type": "stream",
     "text": [
      "\u001b[32m[I 2022-10-02 17:11:47,070]\u001b[0m Trial 13 finished with value: 0.803174614906311 and parameters: {'embedding_dim': 64, 'conv_padding': 'same', 'pool_padding': 'same', 'kernel_size': 5, 'strides': 3, 'droput': 0.4667827263071357, 'batch_size': 128}. Best is trial 6 with value: 0.8152381181716919.\u001b[0m\n",
      "2022-10-02 17:11:47.394247: I tensorflow/core/grappler/optimizers/custom_graph_optimizer_registry.cc:113] Plugin optimizer for device_type GPU is enabled.\n",
      "2022-10-02 17:11:51.735820: I tensorflow/core/grappler/optimizers/custom_graph_optimizer_registry.cc:113] Plugin optimizer for device_type GPU is enabled.\n"
     ]
    },
    {
     "name": "stdout",
     "output_type": "stream",
     "text": [
      "50/50 [==============================] - 1s 17ms/step - loss: 0.7915 - accuracy: 0.8083 - prc: 0.8589\n"
     ]
    },
    {
     "name": "stderr",
     "output_type": "stream",
     "text": [
      "\u001b[32m[I 2022-10-02 17:12:29,483]\u001b[0m Trial 14 finished with value: 0.8082540035247803 and parameters: {'embedding_dim': 64, 'conv_padding': 'same', 'pool_padding': 'valid', 'kernel_size': 7, 'strides': 5, 'droput': 0.36439544234336496, 'batch_size': 64}. Best is trial 6 with value: 0.8152381181716919.\u001b[0m\n",
      "2022-10-02 17:12:29.809291: I tensorflow/core/grappler/optimizers/custom_graph_optimizer_registry.cc:113] Plugin optimizer for device_type GPU is enabled.\n",
      "2022-10-02 17:12:32.528450: I tensorflow/core/grappler/optimizers/custom_graph_optimizer_registry.cc:113] Plugin optimizer for device_type GPU is enabled.\n"
     ]
    },
    {
     "name": "stdout",
     "output_type": "stream",
     "text": [
      "50/50 [==============================] - 1s 17ms/step - loss: 0.8205 - accuracy: 0.7676 - prc: 0.8564\n"
     ]
    },
    {
     "name": "stderr",
     "output_type": "stream",
     "text": [
      "\u001b[32m[I 2022-10-02 17:12:59,568]\u001b[0m Trial 15 finished with value: 0.7676190733909607 and parameters: {'embedding_dim': 128, 'conv_padding': 'same', 'pool_padding': 'same', 'kernel_size': 5, 'strides': 2, 'droput': 0.563980917173621, 'batch_size': 128}. Best is trial 6 with value: 0.8152381181716919.\u001b[0m\n",
      "2022-10-02 17:12:59.891975: I tensorflow/core/grappler/optimizers/custom_graph_optimizer_registry.cc:113] Plugin optimizer for device_type GPU is enabled.\n",
      "2022-10-02 17:13:03.557022: I tensorflow/core/grappler/optimizers/custom_graph_optimizer_registry.cc:113] Plugin optimizer for device_type GPU is enabled.\n"
     ]
    },
    {
     "name": "stdout",
     "output_type": "stream",
     "text": [
      "50/50 [==============================] - 1s 17ms/step - loss: 0.5437 - accuracy: 0.8241 - prc: 0.8917\n"
     ]
    },
    {
     "name": "stderr",
     "output_type": "stream",
     "text": [
      "\u001b[32m[I 2022-10-02 17:13:34,341]\u001b[0m Trial 16 finished with value: 0.8241270184516907 and parameters: {'embedding_dim': 64, 'conv_padding': 'same', 'pool_padding': 'valid', 'kernel_size': 7, 'strides': 3, 'droput': 0.4568247271679226, 'batch_size': 64}. Best is trial 16 with value: 0.8241270184516907.\u001b[0m\n",
      "2022-10-02 17:13:34.665391: I tensorflow/core/grappler/optimizers/custom_graph_optimizer_registry.cc:113] Plugin optimizer for device_type GPU is enabled.\n",
      "2022-10-02 17:13:38.572718: I tensorflow/core/grappler/optimizers/custom_graph_optimizer_registry.cc:113] Plugin optimizer for device_type GPU is enabled.\n"
     ]
    },
    {
     "name": "stdout",
     "output_type": "stream",
     "text": [
      "50/50 [==============================] - 1s 17ms/step - loss: 0.8858 - accuracy: 0.5854 - prc: 0.7180\n"
     ]
    },
    {
     "name": "stderr",
     "output_type": "stream",
     "text": [
      "\u001b[32m[I 2022-10-02 17:14:10,811]\u001b[0m Trial 17 finished with value: 0.5853968262672424 and parameters: {'embedding_dim': 128, 'conv_padding': 'same', 'pool_padding': 'same', 'kernel_size': 7, 'strides': 3, 'droput': 0.47087781368122006, 'batch_size': 64}. Best is trial 16 with value: 0.8241270184516907.\u001b[0m\n"
     ]
    }
   ],
   "source": [
    "study = optuna.create_study(direction=\"maximize\")\n",
    "study.optimize(objective, n_trials=150, timeout=600)"
   ]
  },
  {
   "cell_type": "code",
   "execution_count": 56,
   "metadata": {},
   "outputs": [],
   "source": [
    "best_trial = study.best_trial"
   ]
  },
  {
   "cell_type": "code",
   "execution_count": 57,
   "metadata": {},
   "outputs": [
    {
     "data": {
      "text/plain": [
       "FrozenTrial(number=16, values=[0.8241270184516907], datetime_start=datetime.datetime(2022, 10, 2, 17, 12, 59, 569120), datetime_complete=datetime.datetime(2022, 10, 2, 17, 13, 34, 341007), params={'embedding_dim': 64, 'conv_padding': 'same', 'pool_padding': 'valid', 'kernel_size': 7, 'strides': 3, 'droput': 0.4568247271679226, 'batch_size': 64}, distributions={'embedding_dim': CategoricalDistribution(choices=(64, 128, 256)), 'conv_padding': CategoricalDistribution(choices=('valid', 'same')), 'pool_padding': CategoricalDistribution(choices=('valid', 'same')), 'kernel_size': IntUniformDistribution(high=7, low=3, step=2), 'strides': CategoricalDistribution(choices=(2, 3, 5)), 'droput': UniformDistribution(high=0.7, low=0.3), 'batch_size': CategoricalDistribution(choices=(32, 64, 128))}, user_attrs={}, system_attrs={}, intermediate_values={}, trial_id=16, state=TrialState.COMPLETE, value=None)"
      ]
     },
     "execution_count": 57,
     "metadata": {},
     "output_type": "execute_result"
    }
   ],
   "source": [
    "best_trial"
   ]
  },
  {
   "cell_type": "code",
   "execution_count": 58,
   "metadata": {},
   "outputs": [
    {
     "data": {
      "text/plain": [
       "{'embedding_dim': 64,\n",
       " 'conv_padding': 'same',\n",
       " 'pool_padding': 'valid',\n",
       " 'kernel_size': 7,\n",
       " 'strides': 3,\n",
       " 'droput': 0.4568247271679226,\n",
       " 'batch_size': 64}"
      ]
     },
     "execution_count": 58,
     "metadata": {},
     "output_type": "execute_result"
    }
   ],
   "source": [
    "study.best_params"
   ]
  },
  {
   "cell_type": "code",
   "execution_count": 59,
   "metadata": {},
   "outputs": [
    {
     "data": {
      "text/plain": [
       "0.8241270184516907"
      ]
     },
     "execution_count": 59,
     "metadata": {},
     "output_type": "execute_result"
    }
   ],
   "source": [
    "study.best_value"
   ]
  },
  {
   "cell_type": "markdown",
   "metadata": {},
   "source": [
    "## Deploying To Production <a class=\"anchor\" id=\"fifth-bullet\"></a>"
   ]
  },
  {
   "cell_type": "markdown",
   "metadata": {},
   "source": [
    "## Conclusions <a class=\"anchor\" id=\"sixth-bullet\"></a>"
   ]
  },
  {
   "cell_type": "code",
   "execution_count": null,
   "metadata": {},
   "outputs": [],
   "source": []
  }
 ],
 "metadata": {
  "colab": {
   "authorship_tag": "ABX9TyPWTTd7yPkxh2nn2xIX0vc4",
   "collapsed_sections": [],
   "include_colab_link": true,
   "name": "NLP-Part4.ipynb",
   "provenance": []
  },
  "kernelspec": {
   "display_name": "Python (deepgreen)",
   "language": "python",
   "name": "deepgreen"
  },
  "language_info": {
   "codemirror_mode": {
    "name": "ipython",
    "version": 3
   },
   "file_extension": ".py",
   "mimetype": "text/x-python",
   "name": "python",
   "nbconvert_exporter": "python",
   "pygments_lexer": "ipython3",
   "version": "3.8.12"
  }
 },
 "nbformat": 4,
 "nbformat_minor": 4
}
