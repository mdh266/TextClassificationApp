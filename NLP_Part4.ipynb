{
  "nbformat": 4,
  "nbformat_minor": 0,
  "metadata": {
    "colab": {
      "name": "NLP-Part4.ipynb",
      "provenance": [],
      "collapsed_sections": [],
      "authorship_tag": "ABX9TyPWTTd7yPkxh2nn2xIX0vc4",
      "include_colab_link": true
    },
    "kernelspec": {
      "name": "python3",
      "display_name": "Python 3"
    },
    "language_info": {
      "name": "python"
    }
  },
  "cells": [
    {
      "cell_type": "markdown",
      "metadata": {
        "id": "view-in-github",
        "colab_type": "text"
      },
      "source": [
        "<a href=\"https://colab.research.google.com/github/mdh266/TextClassificationApp/blob/feature%2Fkeras/NLP_Part4.ipynb\" target=\"_parent\"><img src=\"https://colab.research.google.com/assets/colab-badge.svg\" alt=\"Open In Colab\"/></a>"
      ]
    },
    {
      "cell_type": "code",
      "execution_count": 7,
      "metadata": {
        "id": "2dJT9l0K_ly4"
      },
      "outputs": [],
      "source": [
        "# !pip install gcsfs"
      ]
    },
    {
      "cell_type": "code",
      "source": [
        "import pandas as pd\n",
        "import numpy as np\n",
        "import matplotlib.pyplot as plt"
      ],
      "metadata": {
        "id": "LQki2XRI_m04"
      },
      "execution_count": 41,
      "outputs": []
    },
    {
      "cell_type": "code",
      "source": [
        "import tensorflow as tf\n",
        "from tensorflow.keras.layers.experimental.preprocessing import TextVectorization\n",
        "from tensorflow.keras.layers import Dense, Input\n",
        "from tensorflow.keras.models import Sequential\n",
        "from tensorflow.keras import layers\n",
        "from tensorflow.keras import losses\n",
        "import tensorflow as tf\n"
      ],
      "metadata": {
        "id": "GR1PjM9k_tWW"
      },
      "execution_count": 2,
      "outputs": []
    },
    {
      "cell_type": "code",
      "source": [
        ""
      ],
      "metadata": {
        "id": "ZFSXfG7k_4PT"
      },
      "execution_count": 4,
      "outputs": []
    },
    {
      "cell_type": "code",
      "source": [
        "\n",
        "from sklearn.preprocessing import LabelEncoder, label_binarize\n",
        "train_df = pd.read_json(\"gs://harmon-arxiv/train_abstracts.json\")\n",
        "test_df  = pd.read_json(\"gs://harmon-arxiv/test_abstracts.json\")\n",
        "\n",
        "# train_df = train_df.query(\"category != 'ro'\")\n",
        "# test_df  = test_df.query(\"category != 'ro'\")\n",
        "\n",
        "labeler      = LabelEncoder()\n",
        "train_df = train_df.assign(target=labeler.fit_transform(train_df[\"category\"]))\n",
        "test_df  = test_df.assign(target=labeler.fit_transform(test_df[\"category\"]))\n",
        "\n",
        "train_df.head()"
      ],
      "metadata": {
        "colab": {
          "base_uri": "https://localhost:8080/",
          "height": 206
        },
        "id": "B1jcTPGtM9j_",
        "outputId": "47d7c40e-f7d0-48b5-ecfe-1a2365dd3055"
      },
      "execution_count": 8,
      "outputs": [
        {
          "output_type": "execute_result",
          "data": {
            "text/html": [
              "\n",
              "  <div id=\"df-67a6cdc3-dd89-461b-b3e9-a5e22d128524\">\n",
              "    <div class=\"colab-df-container\">\n",
              "      <div>\n",
              "<style scoped>\n",
              "    .dataframe tbody tr th:only-of-type {\n",
              "        vertical-align: middle;\n",
              "    }\n",
              "\n",
              "    .dataframe tbody tr th {\n",
              "        vertical-align: top;\n",
              "    }\n",
              "\n",
              "    .dataframe thead th {\n",
              "        text-align: right;\n",
              "    }\n",
              "</style>\n",
              "<table border=\"1\" class=\"dataframe\">\n",
              "  <thead>\n",
              "    <tr style=\"text-align: right;\">\n",
              "      <th></th>\n",
              "      <th>category</th>\n",
              "      <th>text</th>\n",
              "      <th>target</th>\n",
              "    </tr>\n",
              "  </thead>\n",
              "  <tbody>\n",
              "    <tr>\n",
              "      <th>0</th>\n",
              "      <td>ai</td>\n",
              "      <td>Because of their occasional need to return to ...</td>\n",
              "      <td>0</td>\n",
              "    </tr>\n",
              "    <tr>\n",
              "      <th>1</th>\n",
              "      <td>ai</td>\n",
              "      <td>Market price systems constitute a well-underst...</td>\n",
              "      <td>0</td>\n",
              "    </tr>\n",
              "    <tr>\n",
              "      <th>2</th>\n",
              "      <td>ai</td>\n",
              "      <td>We describe an extensive study of search in GS...</td>\n",
              "      <td>0</td>\n",
              "    </tr>\n",
              "    <tr>\n",
              "      <th>3</th>\n",
              "      <td>ai</td>\n",
              "      <td>As real logic programmers normally use cut (!)...</td>\n",
              "      <td>0</td>\n",
              "    </tr>\n",
              "    <tr>\n",
              "      <th>4</th>\n",
              "      <td>ai</td>\n",
              "      <td>To support the goal of allowing users to recor...</td>\n",
              "      <td>0</td>\n",
              "    </tr>\n",
              "  </tbody>\n",
              "</table>\n",
              "</div>\n",
              "      <button class=\"colab-df-convert\" onclick=\"convertToInteractive('df-67a6cdc3-dd89-461b-b3e9-a5e22d128524')\"\n",
              "              title=\"Convert this dataframe to an interactive table.\"\n",
              "              style=\"display:none;\">\n",
              "        \n",
              "  <svg xmlns=\"http://www.w3.org/2000/svg\" height=\"24px\"viewBox=\"0 0 24 24\"\n",
              "       width=\"24px\">\n",
              "    <path d=\"M0 0h24v24H0V0z\" fill=\"none\"/>\n",
              "    <path d=\"M18.56 5.44l.94 2.06.94-2.06 2.06-.94-2.06-.94-.94-2.06-.94 2.06-2.06.94zm-11 1L8.5 8.5l.94-2.06 2.06-.94-2.06-.94L8.5 2.5l-.94 2.06-2.06.94zm10 10l.94 2.06.94-2.06 2.06-.94-2.06-.94-.94-2.06-.94 2.06-2.06.94z\"/><path d=\"M17.41 7.96l-1.37-1.37c-.4-.4-.92-.59-1.43-.59-.52 0-1.04.2-1.43.59L10.3 9.45l-7.72 7.72c-.78.78-.78 2.05 0 2.83L4 21.41c.39.39.9.59 1.41.59.51 0 1.02-.2 1.41-.59l7.78-7.78 2.81-2.81c.8-.78.8-2.07 0-2.86zM5.41 20L4 18.59l7.72-7.72 1.47 1.35L5.41 20z\"/>\n",
              "  </svg>\n",
              "      </button>\n",
              "      \n",
              "  <style>\n",
              "    .colab-df-container {\n",
              "      display:flex;\n",
              "      flex-wrap:wrap;\n",
              "      gap: 12px;\n",
              "    }\n",
              "\n",
              "    .colab-df-convert {\n",
              "      background-color: #E8F0FE;\n",
              "      border: none;\n",
              "      border-radius: 50%;\n",
              "      cursor: pointer;\n",
              "      display: none;\n",
              "      fill: #1967D2;\n",
              "      height: 32px;\n",
              "      padding: 0 0 0 0;\n",
              "      width: 32px;\n",
              "    }\n",
              "\n",
              "    .colab-df-convert:hover {\n",
              "      background-color: #E2EBFA;\n",
              "      box-shadow: 0px 1px 2px rgba(60, 64, 67, 0.3), 0px 1px 3px 1px rgba(60, 64, 67, 0.15);\n",
              "      fill: #174EA6;\n",
              "    }\n",
              "\n",
              "    [theme=dark] .colab-df-convert {\n",
              "      background-color: #3B4455;\n",
              "      fill: #D2E3FC;\n",
              "    }\n",
              "\n",
              "    [theme=dark] .colab-df-convert:hover {\n",
              "      background-color: #434B5C;\n",
              "      box-shadow: 0px 1px 3px 1px rgba(0, 0, 0, 0.15);\n",
              "      filter: drop-shadow(0px 1px 2px rgba(0, 0, 0, 0.3));\n",
              "      fill: #FFFFFF;\n",
              "    }\n",
              "  </style>\n",
              "\n",
              "      <script>\n",
              "        const buttonEl =\n",
              "          document.querySelector('#df-67a6cdc3-dd89-461b-b3e9-a5e22d128524 button.colab-df-convert');\n",
              "        buttonEl.style.display =\n",
              "          google.colab.kernel.accessAllowed ? 'block' : 'none';\n",
              "\n",
              "        async function convertToInteractive(key) {\n",
              "          const element = document.querySelector('#df-67a6cdc3-dd89-461b-b3e9-a5e22d128524');\n",
              "          const dataTable =\n",
              "            await google.colab.kernel.invokeFunction('convertToInteractive',\n",
              "                                                     [key], {});\n",
              "          if (!dataTable) return;\n",
              "\n",
              "          const docLinkHtml = 'Like what you see? Visit the ' +\n",
              "            '<a target=\"_blank\" href=https://colab.research.google.com/notebooks/data_table.ipynb>data table notebook</a>'\n",
              "            + ' to learn more about interactive tables.';\n",
              "          element.innerHTML = '';\n",
              "          dataTable['output_type'] = 'display_data';\n",
              "          await google.colab.output.renderOutput(dataTable, element);\n",
              "          const docLink = document.createElement('div');\n",
              "          docLink.innerHTML = docLinkHtml;\n",
              "          element.appendChild(docLink);\n",
              "        }\n",
              "      </script>\n",
              "    </div>\n",
              "  </div>\n",
              "  "
            ],
            "text/plain": [
              "  category                                               text  target\n",
              "0       ai  Because of their occasional need to return to ...       0\n",
              "1       ai  Market price systems constitute a well-underst...       0\n",
              "2       ai  We describe an extensive study of search in GS...       0\n",
              "3       ai  As real logic programmers normally use cut (!)...       0\n",
              "4       ai  To support the goal of allowing users to recor...       0"
            ]
          },
          "metadata": {},
          "execution_count": 8
        }
      ]
    },
    {
      "cell_type": "code",
      "source": [
        ""
      ],
      "metadata": {
        "id": "gpdq5rEYNJ4x"
      },
      "execution_count": null,
      "outputs": []
    },
    {
      "cell_type": "code",
      "source": [
        "from sklearn.utils import shuffle\n",
        "\n",
        "train_df = shuffle(train_df)\n",
        "test_df = shuffle(test_df)"
      ],
      "metadata": {
        "id": "gnz5cd6pM-Xg"
      },
      "execution_count": 9,
      "outputs": []
    },
    {
      "cell_type": "code",
      "source": [
        "train_df.head()"
      ],
      "metadata": {
        "colab": {
          "base_uri": "https://localhost:8080/",
          "height": 206
        },
        "id": "u3n0j9mLNE60",
        "outputId": "d9aec6a1-c2a5-4d98-9ada-8eb50651fa80"
      },
      "execution_count": 10,
      "outputs": [
        {
          "output_type": "execute_result",
          "data": {
            "text/html": [
              "\n",
              "  <div id=\"df-9e7220b0-3c30-46e6-bb6d-bce349689a11\">\n",
              "    <div class=\"colab-df-container\">\n",
              "      <div>\n",
              "<style scoped>\n",
              "    .dataframe tbody tr th:only-of-type {\n",
              "        vertical-align: middle;\n",
              "    }\n",
              "\n",
              "    .dataframe tbody tr th {\n",
              "        vertical-align: top;\n",
              "    }\n",
              "\n",
              "    .dataframe thead th {\n",
              "        text-align: right;\n",
              "    }\n",
              "</style>\n",
              "<table border=\"1\" class=\"dataframe\">\n",
              "  <thead>\n",
              "    <tr style=\"text-align: right;\">\n",
              "      <th></th>\n",
              "      <th>category</th>\n",
              "      <th>text</th>\n",
              "      <th>target</th>\n",
              "    </tr>\n",
              "  </thead>\n",
              "  <tbody>\n",
              "    <tr>\n",
              "      <th>1652</th>\n",
              "      <td>ml</td>\n",
              "      <td>Prediction is a complex notion, and different ...</td>\n",
              "      <td>2</td>\n",
              "    </tr>\n",
              "    <tr>\n",
              "      <th>1996</th>\n",
              "      <td>ml</td>\n",
              "      <td>Random Forest (RF) is a powerful supervised le...</td>\n",
              "      <td>2</td>\n",
              "    </tr>\n",
              "    <tr>\n",
              "      <th>3966</th>\n",
              "      <td>cv</td>\n",
              "      <td>In this paper, we propose a novel method for i...</td>\n",
              "      <td>1</td>\n",
              "    </tr>\n",
              "    <tr>\n",
              "      <th>4174</th>\n",
              "      <td>cv</td>\n",
              "      <td>In this paper we are proposing the use of Kani...</td>\n",
              "      <td>1</td>\n",
              "    </tr>\n",
              "    <tr>\n",
              "      <th>166</th>\n",
              "      <td>ai</td>\n",
              "      <td>A reported weakness of C4.5 in domains with co...</td>\n",
              "      <td>0</td>\n",
              "    </tr>\n",
              "  </tbody>\n",
              "</table>\n",
              "</div>\n",
              "      <button class=\"colab-df-convert\" onclick=\"convertToInteractive('df-9e7220b0-3c30-46e6-bb6d-bce349689a11')\"\n",
              "              title=\"Convert this dataframe to an interactive table.\"\n",
              "              style=\"display:none;\">\n",
              "        \n",
              "  <svg xmlns=\"http://www.w3.org/2000/svg\" height=\"24px\"viewBox=\"0 0 24 24\"\n",
              "       width=\"24px\">\n",
              "    <path d=\"M0 0h24v24H0V0z\" fill=\"none\"/>\n",
              "    <path d=\"M18.56 5.44l.94 2.06.94-2.06 2.06-.94-2.06-.94-.94-2.06-.94 2.06-2.06.94zm-11 1L8.5 8.5l.94-2.06 2.06-.94-2.06-.94L8.5 2.5l-.94 2.06-2.06.94zm10 10l.94 2.06.94-2.06 2.06-.94-2.06-.94-.94-2.06-.94 2.06-2.06.94z\"/><path d=\"M17.41 7.96l-1.37-1.37c-.4-.4-.92-.59-1.43-.59-.52 0-1.04.2-1.43.59L10.3 9.45l-7.72 7.72c-.78.78-.78 2.05 0 2.83L4 21.41c.39.39.9.59 1.41.59.51 0 1.02-.2 1.41-.59l7.78-7.78 2.81-2.81c.8-.78.8-2.07 0-2.86zM5.41 20L4 18.59l7.72-7.72 1.47 1.35L5.41 20z\"/>\n",
              "  </svg>\n",
              "      </button>\n",
              "      \n",
              "  <style>\n",
              "    .colab-df-container {\n",
              "      display:flex;\n",
              "      flex-wrap:wrap;\n",
              "      gap: 12px;\n",
              "    }\n",
              "\n",
              "    .colab-df-convert {\n",
              "      background-color: #E8F0FE;\n",
              "      border: none;\n",
              "      border-radius: 50%;\n",
              "      cursor: pointer;\n",
              "      display: none;\n",
              "      fill: #1967D2;\n",
              "      height: 32px;\n",
              "      padding: 0 0 0 0;\n",
              "      width: 32px;\n",
              "    }\n",
              "\n",
              "    .colab-df-convert:hover {\n",
              "      background-color: #E2EBFA;\n",
              "      box-shadow: 0px 1px 2px rgba(60, 64, 67, 0.3), 0px 1px 3px 1px rgba(60, 64, 67, 0.15);\n",
              "      fill: #174EA6;\n",
              "    }\n",
              "\n",
              "    [theme=dark] .colab-df-convert {\n",
              "      background-color: #3B4455;\n",
              "      fill: #D2E3FC;\n",
              "    }\n",
              "\n",
              "    [theme=dark] .colab-df-convert:hover {\n",
              "      background-color: #434B5C;\n",
              "      box-shadow: 0px 1px 3px 1px rgba(0, 0, 0, 0.15);\n",
              "      filter: drop-shadow(0px 1px 2px rgba(0, 0, 0, 0.3));\n",
              "      fill: #FFFFFF;\n",
              "    }\n",
              "  </style>\n",
              "\n",
              "      <script>\n",
              "        const buttonEl =\n",
              "          document.querySelector('#df-9e7220b0-3c30-46e6-bb6d-bce349689a11 button.colab-df-convert');\n",
              "        buttonEl.style.display =\n",
              "          google.colab.kernel.accessAllowed ? 'block' : 'none';\n",
              "\n",
              "        async function convertToInteractive(key) {\n",
              "          const element = document.querySelector('#df-9e7220b0-3c30-46e6-bb6d-bce349689a11');\n",
              "          const dataTable =\n",
              "            await google.colab.kernel.invokeFunction('convertToInteractive',\n",
              "                                                     [key], {});\n",
              "          if (!dataTable) return;\n",
              "\n",
              "          const docLinkHtml = 'Like what you see? Visit the ' +\n",
              "            '<a target=\"_blank\" href=https://colab.research.google.com/notebooks/data_table.ipynb>data table notebook</a>'\n",
              "            + ' to learn more about interactive tables.';\n",
              "          element.innerHTML = '';\n",
              "          dataTable['output_type'] = 'display_data';\n",
              "          await google.colab.output.renderOutput(dataTable, element);\n",
              "          const docLink = document.createElement('div');\n",
              "          docLink.innerHTML = docLinkHtml;\n",
              "          element.appendChild(docLink);\n",
              "        }\n",
              "      </script>\n",
              "    </div>\n",
              "  </div>\n",
              "  "
            ],
            "text/plain": [
              "     category                                               text  target\n",
              "1652       ml  Prediction is a complex notion, and different ...       2\n",
              "1996       ml  Random Forest (RF) is a powerful supervised le...       2\n",
              "3966       cv  In this paper, we propose a novel method for i...       1\n",
              "4174       cv  In this paper we are proposing the use of Kani...       1\n",
              "166        ai  A reported weakness of C4.5 in domains with co...       0"
            ]
          },
          "metadata": {},
          "execution_count": 10
        }
      ]
    },
    {
      "cell_type": "code",
      "source": [
        "# classes = [0,1,2,3]\n",
        "classes   = np.sort(train_df[\"target\"].unique())\n",
        "\n",
        "# relabel the test set\n",
        "y_train = label_binarize(train_df[\"target\"],\n",
        "                         classes=classes)\n",
        "\n",
        "y_test = label_binarize(test_df[\"target\"], \n",
        "                        classes=classes)"
      ],
      "metadata": {
        "id": "MrmhWtO6_wL3"
      },
      "execution_count": 11,
      "outputs": []
    },
    {
      "cell_type": "code",
      "source": [
        ""
      ],
      "metadata": {
        "id": "kvDbzAKlAGSz"
      },
      "execution_count": 12,
      "outputs": []
    },
    {
      "cell_type": "code",
      "source": [
        "max_features = 20000\n",
        "embedding_dim = 128\n",
        "sequence_length = 500\n",
        "\n",
        "vectorize_layer = TextVectorization(\n",
        "    # standardize=custom_standardization,\n",
        "    max_tokens=max_features,\n",
        "    output_mode=\"int\",\n",
        "    output_sequence_length=sequence_length,\n",
        ")\n",
        "\n",
        "vectorize_layer.adapt(train_df[\"text\"].to_numpy())"
      ],
      "metadata": {
        "id": "6CXq1TOyUEtm"
      },
      "execution_count": 13,
      "outputs": []
    },
    {
      "cell_type": "code",
      "source": [
        "model = Sequential([\n",
        "            tf.keras.Input(shape=(1,), dtype=tf.string, name='text'),\n",
        "            vectorize_layer,\n",
        "            layers.Embedding(max_features, embedding_dim),\n",
        "            layers.Dropout(0.5),\n",
        "\n",
        "            # # Conv1D + global max pooling\n",
        "            layers.Conv1D(128, 7, padding=\"valid\", activation=\"relu\", strides=3),\n",
        "            layers.Conv1D(128, 7, padding=\"valid\", activation=\"relu\", strides=3),\n",
        "            layers.GlobalMaxPooling1D(),\n",
        "\n",
        "            # # We add a vanilla hidden layer:\n",
        "            layers.Dense(128, activation=\"relu\"),\n",
        "            layers.Dropout(0.5),\n",
        "\n",
        "            layers.Dense(4, activation=\"softmax\")#, name=\"predictions\")\n",
        "])\n"
      ],
      "metadata": {
        "id": "4OmX4AaX_9n9"
      },
      "execution_count": 14,
      "outputs": []
    },
    {
      "cell_type": "code",
      "source": [
        "model.summary()"
      ],
      "metadata": {
        "colab": {
          "base_uri": "https://localhost:8080/"
        },
        "id": "6J2mMo0PKmfk",
        "outputId": "4c8576f2-9c20-497f-fb46-3cd05eee0ba9"
      },
      "execution_count": 15,
      "outputs": [
        {
          "output_type": "stream",
          "name": "stdout",
          "text": [
            "Model: \"sequential\"\n",
            "_________________________________________________________________\n",
            " Layer (type)                Output Shape              Param #   \n",
            "=================================================================\n",
            " text_vectorization_1 (TextV  (None, 500)              0         \n",
            " ectorization)                                                   \n",
            "                                                                 \n",
            " embedding (Embedding)       (None, 500, 128)          2560000   \n",
            "                                                                 \n",
            " dropout (Dropout)           (None, 500, 128)          0         \n",
            "                                                                 \n",
            " conv1d (Conv1D)             (None, 165, 128)          114816    \n",
            "                                                                 \n",
            " conv1d_1 (Conv1D)           (None, 53, 128)           114816    \n",
            "                                                                 \n",
            " global_max_pooling1d (Globa  (None, 128)              0         \n",
            " lMaxPooling1D)                                                  \n",
            "                                                                 \n",
            " dense (Dense)               (None, 128)               16512     \n",
            "                                                                 \n",
            " dropout_1 (Dropout)         (None, 128)               0         \n",
            "                                                                 \n",
            " dense_1 (Dense)             (None, 4)                 516       \n",
            "                                                                 \n",
            "=================================================================\n",
            "Total params: 2,806,660\n",
            "Trainable params: 2,806,660\n",
            "Non-trainable params: 0\n",
            "_________________________________________________________________\n"
          ]
        }
      ]
    },
    {
      "cell_type": "code",
      "source": [
        ""
      ],
      "metadata": {
        "id": "E6Zyb2MLNXSS"
      },
      "execution_count": null,
      "outputs": []
    },
    {
      "cell_type": "code",
      "source": [
        "model.compile(loss=\"categorical_crossentropy\", \n",
        "              optimizer=\"adam\", \n",
        "              metrics=[\"accuracy\",tf.keras.metrics.AUC(name='prc', curve='PR')])"
      ],
      "metadata": {
        "id": "QWIsxdhAD34N"
      },
      "execution_count": 16,
      "outputs": []
    },
    {
      "cell_type": "markdown",
      "source": [
        ""
      ],
      "metadata": {
        "id": "m2clYIdARYH0"
      }
    },
    {
      "cell_type": "code",
      "source": [
        "epochs = 5\n",
        "\n",
        "# Fit the model using the train and test datasets.\n",
        "model.fit(train_df[\"text\"], y_train, epochs=epochs, batch_size=128, validation_split=0.2)"
      ],
      "metadata": {
        "colab": {
          "base_uri": "https://localhost:8080/"
        },
        "id": "OLSparLGEkAn",
        "outputId": "621df895-2df8-48d1-f717-bcc0eabbd807"
      },
      "execution_count": null,
      "outputs": [
        {
          "output_type": "stream",
          "name": "stdout",
          "text": [
            "Epoch 1/5\n",
            "61/61 [==============================] - 25s 371ms/step - loss: 0.0386 - accuracy: 0.9886 - prc: 0.9982 - val_loss: 0.8279 - val_accuracy: 0.8285 - val_prc: 0.8715\n",
            "Epoch 2/5\n",
            "61/61 [==============================] - 21s 350ms/step - loss: 0.0141 - accuracy: 0.9959 - prc: 0.9999 - val_loss: 0.8971 - val_accuracy: 0.8264 - val_prc: 0.8631\n",
            "Epoch 3/5\n",
            "61/61 [==============================] - 21s 350ms/step - loss: 0.0119 - accuracy: 0.9959 - prc: 0.9999 - val_loss: 1.0564 - val_accuracy: 0.8275 - val_prc: 0.8470\n",
            "Epoch 4/5\n",
            "61/61 [==============================] - 25s 408ms/step - loss: 0.0060 - accuracy: 0.9977 - prc: 1.0000 - val_loss: 1.0598 - val_accuracy: 0.8316 - val_prc: 0.8492\n",
            "Epoch 5/5\n",
            "61/61 [==============================] - 28s 465ms/step - loss: 0.0060 - accuracy: 0.9979 - prc: 1.0000 - val_loss: 1.0531 - val_accuracy: 0.8326 - val_prc: 0.8547\n"
          ]
        },
        {
          "output_type": "execute_result",
          "data": {
            "text/plain": [
              "<keras.callbacks.History at 0x7f3bcc091bd0>"
            ]
          },
          "metadata": {},
          "execution_count": 105
        }
      ]
    },
    {
      "cell_type": "code",
      "source": [
        "model.evaluate(test_df[\"text\"], y_test)"
      ],
      "metadata": {
        "colab": {
          "base_uri": "https://localhost:8080/"
        },
        "id": "qOwLEcRhEp76",
        "outputId": "01f0e2e3-961b-48bb-e159-8cbac88181ac"
      },
      "execution_count": null,
      "outputs": [
        {
          "output_type": "stream",
          "name": "stdout",
          "text": [
            "50/50 [==============================] - 3s 61ms/step - loss: 1.1917 - accuracy: 0.7924 - prc: 0.8225\n"
          ]
        },
        {
          "output_type": "execute_result",
          "data": {
            "text/plain": [
              "[1.1917134523391724, 0.7923809289932251, 0.8224775791168213]"
            ]
          },
          "metadata": {},
          "execution_count": 107
        }
      ]
    },
    {
      "cell_type": "code",
      "source": [
        "val_cts = train_df[\"target\"].value_counts().to_dict()"
      ],
      "metadata": {
        "id": "FcUEHd7OYfCT"
      },
      "execution_count": 21,
      "outputs": []
    },
    {
      "cell_type": "code",
      "source": [
        "val_cts"
      ],
      "metadata": {
        "colab": {
          "base_uri": "https://localhost:8080/"
        },
        "id": "yyTEXiUFUdNy",
        "outputId": "49847bd3-471b-4c29-d0fd-b40cabd7bc05"
      },
      "execution_count": 22,
      "outputs": [
        {
          "output_type": "execute_result",
          "data": {
            "text/plain": [
              "{0: 1530, 1: 1530, 2: 1530, 3: 250}"
            ]
          },
          "metadata": {},
          "execution_count": 22
        }
      ]
    },
    {
      "cell_type": "code",
      "source": [
        "weights = {0: 1, 1: 1, 2: 1, 3: 1503//250}"
      ],
      "metadata": {
        "id": "pkzV-GXnUdQX"
      },
      "execution_count": 23,
      "outputs": []
    },
    {
      "cell_type": "code",
      "source": [
        "weights"
      ],
      "metadata": {
        "colab": {
          "base_uri": "https://localhost:8080/"
        },
        "id": "Pt4N1prZUdSu",
        "outputId": "1fb344be-24a9-424c-eaa3-49e28f13783b"
      },
      "execution_count": 24,
      "outputs": [
        {
          "output_type": "execute_result",
          "data": {
            "text/plain": [
              "{0: 1, 1: 1, 2: 1, 3: 6}"
            ]
          },
          "metadata": {},
          "execution_count": 24
        }
      ]
    },
    {
      "cell_type": "code",
      "source": [
        "epochs = 25\n",
        "\n",
        "model = Sequential([\n",
        "            tf.keras.Input(shape=(1,), dtype=tf.string, name='text'),\n",
        "            vectorize_layer,\n",
        "            layers.Embedding(max_features, embedding_dim),\n",
        "            layers.Dropout(0.5),\n",
        "\n",
        "            # # Conv1D + global max pooling\n",
        "            layers.Conv1D(128, 7, padding=\"valid\", activation=\"relu\", strides=3),\n",
        "            layers.Conv1D(128, 7, padding=\"valid\", activation=\"relu\", strides=3),\n",
        "            layers.GlobalMaxPooling1D(),\n",
        "\n",
        "            # # We add a vanilla hidden layer:\n",
        "            layers.Dense(128, activation=\"relu\"),\n",
        "            layers.Dropout(0.5),\n",
        "\n",
        "            layers.Dense(4, activation=\"softmax\")\n",
        "])\n",
        "\n",
        "\n",
        "model.compile(loss=\"categorical_crossentropy\", \n",
        "              optimizer=\"adam\", \n",
        "              metrics=[\"accuracy\",tf.keras.metrics.AUC(name='prc', curve='PR')])\n",
        "\n",
        "early_stopping_cb = tf.keras.callbacks.EarlyStopping(patience=4, restore_best_weights=True)\n",
        "# Fit the model using the train and test datasets.\n",
        "weighted_history = model.fit(train_df[\"text\"], \n",
        "                              y_train, \n",
        "                              epochs=epochs, \n",
        "                              batch_size=32, \n",
        "                              class_weight=weights, \n",
        "                              validation_split=0.2,\n",
        "                              callbacks=[early_stopping_cb])"
      ],
      "metadata": {
        "colab": {
          "base_uri": "https://localhost:8080/"
        },
        "id": "NWkwE6_UUdYt",
        "outputId": "91cf1c7f-eb5f-4f69-a779-16f23a391852"
      },
      "execution_count": 32,
      "outputs": [
        {
          "output_type": "stream",
          "name": "stdout",
          "text": [
            "Epoch 1/25\n",
            "121/121 [==============================] - 25s 201ms/step - loss: 1.7592 - accuracy: 0.2603 - prc: 0.2548 - val_loss: 1.3808 - val_accuracy: 0.3337 - val_prc: 0.3334\n",
            "Epoch 2/25\n",
            "121/121 [==============================] - 23s 192ms/step - loss: 1.5994 - accuracy: 0.3789 - prc: 0.4226 - val_loss: 0.7258 - val_accuracy: 0.7624 - val_prc: 0.8095\n",
            "Epoch 3/25\n",
            "121/121 [==============================] - 29s 236ms/step - loss: 0.6112 - accuracy: 0.8156 - prc: 0.8890 - val_loss: 0.3854 - val_accuracy: 0.8667 - val_prc: 0.9321\n",
            "Epoch 4/25\n",
            "121/121 [==============================] - 24s 198ms/step - loss: 0.2133 - accuracy: 0.9360 - prc: 0.9785 - val_loss: 0.3958 - val_accuracy: 0.8781 - val_prc: 0.9331\n",
            "Epoch 5/25\n",
            "121/121 [==============================] - 23s 191ms/step - loss: 0.0800 - accuracy: 0.9786 - prc: 0.9952 - val_loss: 0.4804 - val_accuracy: 0.8729 - val_prc: 0.9230\n",
            "Epoch 6/25\n",
            "121/121 [==============================] - 25s 204ms/step - loss: 0.0348 - accuracy: 0.9894 - prc: 0.9994 - val_loss: 0.5277 - val_accuracy: 0.8750 - val_prc: 0.9206\n",
            "Epoch 7/25\n",
            "121/121 [==============================] - 23s 187ms/step - loss: 0.0186 - accuracy: 0.9959 - prc: 0.9993 - val_loss: 0.5968 - val_accuracy: 0.8709 - val_prc: 0.9106\n"
          ]
        }
      ]
    },
    {
      "cell_type": "code",
      "source": [
        "weighted_history_df = pd.DataFrame(weighted_history.history)"
      ],
      "metadata": {
        "id": "I5PpHYZVYk-p"
      },
      "execution_count": 38,
      "outputs": []
    },
    {
      "cell_type": "code",
      "source": [
        "weighted_history_df.plot(figsize=(8,5))\n",
        "plt.grid(True)\n",
        "plt.gca().set_ylim(0,1)\n",
        "plt.show()"
      ],
      "metadata": {
        "colab": {
          "base_uri": "https://localhost:8080/",
          "height": 324
        },
        "id": "cx7f8YU1YlQ2",
        "outputId": "7bf5c0bc-3253-443e-df51-639609a983ce"
      },
      "execution_count": 43,
      "outputs": [
        {
          "output_type": "display_data",
          "data": {
            "image/png": "[encoded data removed]",
            "text/plain": [
              "<Figure size 576x360 with 1 Axes>"
            ]
          },
          "metadata": {
            "needs_background": "light"
          }
        }
      ]
    },
    {
      "cell_type": "code",
      "source": [
        ""
      ],
      "metadata": {
        "id": "G8STjVOXY_YU"
      },
      "execution_count": null,
      "outputs": []
    }
  ]
}